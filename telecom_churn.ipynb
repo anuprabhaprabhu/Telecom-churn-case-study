{
 "cells": [
  {
   "cell_type": "markdown",
   "metadata": {},
   "source": [
    "# Telecom churn - Case study\n",
    "    Team members:\n",
    "        Anuprabha and Arvind Girish"
   ]
  },
  {
   "cell_type": "markdown",
   "metadata": {},
   "source": [
    "#### Business objective :\n",
    "    1.Find customers who are likely to churn\n",
    "    2.Identity churn features"
   ]
  },
  {
   "cell_type": "markdown",
   "metadata": {},
   "source": [
    "#### steps followed:\n",
    "    1. data processing\n",
    "    2. Driving new feature and tagging customers\n",
    "    3. exploratory data analysis\n",
    "    4. Random forest - to find feature importance\n",
    "    5. Feature scaling\n",
    "    6. smote\n",
    "    7. PCA (with smote and without smote)\n",
    "    8. model building (with smote and without smote)\n",
    "        Logistic regression , Decision tree ,Random forest , Adaboost , Gradientboost\n",
    "    9. Model comparison"
   ]
  },
  {
   "cell_type": "code",
   "execution_count": 1,
   "metadata": {},
   "outputs": [],
   "source": [
    "#import lib\n",
    "import pandas as pd\n",
    "import numpy as np\n",
    "\n",
    "pd.set_option('display.max_columns', None)\n",
    "pd.set_option('display.max_rows', None)\n",
    "\n",
    "import matplotlib.pyplot as plt\n",
    "import seaborn as sns\n",
    "\n",
    "from sklearn.model_selection import train_test_split\n",
    "\n",
    "from imblearn.combine import SMOTETomek\n",
    "from collections import Counter\n",
    "\n",
    "from sklearn.preprocessing import MinMaxScaler\n",
    "\n",
    "from sklearn.decomposition import PCA\n",
    "from sklearn.decomposition import IncrementalPCA\n",
    "from sklearn.linear_model import LogisticRegression\n",
    "\n",
    "from sklearn.tree import DecisionTreeClassifier\n",
    "from sklearn.model_selection import GridSearchCV\n",
    "from sklearn.ensemble import RandomForestClassifier\n",
    "from sklearn.ensemble import AdaBoostClassifier\n",
    "from sklearn.ensemble import GradientBoostingClassifier\n",
    "from sklearn.model_selection import RandomizedSearchCV\n",
    "\n",
    "from sklearn.metrics import accuracy_score, f1_score, classification_report,precision_score,recall_score,confusion_matrix, roc_auc_score, roc_curve"
   ]
  },
  {
   "cell_type": "code",
   "execution_count": 2,
   "metadata": {},
   "outputs": [
    {
     "data": {
      "text/html": [
       "<div>\n",
       "<style scoped>\n",
       "    .dataframe tbody tr th:only-of-type {\n",
       "        vertical-align: middle;\n",
       "    }\n",
       "\n",
       "    .dataframe tbody tr th {\n",
       "        vertical-align: top;\n",
       "    }\n",
       "\n",
       "    .dataframe thead th {\n",
       "        text-align: right;\n",
       "    }\n",
       "</style>\n",
       "<table border=\"1\" class=\"dataframe\">\n",
       "  <thead>\n",
       "    <tr style=\"text-align: right;\">\n",
       "      <th></th>\n",
       "      <th>mobile_number</th>\n",
       "      <th>circle_id</th>\n",
       "      <th>loc_og_t2o_mou</th>\n",
       "      <th>std_og_t2o_mou</th>\n",
       "      <th>loc_ic_t2o_mou</th>\n",
       "      <th>last_date_of_month_6</th>\n",
       "      <th>last_date_of_month_7</th>\n",
       "      <th>last_date_of_month_8</th>\n",
       "      <th>last_date_of_month_9</th>\n",
       "      <th>arpu_6</th>\n",
       "      <th>arpu_7</th>\n",
       "      <th>arpu_8</th>\n",
       "      <th>arpu_9</th>\n",
       "      <th>onnet_mou_6</th>\n",
       "      <th>onnet_mou_7</th>\n",
       "      <th>onnet_mou_8</th>\n",
       "      <th>onnet_mou_9</th>\n",
       "      <th>offnet_mou_6</th>\n",
       "      <th>offnet_mou_7</th>\n",
       "      <th>offnet_mou_8</th>\n",
       "      <th>offnet_mou_9</th>\n",
       "      <th>roam_ic_mou_6</th>\n",
       "      <th>roam_ic_mou_7</th>\n",
       "      <th>roam_ic_mou_8</th>\n",
       "      <th>roam_ic_mou_9</th>\n",
       "      <th>roam_og_mou_6</th>\n",
       "      <th>roam_og_mou_7</th>\n",
       "      <th>roam_og_mou_8</th>\n",
       "      <th>roam_og_mou_9</th>\n",
       "      <th>loc_og_t2t_mou_6</th>\n",
       "      <th>loc_og_t2t_mou_7</th>\n",
       "      <th>loc_og_t2t_mou_8</th>\n",
       "      <th>loc_og_t2t_mou_9</th>\n",
       "      <th>loc_og_t2m_mou_6</th>\n",
       "      <th>loc_og_t2m_mou_7</th>\n",
       "      <th>loc_og_t2m_mou_8</th>\n",
       "      <th>loc_og_t2m_mou_9</th>\n",
       "      <th>loc_og_t2f_mou_6</th>\n",
       "      <th>loc_og_t2f_mou_7</th>\n",
       "      <th>loc_og_t2f_mou_8</th>\n",
       "      <th>loc_og_t2f_mou_9</th>\n",
       "      <th>loc_og_t2c_mou_6</th>\n",
       "      <th>loc_og_t2c_mou_7</th>\n",
       "      <th>loc_og_t2c_mou_8</th>\n",
       "      <th>loc_og_t2c_mou_9</th>\n",
       "      <th>loc_og_mou_6</th>\n",
       "      <th>loc_og_mou_7</th>\n",
       "      <th>loc_og_mou_8</th>\n",
       "      <th>loc_og_mou_9</th>\n",
       "      <th>std_og_t2t_mou_6</th>\n",
       "      <th>std_og_t2t_mou_7</th>\n",
       "      <th>std_og_t2t_mou_8</th>\n",
       "      <th>std_og_t2t_mou_9</th>\n",
       "      <th>std_og_t2m_mou_6</th>\n",
       "      <th>std_og_t2m_mou_7</th>\n",
       "      <th>std_og_t2m_mou_8</th>\n",
       "      <th>std_og_t2m_mou_9</th>\n",
       "      <th>std_og_t2f_mou_6</th>\n",
       "      <th>std_og_t2f_mou_7</th>\n",
       "      <th>std_og_t2f_mou_8</th>\n",
       "      <th>std_og_t2f_mou_9</th>\n",
       "      <th>std_og_t2c_mou_6</th>\n",
       "      <th>std_og_t2c_mou_7</th>\n",
       "      <th>std_og_t2c_mou_8</th>\n",
       "      <th>std_og_t2c_mou_9</th>\n",
       "      <th>std_og_mou_6</th>\n",
       "      <th>std_og_mou_7</th>\n",
       "      <th>std_og_mou_8</th>\n",
       "      <th>std_og_mou_9</th>\n",
       "      <th>isd_og_mou_6</th>\n",
       "      <th>isd_og_mou_7</th>\n",
       "      <th>isd_og_mou_8</th>\n",
       "      <th>isd_og_mou_9</th>\n",
       "      <th>spl_og_mou_6</th>\n",
       "      <th>spl_og_mou_7</th>\n",
       "      <th>spl_og_mou_8</th>\n",
       "      <th>spl_og_mou_9</th>\n",
       "      <th>og_others_6</th>\n",
       "      <th>og_others_7</th>\n",
       "      <th>og_others_8</th>\n",
       "      <th>og_others_9</th>\n",
       "      <th>total_og_mou_6</th>\n",
       "      <th>total_og_mou_7</th>\n",
       "      <th>total_og_mou_8</th>\n",
       "      <th>total_og_mou_9</th>\n",
       "      <th>loc_ic_t2t_mou_6</th>\n",
       "      <th>loc_ic_t2t_mou_7</th>\n",
       "      <th>loc_ic_t2t_mou_8</th>\n",
       "      <th>loc_ic_t2t_mou_9</th>\n",
       "      <th>loc_ic_t2m_mou_6</th>\n",
       "      <th>loc_ic_t2m_mou_7</th>\n",
       "      <th>loc_ic_t2m_mou_8</th>\n",
       "      <th>loc_ic_t2m_mou_9</th>\n",
       "      <th>loc_ic_t2f_mou_6</th>\n",
       "      <th>loc_ic_t2f_mou_7</th>\n",
       "      <th>loc_ic_t2f_mou_8</th>\n",
       "      <th>loc_ic_t2f_mou_9</th>\n",
       "      <th>loc_ic_mou_6</th>\n",
       "      <th>loc_ic_mou_7</th>\n",
       "      <th>loc_ic_mou_8</th>\n",
       "      <th>loc_ic_mou_9</th>\n",
       "      <th>std_ic_t2t_mou_6</th>\n",
       "      <th>std_ic_t2t_mou_7</th>\n",
       "      <th>std_ic_t2t_mou_8</th>\n",
       "      <th>std_ic_t2t_mou_9</th>\n",
       "      <th>std_ic_t2m_mou_6</th>\n",
       "      <th>std_ic_t2m_mou_7</th>\n",
       "      <th>std_ic_t2m_mou_8</th>\n",
       "      <th>std_ic_t2m_mou_9</th>\n",
       "      <th>std_ic_t2f_mou_6</th>\n",
       "      <th>std_ic_t2f_mou_7</th>\n",
       "      <th>std_ic_t2f_mou_8</th>\n",
       "      <th>std_ic_t2f_mou_9</th>\n",
       "      <th>std_ic_t2o_mou_6</th>\n",
       "      <th>std_ic_t2o_mou_7</th>\n",
       "      <th>std_ic_t2o_mou_8</th>\n",
       "      <th>std_ic_t2o_mou_9</th>\n",
       "      <th>std_ic_mou_6</th>\n",
       "      <th>std_ic_mou_7</th>\n",
       "      <th>std_ic_mou_8</th>\n",
       "      <th>std_ic_mou_9</th>\n",
       "      <th>total_ic_mou_6</th>\n",
       "      <th>total_ic_mou_7</th>\n",
       "      <th>total_ic_mou_8</th>\n",
       "      <th>total_ic_mou_9</th>\n",
       "      <th>spl_ic_mou_6</th>\n",
       "      <th>spl_ic_mou_7</th>\n",
       "      <th>spl_ic_mou_8</th>\n",
       "      <th>spl_ic_mou_9</th>\n",
       "      <th>isd_ic_mou_6</th>\n",
       "      <th>isd_ic_mou_7</th>\n",
       "      <th>isd_ic_mou_8</th>\n",
       "      <th>isd_ic_mou_9</th>\n",
       "      <th>ic_others_6</th>\n",
       "      <th>ic_others_7</th>\n",
       "      <th>ic_others_8</th>\n",
       "      <th>ic_others_9</th>\n",
       "      <th>total_rech_num_6</th>\n",
       "      <th>total_rech_num_7</th>\n",
       "      <th>total_rech_num_8</th>\n",
       "      <th>total_rech_num_9</th>\n",
       "      <th>total_rech_amt_6</th>\n",
       "      <th>total_rech_amt_7</th>\n",
       "      <th>total_rech_amt_8</th>\n",
       "      <th>total_rech_amt_9</th>\n",
       "      <th>max_rech_amt_6</th>\n",
       "      <th>max_rech_amt_7</th>\n",
       "      <th>max_rech_amt_8</th>\n",
       "      <th>max_rech_amt_9</th>\n",
       "      <th>date_of_last_rech_6</th>\n",
       "      <th>date_of_last_rech_7</th>\n",
       "      <th>date_of_last_rech_8</th>\n",
       "      <th>date_of_last_rech_9</th>\n",
       "      <th>last_day_rch_amt_6</th>\n",
       "      <th>last_day_rch_amt_7</th>\n",
       "      <th>last_day_rch_amt_8</th>\n",
       "      <th>last_day_rch_amt_9</th>\n",
       "      <th>date_of_last_rech_data_6</th>\n",
       "      <th>date_of_last_rech_data_7</th>\n",
       "      <th>date_of_last_rech_data_8</th>\n",
       "      <th>date_of_last_rech_data_9</th>\n",
       "      <th>total_rech_data_6</th>\n",
       "      <th>total_rech_data_7</th>\n",
       "      <th>total_rech_data_8</th>\n",
       "      <th>total_rech_data_9</th>\n",
       "      <th>max_rech_data_6</th>\n",
       "      <th>max_rech_data_7</th>\n",
       "      <th>max_rech_data_8</th>\n",
       "      <th>max_rech_data_9</th>\n",
       "      <th>count_rech_2g_6</th>\n",
       "      <th>count_rech_2g_7</th>\n",
       "      <th>count_rech_2g_8</th>\n",
       "      <th>count_rech_2g_9</th>\n",
       "      <th>count_rech_3g_6</th>\n",
       "      <th>count_rech_3g_7</th>\n",
       "      <th>count_rech_3g_8</th>\n",
       "      <th>count_rech_3g_9</th>\n",
       "      <th>av_rech_amt_data_6</th>\n",
       "      <th>av_rech_amt_data_7</th>\n",
       "      <th>av_rech_amt_data_8</th>\n",
       "      <th>av_rech_amt_data_9</th>\n",
       "      <th>vol_2g_mb_6</th>\n",
       "      <th>vol_2g_mb_7</th>\n",
       "      <th>vol_2g_mb_8</th>\n",
       "      <th>vol_2g_mb_9</th>\n",
       "      <th>vol_3g_mb_6</th>\n",
       "      <th>vol_3g_mb_7</th>\n",
       "      <th>vol_3g_mb_8</th>\n",
       "      <th>vol_3g_mb_9</th>\n",
       "      <th>arpu_3g_6</th>\n",
       "      <th>arpu_3g_7</th>\n",
       "      <th>arpu_3g_8</th>\n",
       "      <th>arpu_3g_9</th>\n",
       "      <th>arpu_2g_6</th>\n",
       "      <th>arpu_2g_7</th>\n",
       "      <th>arpu_2g_8</th>\n",
       "      <th>arpu_2g_9</th>\n",
       "      <th>night_pck_user_6</th>\n",
       "      <th>night_pck_user_7</th>\n",
       "      <th>night_pck_user_8</th>\n",
       "      <th>night_pck_user_9</th>\n",
       "      <th>monthly_2g_6</th>\n",
       "      <th>monthly_2g_7</th>\n",
       "      <th>monthly_2g_8</th>\n",
       "      <th>monthly_2g_9</th>\n",
       "      <th>sachet_2g_6</th>\n",
       "      <th>sachet_2g_7</th>\n",
       "      <th>sachet_2g_8</th>\n",
       "      <th>sachet_2g_9</th>\n",
       "      <th>monthly_3g_6</th>\n",
       "      <th>monthly_3g_7</th>\n",
       "      <th>monthly_3g_8</th>\n",
       "      <th>monthly_3g_9</th>\n",
       "      <th>sachet_3g_6</th>\n",
       "      <th>sachet_3g_7</th>\n",
       "      <th>sachet_3g_8</th>\n",
       "      <th>sachet_3g_9</th>\n",
       "      <th>fb_user_6</th>\n",
       "      <th>fb_user_7</th>\n",
       "      <th>fb_user_8</th>\n",
       "      <th>fb_user_9</th>\n",
       "      <th>aon</th>\n",
       "      <th>aug_vbc_3g</th>\n",
       "      <th>jul_vbc_3g</th>\n",
       "      <th>jun_vbc_3g</th>\n",
       "      <th>sep_vbc_3g</th>\n",
       "    </tr>\n",
       "  </thead>\n",
       "  <tbody>\n",
       "    <tr>\n",
       "      <th>0</th>\n",
       "      <td>7000842753</td>\n",
       "      <td>109</td>\n",
       "      <td>0.0</td>\n",
       "      <td>0.0</td>\n",
       "      <td>0.0</td>\n",
       "      <td>6/30/2014</td>\n",
       "      <td>7/31/2014</td>\n",
       "      <td>8/31/2014</td>\n",
       "      <td>9/30/2014</td>\n",
       "      <td>197.385</td>\n",
       "      <td>214.816</td>\n",
       "      <td>213.803</td>\n",
       "      <td>21.100</td>\n",
       "      <td>NaN</td>\n",
       "      <td>NaN</td>\n",
       "      <td>0.00</td>\n",
       "      <td>NaN</td>\n",
       "      <td>NaN</td>\n",
       "      <td>NaN</td>\n",
       "      <td>0.00</td>\n",
       "      <td>NaN</td>\n",
       "      <td>NaN</td>\n",
       "      <td>NaN</td>\n",
       "      <td>0.00</td>\n",
       "      <td>NaN</td>\n",
       "      <td>NaN</td>\n",
       "      <td>NaN</td>\n",
       "      <td>0.00</td>\n",
       "      <td>NaN</td>\n",
       "      <td>NaN</td>\n",
       "      <td>NaN</td>\n",
       "      <td>0.00</td>\n",
       "      <td>NaN</td>\n",
       "      <td>NaN</td>\n",
       "      <td>NaN</td>\n",
       "      <td>0.00</td>\n",
       "      <td>NaN</td>\n",
       "      <td>NaN</td>\n",
       "      <td>NaN</td>\n",
       "      <td>0.00</td>\n",
       "      <td>NaN</td>\n",
       "      <td>NaN</td>\n",
       "      <td>NaN</td>\n",
       "      <td>0.00</td>\n",
       "      <td>NaN</td>\n",
       "      <td>NaN</td>\n",
       "      <td>NaN</td>\n",
       "      <td>0.00</td>\n",
       "      <td>NaN</td>\n",
       "      <td>NaN</td>\n",
       "      <td>NaN</td>\n",
       "      <td>0.00</td>\n",
       "      <td>NaN</td>\n",
       "      <td>NaN</td>\n",
       "      <td>NaN</td>\n",
       "      <td>0.00</td>\n",
       "      <td>NaN</td>\n",
       "      <td>NaN</td>\n",
       "      <td>NaN</td>\n",
       "      <td>0.00</td>\n",
       "      <td>NaN</td>\n",
       "      <td>NaN</td>\n",
       "      <td>NaN</td>\n",
       "      <td>0.0</td>\n",
       "      <td>NaN</td>\n",
       "      <td>NaN</td>\n",
       "      <td>NaN</td>\n",
       "      <td>0.00</td>\n",
       "      <td>NaN</td>\n",
       "      <td>NaN</td>\n",
       "      <td>NaN</td>\n",
       "      <td>0.0</td>\n",
       "      <td>NaN</td>\n",
       "      <td>NaN</td>\n",
       "      <td>NaN</td>\n",
       "      <td>0.00</td>\n",
       "      <td>NaN</td>\n",
       "      <td>NaN</td>\n",
       "      <td>NaN</td>\n",
       "      <td>0.0</td>\n",
       "      <td>NaN</td>\n",
       "      <td>0.00</td>\n",
       "      <td>0.00</td>\n",
       "      <td>0.00</td>\n",
       "      <td>0.00</td>\n",
       "      <td>NaN</td>\n",
       "      <td>NaN</td>\n",
       "      <td>0.16</td>\n",
       "      <td>NaN</td>\n",
       "      <td>NaN</td>\n",
       "      <td>NaN</td>\n",
       "      <td>4.13</td>\n",
       "      <td>NaN</td>\n",
       "      <td>NaN</td>\n",
       "      <td>NaN</td>\n",
       "      <td>1.15</td>\n",
       "      <td>NaN</td>\n",
       "      <td>NaN</td>\n",
       "      <td>NaN</td>\n",
       "      <td>5.44</td>\n",
       "      <td>NaN</td>\n",
       "      <td>NaN</td>\n",
       "      <td>NaN</td>\n",
       "      <td>0.00</td>\n",
       "      <td>NaN</td>\n",
       "      <td>NaN</td>\n",
       "      <td>NaN</td>\n",
       "      <td>0.00</td>\n",
       "      <td>NaN</td>\n",
       "      <td>NaN</td>\n",
       "      <td>NaN</td>\n",
       "      <td>0.00</td>\n",
       "      <td>NaN</td>\n",
       "      <td>NaN</td>\n",
       "      <td>NaN</td>\n",
       "      <td>0.0</td>\n",
       "      <td>NaN</td>\n",
       "      <td>NaN</td>\n",
       "      <td>NaN</td>\n",
       "      <td>0.00</td>\n",
       "      <td>NaN</td>\n",
       "      <td>0.00</td>\n",
       "      <td>0.00</td>\n",
       "      <td>5.44</td>\n",
       "      <td>0.00</td>\n",
       "      <td>NaN</td>\n",
       "      <td>NaN</td>\n",
       "      <td>0.0</td>\n",
       "      <td>NaN</td>\n",
       "      <td>NaN</td>\n",
       "      <td>NaN</td>\n",
       "      <td>0.0</td>\n",
       "      <td>NaN</td>\n",
       "      <td>NaN</td>\n",
       "      <td>NaN</td>\n",
       "      <td>0.0</td>\n",
       "      <td>NaN</td>\n",
       "      <td>4</td>\n",
       "      <td>3</td>\n",
       "      <td>2</td>\n",
       "      <td>6</td>\n",
       "      <td>362</td>\n",
       "      <td>252</td>\n",
       "      <td>252</td>\n",
       "      <td>0</td>\n",
       "      <td>252</td>\n",
       "      <td>252</td>\n",
       "      <td>252</td>\n",
       "      <td>0</td>\n",
       "      <td>6/21/2014</td>\n",
       "      <td>7/16/2014</td>\n",
       "      <td>8/8/2014</td>\n",
       "      <td>9/28/2014</td>\n",
       "      <td>252</td>\n",
       "      <td>252</td>\n",
       "      <td>252</td>\n",
       "      <td>0</td>\n",
       "      <td>6/21/2014</td>\n",
       "      <td>7/16/2014</td>\n",
       "      <td>8/8/2014</td>\n",
       "      <td>NaN</td>\n",
       "      <td>1.0</td>\n",
       "      <td>1.0</td>\n",
       "      <td>1.0</td>\n",
       "      <td>NaN</td>\n",
       "      <td>252.0</td>\n",
       "      <td>252.0</td>\n",
       "      <td>252.0</td>\n",
       "      <td>NaN</td>\n",
       "      <td>0.0</td>\n",
       "      <td>0.0</td>\n",
       "      <td>0.0</td>\n",
       "      <td>NaN</td>\n",
       "      <td>1.0</td>\n",
       "      <td>1.0</td>\n",
       "      <td>1.0</td>\n",
       "      <td>NaN</td>\n",
       "      <td>252.0</td>\n",
       "      <td>252.0</td>\n",
       "      <td>252.0</td>\n",
       "      <td>NaN</td>\n",
       "      <td>30.13</td>\n",
       "      <td>1.32</td>\n",
       "      <td>5.75</td>\n",
       "      <td>0.0</td>\n",
       "      <td>83.57</td>\n",
       "      <td>150.76</td>\n",
       "      <td>109.61</td>\n",
       "      <td>0.00</td>\n",
       "      <td>212.17</td>\n",
       "      <td>212.17</td>\n",
       "      <td>212.17</td>\n",
       "      <td>NaN</td>\n",
       "      <td>212.17</td>\n",
       "      <td>212.17</td>\n",
       "      <td>212.17</td>\n",
       "      <td>NaN</td>\n",
       "      <td>0.0</td>\n",
       "      <td>0.0</td>\n",
       "      <td>0.0</td>\n",
       "      <td>NaN</td>\n",
       "      <td>0</td>\n",
       "      <td>0</td>\n",
       "      <td>0</td>\n",
       "      <td>0</td>\n",
       "      <td>0</td>\n",
       "      <td>0</td>\n",
       "      <td>0</td>\n",
       "      <td>0</td>\n",
       "      <td>1</td>\n",
       "      <td>1</td>\n",
       "      <td>1</td>\n",
       "      <td>0</td>\n",
       "      <td>0</td>\n",
       "      <td>0</td>\n",
       "      <td>0</td>\n",
       "      <td>0</td>\n",
       "      <td>1.0</td>\n",
       "      <td>1.0</td>\n",
       "      <td>1.0</td>\n",
       "      <td>NaN</td>\n",
       "      <td>968</td>\n",
       "      <td>30.4</td>\n",
       "      <td>0.0</td>\n",
       "      <td>101.20</td>\n",
       "      <td>3.58</td>\n",
       "    </tr>\n",
       "    <tr>\n",
       "      <th>1</th>\n",
       "      <td>7001865778</td>\n",
       "      <td>109</td>\n",
       "      <td>0.0</td>\n",
       "      <td>0.0</td>\n",
       "      <td>0.0</td>\n",
       "      <td>6/30/2014</td>\n",
       "      <td>7/31/2014</td>\n",
       "      <td>8/31/2014</td>\n",
       "      <td>9/30/2014</td>\n",
       "      <td>34.047</td>\n",
       "      <td>355.074</td>\n",
       "      <td>268.321</td>\n",
       "      <td>86.285</td>\n",
       "      <td>24.11</td>\n",
       "      <td>78.68</td>\n",
       "      <td>7.68</td>\n",
       "      <td>18.34</td>\n",
       "      <td>15.74</td>\n",
       "      <td>99.84</td>\n",
       "      <td>304.76</td>\n",
       "      <td>53.76</td>\n",
       "      <td>0.0</td>\n",
       "      <td>0.00</td>\n",
       "      <td>0.00</td>\n",
       "      <td>0.00</td>\n",
       "      <td>0.0</td>\n",
       "      <td>0.00</td>\n",
       "      <td>0.00</td>\n",
       "      <td>0.00</td>\n",
       "      <td>23.88</td>\n",
       "      <td>74.56</td>\n",
       "      <td>7.68</td>\n",
       "      <td>18.34</td>\n",
       "      <td>11.51</td>\n",
       "      <td>75.94</td>\n",
       "      <td>291.86</td>\n",
       "      <td>53.76</td>\n",
       "      <td>0.00</td>\n",
       "      <td>0.00</td>\n",
       "      <td>0.00</td>\n",
       "      <td>0.00</td>\n",
       "      <td>0.0</td>\n",
       "      <td>2.91</td>\n",
       "      <td>0.00</td>\n",
       "      <td>0.00</td>\n",
       "      <td>35.39</td>\n",
       "      <td>150.51</td>\n",
       "      <td>299.54</td>\n",
       "      <td>72.11</td>\n",
       "      <td>0.23</td>\n",
       "      <td>4.11</td>\n",
       "      <td>0.00</td>\n",
       "      <td>0.00</td>\n",
       "      <td>0.00</td>\n",
       "      <td>0.46</td>\n",
       "      <td>0.13</td>\n",
       "      <td>0.00</td>\n",
       "      <td>0.00</td>\n",
       "      <td>0.00</td>\n",
       "      <td>0.00</td>\n",
       "      <td>0.0</td>\n",
       "      <td>0.0</td>\n",
       "      <td>0.0</td>\n",
       "      <td>0.0</td>\n",
       "      <td>0.0</td>\n",
       "      <td>0.23</td>\n",
       "      <td>4.58</td>\n",
       "      <td>0.13</td>\n",
       "      <td>0.00</td>\n",
       "      <td>0.0</td>\n",
       "      <td>0.0</td>\n",
       "      <td>0.0</td>\n",
       "      <td>0.0</td>\n",
       "      <td>4.68</td>\n",
       "      <td>23.43</td>\n",
       "      <td>12.76</td>\n",
       "      <td>0.00</td>\n",
       "      <td>0.00</td>\n",
       "      <td>0.0</td>\n",
       "      <td>0.0</td>\n",
       "      <td>0.0</td>\n",
       "      <td>40.31</td>\n",
       "      <td>178.53</td>\n",
       "      <td>312.44</td>\n",
       "      <td>72.11</td>\n",
       "      <td>1.61</td>\n",
       "      <td>29.91</td>\n",
       "      <td>29.23</td>\n",
       "      <td>116.09</td>\n",
       "      <td>17.48</td>\n",
       "      <td>65.38</td>\n",
       "      <td>375.58</td>\n",
       "      <td>56.93</td>\n",
       "      <td>0.00</td>\n",
       "      <td>8.93</td>\n",
       "      <td>3.61</td>\n",
       "      <td>0.00</td>\n",
       "      <td>19.09</td>\n",
       "      <td>104.23</td>\n",
       "      <td>408.43</td>\n",
       "      <td>173.03</td>\n",
       "      <td>0.00</td>\n",
       "      <td>0.00</td>\n",
       "      <td>2.35</td>\n",
       "      <td>0.00</td>\n",
       "      <td>5.90</td>\n",
       "      <td>0.00</td>\n",
       "      <td>12.49</td>\n",
       "      <td>15.01</td>\n",
       "      <td>0.00</td>\n",
       "      <td>0.00</td>\n",
       "      <td>0.00</td>\n",
       "      <td>0.00</td>\n",
       "      <td>0.0</td>\n",
       "      <td>0.0</td>\n",
       "      <td>0.0</td>\n",
       "      <td>0.0</td>\n",
       "      <td>5.90</td>\n",
       "      <td>0.00</td>\n",
       "      <td>14.84</td>\n",
       "      <td>15.01</td>\n",
       "      <td>26.83</td>\n",
       "      <td>104.23</td>\n",
       "      <td>423.28</td>\n",
       "      <td>188.04</td>\n",
       "      <td>0.00</td>\n",
       "      <td>0.0</td>\n",
       "      <td>0.0</td>\n",
       "      <td>0.00</td>\n",
       "      <td>1.83</td>\n",
       "      <td>0.00</td>\n",
       "      <td>0.0</td>\n",
       "      <td>0.00</td>\n",
       "      <td>0.00</td>\n",
       "      <td>0.00</td>\n",
       "      <td>0.0</td>\n",
       "      <td>0.00</td>\n",
       "      <td>4</td>\n",
       "      <td>9</td>\n",
       "      <td>11</td>\n",
       "      <td>5</td>\n",
       "      <td>74</td>\n",
       "      <td>384</td>\n",
       "      <td>283</td>\n",
       "      <td>121</td>\n",
       "      <td>44</td>\n",
       "      <td>154</td>\n",
       "      <td>65</td>\n",
       "      <td>50</td>\n",
       "      <td>6/29/2014</td>\n",
       "      <td>7/31/2014</td>\n",
       "      <td>8/28/2014</td>\n",
       "      <td>9/30/2014</td>\n",
       "      <td>44</td>\n",
       "      <td>23</td>\n",
       "      <td>30</td>\n",
       "      <td>0</td>\n",
       "      <td>NaN</td>\n",
       "      <td>7/25/2014</td>\n",
       "      <td>8/10/2014</td>\n",
       "      <td>NaN</td>\n",
       "      <td>NaN</td>\n",
       "      <td>1.0</td>\n",
       "      <td>2.0</td>\n",
       "      <td>NaN</td>\n",
       "      <td>NaN</td>\n",
       "      <td>154.0</td>\n",
       "      <td>25.0</td>\n",
       "      <td>NaN</td>\n",
       "      <td>NaN</td>\n",
       "      <td>1.0</td>\n",
       "      <td>2.0</td>\n",
       "      <td>NaN</td>\n",
       "      <td>NaN</td>\n",
       "      <td>0.0</td>\n",
       "      <td>0.0</td>\n",
       "      <td>NaN</td>\n",
       "      <td>NaN</td>\n",
       "      <td>154.0</td>\n",
       "      <td>50.0</td>\n",
       "      <td>NaN</td>\n",
       "      <td>0.00</td>\n",
       "      <td>108.07</td>\n",
       "      <td>365.47</td>\n",
       "      <td>0.0</td>\n",
       "      <td>0.00</td>\n",
       "      <td>0.00</td>\n",
       "      <td>0.00</td>\n",
       "      <td>0.00</td>\n",
       "      <td>NaN</td>\n",
       "      <td>0.00</td>\n",
       "      <td>0.00</td>\n",
       "      <td>NaN</td>\n",
       "      <td>NaN</td>\n",
       "      <td>28.61</td>\n",
       "      <td>7.60</td>\n",
       "      <td>NaN</td>\n",
       "      <td>NaN</td>\n",
       "      <td>0.0</td>\n",
       "      <td>0.0</td>\n",
       "      <td>NaN</td>\n",
       "      <td>0</td>\n",
       "      <td>1</td>\n",
       "      <td>0</td>\n",
       "      <td>0</td>\n",
       "      <td>0</td>\n",
       "      <td>0</td>\n",
       "      <td>2</td>\n",
       "      <td>0</td>\n",
       "      <td>0</td>\n",
       "      <td>0</td>\n",
       "      <td>0</td>\n",
       "      <td>0</td>\n",
       "      <td>0</td>\n",
       "      <td>0</td>\n",
       "      <td>0</td>\n",
       "      <td>0</td>\n",
       "      <td>NaN</td>\n",
       "      <td>1.0</td>\n",
       "      <td>1.0</td>\n",
       "      <td>NaN</td>\n",
       "      <td>1006</td>\n",
       "      <td>0.0</td>\n",
       "      <td>0.0</td>\n",
       "      <td>0.00</td>\n",
       "      <td>0.00</td>\n",
       "    </tr>\n",
       "    <tr>\n",
       "      <th>2</th>\n",
       "      <td>7001625959</td>\n",
       "      <td>109</td>\n",
       "      <td>0.0</td>\n",
       "      <td>0.0</td>\n",
       "      <td>0.0</td>\n",
       "      <td>6/30/2014</td>\n",
       "      <td>7/31/2014</td>\n",
       "      <td>8/31/2014</td>\n",
       "      <td>9/30/2014</td>\n",
       "      <td>167.690</td>\n",
       "      <td>189.058</td>\n",
       "      <td>210.226</td>\n",
       "      <td>290.714</td>\n",
       "      <td>11.54</td>\n",
       "      <td>55.24</td>\n",
       "      <td>37.26</td>\n",
       "      <td>74.81</td>\n",
       "      <td>143.33</td>\n",
       "      <td>220.59</td>\n",
       "      <td>208.36</td>\n",
       "      <td>118.91</td>\n",
       "      <td>0.0</td>\n",
       "      <td>0.00</td>\n",
       "      <td>0.00</td>\n",
       "      <td>38.49</td>\n",
       "      <td>0.0</td>\n",
       "      <td>0.00</td>\n",
       "      <td>0.00</td>\n",
       "      <td>70.94</td>\n",
       "      <td>7.19</td>\n",
       "      <td>28.74</td>\n",
       "      <td>13.58</td>\n",
       "      <td>14.39</td>\n",
       "      <td>29.34</td>\n",
       "      <td>16.86</td>\n",
       "      <td>38.46</td>\n",
       "      <td>28.16</td>\n",
       "      <td>24.11</td>\n",
       "      <td>21.79</td>\n",
       "      <td>15.61</td>\n",
       "      <td>22.24</td>\n",
       "      <td>0.0</td>\n",
       "      <td>135.54</td>\n",
       "      <td>45.76</td>\n",
       "      <td>0.48</td>\n",
       "      <td>60.66</td>\n",
       "      <td>67.41</td>\n",
       "      <td>67.66</td>\n",
       "      <td>64.81</td>\n",
       "      <td>4.34</td>\n",
       "      <td>26.49</td>\n",
       "      <td>22.58</td>\n",
       "      <td>8.76</td>\n",
       "      <td>41.81</td>\n",
       "      <td>67.41</td>\n",
       "      <td>75.53</td>\n",
       "      <td>9.28</td>\n",
       "      <td>1.48</td>\n",
       "      <td>14.76</td>\n",
       "      <td>22.83</td>\n",
       "      <td>0.0</td>\n",
       "      <td>0.0</td>\n",
       "      <td>0.0</td>\n",
       "      <td>0.0</td>\n",
       "      <td>0.0</td>\n",
       "      <td>47.64</td>\n",
       "      <td>108.68</td>\n",
       "      <td>120.94</td>\n",
       "      <td>18.04</td>\n",
       "      <td>0.0</td>\n",
       "      <td>0.0</td>\n",
       "      <td>0.0</td>\n",
       "      <td>0.0</td>\n",
       "      <td>46.56</td>\n",
       "      <td>236.84</td>\n",
       "      <td>96.84</td>\n",
       "      <td>42.08</td>\n",
       "      <td>0.45</td>\n",
       "      <td>0.0</td>\n",
       "      <td>0.0</td>\n",
       "      <td>0.0</td>\n",
       "      <td>155.33</td>\n",
       "      <td>412.94</td>\n",
       "      <td>285.46</td>\n",
       "      <td>124.94</td>\n",
       "      <td>115.69</td>\n",
       "      <td>71.11</td>\n",
       "      <td>67.46</td>\n",
       "      <td>148.23</td>\n",
       "      <td>14.38</td>\n",
       "      <td>15.44</td>\n",
       "      <td>38.89</td>\n",
       "      <td>38.98</td>\n",
       "      <td>99.48</td>\n",
       "      <td>122.29</td>\n",
       "      <td>49.63</td>\n",
       "      <td>158.19</td>\n",
       "      <td>229.56</td>\n",
       "      <td>208.86</td>\n",
       "      <td>155.99</td>\n",
       "      <td>345.41</td>\n",
       "      <td>72.41</td>\n",
       "      <td>71.29</td>\n",
       "      <td>28.69</td>\n",
       "      <td>49.44</td>\n",
       "      <td>45.18</td>\n",
       "      <td>177.01</td>\n",
       "      <td>167.09</td>\n",
       "      <td>118.18</td>\n",
       "      <td>21.73</td>\n",
       "      <td>58.34</td>\n",
       "      <td>43.23</td>\n",
       "      <td>3.86</td>\n",
       "      <td>0.0</td>\n",
       "      <td>0.0</td>\n",
       "      <td>0.0</td>\n",
       "      <td>0.0</td>\n",
       "      <td>139.33</td>\n",
       "      <td>306.66</td>\n",
       "      <td>239.03</td>\n",
       "      <td>171.49</td>\n",
       "      <td>370.04</td>\n",
       "      <td>519.53</td>\n",
       "      <td>395.03</td>\n",
       "      <td>517.74</td>\n",
       "      <td>0.21</td>\n",
       "      <td>0.0</td>\n",
       "      <td>0.0</td>\n",
       "      <td>0.45</td>\n",
       "      <td>0.00</td>\n",
       "      <td>0.85</td>\n",
       "      <td>0.0</td>\n",
       "      <td>0.01</td>\n",
       "      <td>0.93</td>\n",
       "      <td>3.14</td>\n",
       "      <td>0.0</td>\n",
       "      <td>0.36</td>\n",
       "      <td>5</td>\n",
       "      <td>4</td>\n",
       "      <td>2</td>\n",
       "      <td>7</td>\n",
       "      <td>168</td>\n",
       "      <td>315</td>\n",
       "      <td>116</td>\n",
       "      <td>358</td>\n",
       "      <td>86</td>\n",
       "      <td>200</td>\n",
       "      <td>86</td>\n",
       "      <td>100</td>\n",
       "      <td>6/17/2014</td>\n",
       "      <td>7/24/2014</td>\n",
       "      <td>8/14/2014</td>\n",
       "      <td>9/29/2014</td>\n",
       "      <td>0</td>\n",
       "      <td>200</td>\n",
       "      <td>86</td>\n",
       "      <td>0</td>\n",
       "      <td>NaN</td>\n",
       "      <td>NaN</td>\n",
       "      <td>NaN</td>\n",
       "      <td>9/17/2014</td>\n",
       "      <td>NaN</td>\n",
       "      <td>NaN</td>\n",
       "      <td>NaN</td>\n",
       "      <td>1.0</td>\n",
       "      <td>NaN</td>\n",
       "      <td>NaN</td>\n",
       "      <td>NaN</td>\n",
       "      <td>46.0</td>\n",
       "      <td>NaN</td>\n",
       "      <td>NaN</td>\n",
       "      <td>NaN</td>\n",
       "      <td>1.0</td>\n",
       "      <td>NaN</td>\n",
       "      <td>NaN</td>\n",
       "      <td>NaN</td>\n",
       "      <td>0.0</td>\n",
       "      <td>NaN</td>\n",
       "      <td>NaN</td>\n",
       "      <td>NaN</td>\n",
       "      <td>46.0</td>\n",
       "      <td>0.00</td>\n",
       "      <td>0.00</td>\n",
       "      <td>0.00</td>\n",
       "      <td>0.0</td>\n",
       "      <td>0.00</td>\n",
       "      <td>0.00</td>\n",
       "      <td>0.00</td>\n",
       "      <td>8.42</td>\n",
       "      <td>NaN</td>\n",
       "      <td>NaN</td>\n",
       "      <td>NaN</td>\n",
       "      <td>2.84</td>\n",
       "      <td>NaN</td>\n",
       "      <td>NaN</td>\n",
       "      <td>NaN</td>\n",
       "      <td>0.0</td>\n",
       "      <td>NaN</td>\n",
       "      <td>NaN</td>\n",
       "      <td>NaN</td>\n",
       "      <td>0.0</td>\n",
       "      <td>0</td>\n",
       "      <td>0</td>\n",
       "      <td>0</td>\n",
       "      <td>0</td>\n",
       "      <td>0</td>\n",
       "      <td>0</td>\n",
       "      <td>0</td>\n",
       "      <td>1</td>\n",
       "      <td>0</td>\n",
       "      <td>0</td>\n",
       "      <td>0</td>\n",
       "      <td>0</td>\n",
       "      <td>0</td>\n",
       "      <td>0</td>\n",
       "      <td>0</td>\n",
       "      <td>0</td>\n",
       "      <td>NaN</td>\n",
       "      <td>NaN</td>\n",
       "      <td>NaN</td>\n",
       "      <td>1.0</td>\n",
       "      <td>1103</td>\n",
       "      <td>0.0</td>\n",
       "      <td>0.0</td>\n",
       "      <td>4.17</td>\n",
       "      <td>0.00</td>\n",
       "    </tr>\n",
       "    <tr>\n",
       "      <th>3</th>\n",
       "      <td>7001204172</td>\n",
       "      <td>109</td>\n",
       "      <td>0.0</td>\n",
       "      <td>0.0</td>\n",
       "      <td>0.0</td>\n",
       "      <td>6/30/2014</td>\n",
       "      <td>7/31/2014</td>\n",
       "      <td>8/31/2014</td>\n",
       "      <td>9/30/2014</td>\n",
       "      <td>221.338</td>\n",
       "      <td>251.102</td>\n",
       "      <td>508.054</td>\n",
       "      <td>389.500</td>\n",
       "      <td>99.91</td>\n",
       "      <td>54.39</td>\n",
       "      <td>310.98</td>\n",
       "      <td>241.71</td>\n",
       "      <td>123.31</td>\n",
       "      <td>109.01</td>\n",
       "      <td>71.68</td>\n",
       "      <td>113.54</td>\n",
       "      <td>0.0</td>\n",
       "      <td>54.86</td>\n",
       "      <td>44.38</td>\n",
       "      <td>0.00</td>\n",
       "      <td>0.0</td>\n",
       "      <td>28.09</td>\n",
       "      <td>39.04</td>\n",
       "      <td>0.00</td>\n",
       "      <td>73.68</td>\n",
       "      <td>34.81</td>\n",
       "      <td>10.61</td>\n",
       "      <td>15.49</td>\n",
       "      <td>107.43</td>\n",
       "      <td>83.21</td>\n",
       "      <td>22.46</td>\n",
       "      <td>65.46</td>\n",
       "      <td>1.91</td>\n",
       "      <td>0.65</td>\n",
       "      <td>4.91</td>\n",
       "      <td>2.06</td>\n",
       "      <td>0.0</td>\n",
       "      <td>0.00</td>\n",
       "      <td>0.00</td>\n",
       "      <td>0.00</td>\n",
       "      <td>183.03</td>\n",
       "      <td>118.68</td>\n",
       "      <td>37.99</td>\n",
       "      <td>83.03</td>\n",
       "      <td>26.23</td>\n",
       "      <td>14.89</td>\n",
       "      <td>289.58</td>\n",
       "      <td>226.21</td>\n",
       "      <td>2.99</td>\n",
       "      <td>1.73</td>\n",
       "      <td>6.53</td>\n",
       "      <td>9.99</td>\n",
       "      <td>0.00</td>\n",
       "      <td>0.00</td>\n",
       "      <td>0.00</td>\n",
       "      <td>0.0</td>\n",
       "      <td>0.0</td>\n",
       "      <td>0.0</td>\n",
       "      <td>0.0</td>\n",
       "      <td>0.0</td>\n",
       "      <td>29.23</td>\n",
       "      <td>16.63</td>\n",
       "      <td>296.11</td>\n",
       "      <td>236.21</td>\n",
       "      <td>0.0</td>\n",
       "      <td>0.0</td>\n",
       "      <td>0.0</td>\n",
       "      <td>0.0</td>\n",
       "      <td>10.96</td>\n",
       "      <td>0.00</td>\n",
       "      <td>18.09</td>\n",
       "      <td>43.29</td>\n",
       "      <td>0.00</td>\n",
       "      <td>0.0</td>\n",
       "      <td>0.0</td>\n",
       "      <td>0.0</td>\n",
       "      <td>223.23</td>\n",
       "      <td>135.31</td>\n",
       "      <td>352.21</td>\n",
       "      <td>362.54</td>\n",
       "      <td>62.08</td>\n",
       "      <td>19.98</td>\n",
       "      <td>8.04</td>\n",
       "      <td>41.73</td>\n",
       "      <td>113.96</td>\n",
       "      <td>64.51</td>\n",
       "      <td>20.28</td>\n",
       "      <td>52.86</td>\n",
       "      <td>57.43</td>\n",
       "      <td>27.09</td>\n",
       "      <td>19.84</td>\n",
       "      <td>65.59</td>\n",
       "      <td>233.48</td>\n",
       "      <td>111.59</td>\n",
       "      <td>48.18</td>\n",
       "      <td>160.19</td>\n",
       "      <td>43.48</td>\n",
       "      <td>66.44</td>\n",
       "      <td>0.00</td>\n",
       "      <td>129.84</td>\n",
       "      <td>1.33</td>\n",
       "      <td>38.56</td>\n",
       "      <td>4.94</td>\n",
       "      <td>13.98</td>\n",
       "      <td>1.18</td>\n",
       "      <td>0.00</td>\n",
       "      <td>0.00</td>\n",
       "      <td>0.00</td>\n",
       "      <td>0.0</td>\n",
       "      <td>0.0</td>\n",
       "      <td>0.0</td>\n",
       "      <td>0.0</td>\n",
       "      <td>45.99</td>\n",
       "      <td>105.01</td>\n",
       "      <td>4.94</td>\n",
       "      <td>143.83</td>\n",
       "      <td>280.08</td>\n",
       "      <td>216.61</td>\n",
       "      <td>53.13</td>\n",
       "      <td>305.38</td>\n",
       "      <td>0.59</td>\n",
       "      <td>0.0</td>\n",
       "      <td>0.0</td>\n",
       "      <td>0.55</td>\n",
       "      <td>0.00</td>\n",
       "      <td>0.00</td>\n",
       "      <td>0.0</td>\n",
       "      <td>0.00</td>\n",
       "      <td>0.00</td>\n",
       "      <td>0.00</td>\n",
       "      <td>0.0</td>\n",
       "      <td>0.80</td>\n",
       "      <td>10</td>\n",
       "      <td>11</td>\n",
       "      <td>18</td>\n",
       "      <td>14</td>\n",
       "      <td>230</td>\n",
       "      <td>310</td>\n",
       "      <td>601</td>\n",
       "      <td>410</td>\n",
       "      <td>60</td>\n",
       "      <td>50</td>\n",
       "      <td>50</td>\n",
       "      <td>50</td>\n",
       "      <td>6/28/2014</td>\n",
       "      <td>7/31/2014</td>\n",
       "      <td>8/31/2014</td>\n",
       "      <td>9/30/2014</td>\n",
       "      <td>30</td>\n",
       "      <td>50</td>\n",
       "      <td>50</td>\n",
       "      <td>30</td>\n",
       "      <td>NaN</td>\n",
       "      <td>NaN</td>\n",
       "      <td>NaN</td>\n",
       "      <td>NaN</td>\n",
       "      <td>NaN</td>\n",
       "      <td>NaN</td>\n",
       "      <td>NaN</td>\n",
       "      <td>NaN</td>\n",
       "      <td>NaN</td>\n",
       "      <td>NaN</td>\n",
       "      <td>NaN</td>\n",
       "      <td>NaN</td>\n",
       "      <td>NaN</td>\n",
       "      <td>NaN</td>\n",
       "      <td>NaN</td>\n",
       "      <td>NaN</td>\n",
       "      <td>NaN</td>\n",
       "      <td>NaN</td>\n",
       "      <td>NaN</td>\n",
       "      <td>NaN</td>\n",
       "      <td>NaN</td>\n",
       "      <td>NaN</td>\n",
       "      <td>NaN</td>\n",
       "      <td>NaN</td>\n",
       "      <td>0.00</td>\n",
       "      <td>0.00</td>\n",
       "      <td>0.00</td>\n",
       "      <td>0.0</td>\n",
       "      <td>0.00</td>\n",
       "      <td>0.00</td>\n",
       "      <td>0.00</td>\n",
       "      <td>0.00</td>\n",
       "      <td>NaN</td>\n",
       "      <td>NaN</td>\n",
       "      <td>NaN</td>\n",
       "      <td>NaN</td>\n",
       "      <td>NaN</td>\n",
       "      <td>NaN</td>\n",
       "      <td>NaN</td>\n",
       "      <td>NaN</td>\n",
       "      <td>NaN</td>\n",
       "      <td>NaN</td>\n",
       "      <td>NaN</td>\n",
       "      <td>NaN</td>\n",
       "      <td>0</td>\n",
       "      <td>0</td>\n",
       "      <td>0</td>\n",
       "      <td>0</td>\n",
       "      <td>0</td>\n",
       "      <td>0</td>\n",
       "      <td>0</td>\n",
       "      <td>0</td>\n",
       "      <td>0</td>\n",
       "      <td>0</td>\n",
       "      <td>0</td>\n",
       "      <td>0</td>\n",
       "      <td>0</td>\n",
       "      <td>0</td>\n",
       "      <td>0</td>\n",
       "      <td>0</td>\n",
       "      <td>NaN</td>\n",
       "      <td>NaN</td>\n",
       "      <td>NaN</td>\n",
       "      <td>NaN</td>\n",
       "      <td>2491</td>\n",
       "      <td>0.0</td>\n",
       "      <td>0.0</td>\n",
       "      <td>0.00</td>\n",
       "      <td>0.00</td>\n",
       "    </tr>\n",
       "    <tr>\n",
       "      <th>4</th>\n",
       "      <td>7000142493</td>\n",
       "      <td>109</td>\n",
       "      <td>0.0</td>\n",
       "      <td>0.0</td>\n",
       "      <td>0.0</td>\n",
       "      <td>6/30/2014</td>\n",
       "      <td>7/31/2014</td>\n",
       "      <td>8/31/2014</td>\n",
       "      <td>9/30/2014</td>\n",
       "      <td>261.636</td>\n",
       "      <td>309.876</td>\n",
       "      <td>238.174</td>\n",
       "      <td>163.426</td>\n",
       "      <td>50.31</td>\n",
       "      <td>149.44</td>\n",
       "      <td>83.89</td>\n",
       "      <td>58.78</td>\n",
       "      <td>76.96</td>\n",
       "      <td>91.88</td>\n",
       "      <td>124.26</td>\n",
       "      <td>45.81</td>\n",
       "      <td>0.0</td>\n",
       "      <td>0.00</td>\n",
       "      <td>0.00</td>\n",
       "      <td>0.00</td>\n",
       "      <td>0.0</td>\n",
       "      <td>0.00</td>\n",
       "      <td>0.00</td>\n",
       "      <td>0.00</td>\n",
       "      <td>50.31</td>\n",
       "      <td>149.44</td>\n",
       "      <td>83.89</td>\n",
       "      <td>58.78</td>\n",
       "      <td>67.64</td>\n",
       "      <td>91.88</td>\n",
       "      <td>124.26</td>\n",
       "      <td>37.89</td>\n",
       "      <td>0.00</td>\n",
       "      <td>0.00</td>\n",
       "      <td>0.00</td>\n",
       "      <td>1.93</td>\n",
       "      <td>0.0</td>\n",
       "      <td>0.00</td>\n",
       "      <td>0.00</td>\n",
       "      <td>0.00</td>\n",
       "      <td>117.96</td>\n",
       "      <td>241.33</td>\n",
       "      <td>208.16</td>\n",
       "      <td>98.61</td>\n",
       "      <td>0.00</td>\n",
       "      <td>0.00</td>\n",
       "      <td>0.00</td>\n",
       "      <td>0.00</td>\n",
       "      <td>9.31</td>\n",
       "      <td>0.00</td>\n",
       "      <td>0.00</td>\n",
       "      <td>0.00</td>\n",
       "      <td>0.00</td>\n",
       "      <td>0.00</td>\n",
       "      <td>0.00</td>\n",
       "      <td>0.0</td>\n",
       "      <td>0.0</td>\n",
       "      <td>0.0</td>\n",
       "      <td>0.0</td>\n",
       "      <td>0.0</td>\n",
       "      <td>9.31</td>\n",
       "      <td>0.00</td>\n",
       "      <td>0.00</td>\n",
       "      <td>0.00</td>\n",
       "      <td>0.0</td>\n",
       "      <td>0.0</td>\n",
       "      <td>0.0</td>\n",
       "      <td>0.0</td>\n",
       "      <td>0.00</td>\n",
       "      <td>0.00</td>\n",
       "      <td>0.00</td>\n",
       "      <td>5.98</td>\n",
       "      <td>0.00</td>\n",
       "      <td>0.0</td>\n",
       "      <td>0.0</td>\n",
       "      <td>0.0</td>\n",
       "      <td>127.28</td>\n",
       "      <td>241.33</td>\n",
       "      <td>208.16</td>\n",
       "      <td>104.59</td>\n",
       "      <td>105.68</td>\n",
       "      <td>88.49</td>\n",
       "      <td>233.81</td>\n",
       "      <td>154.56</td>\n",
       "      <td>106.84</td>\n",
       "      <td>109.54</td>\n",
       "      <td>104.13</td>\n",
       "      <td>48.24</td>\n",
       "      <td>1.50</td>\n",
       "      <td>0.00</td>\n",
       "      <td>0.00</td>\n",
       "      <td>0.00</td>\n",
       "      <td>214.03</td>\n",
       "      <td>198.04</td>\n",
       "      <td>337.94</td>\n",
       "      <td>202.81</td>\n",
       "      <td>0.00</td>\n",
       "      <td>0.00</td>\n",
       "      <td>0.86</td>\n",
       "      <td>2.31</td>\n",
       "      <td>1.93</td>\n",
       "      <td>0.25</td>\n",
       "      <td>0.00</td>\n",
       "      <td>0.00</td>\n",
       "      <td>0.00</td>\n",
       "      <td>0.00</td>\n",
       "      <td>0.00</td>\n",
       "      <td>0.00</td>\n",
       "      <td>0.0</td>\n",
       "      <td>0.0</td>\n",
       "      <td>0.0</td>\n",
       "      <td>0.0</td>\n",
       "      <td>1.93</td>\n",
       "      <td>0.25</td>\n",
       "      <td>0.86</td>\n",
       "      <td>2.31</td>\n",
       "      <td>216.44</td>\n",
       "      <td>198.29</td>\n",
       "      <td>338.81</td>\n",
       "      <td>205.31</td>\n",
       "      <td>0.00</td>\n",
       "      <td>0.0</td>\n",
       "      <td>0.0</td>\n",
       "      <td>0.18</td>\n",
       "      <td>0.00</td>\n",
       "      <td>0.00</td>\n",
       "      <td>0.0</td>\n",
       "      <td>0.00</td>\n",
       "      <td>0.48</td>\n",
       "      <td>0.00</td>\n",
       "      <td>0.0</td>\n",
       "      <td>0.00</td>\n",
       "      <td>5</td>\n",
       "      <td>6</td>\n",
       "      <td>3</td>\n",
       "      <td>4</td>\n",
       "      <td>196</td>\n",
       "      <td>350</td>\n",
       "      <td>287</td>\n",
       "      <td>200</td>\n",
       "      <td>56</td>\n",
       "      <td>110</td>\n",
       "      <td>110</td>\n",
       "      <td>50</td>\n",
       "      <td>6/26/2014</td>\n",
       "      <td>7/28/2014</td>\n",
       "      <td>8/9/2014</td>\n",
       "      <td>9/28/2014</td>\n",
       "      <td>50</td>\n",
       "      <td>110</td>\n",
       "      <td>110</td>\n",
       "      <td>50</td>\n",
       "      <td>6/4/2014</td>\n",
       "      <td>NaN</td>\n",
       "      <td>NaN</td>\n",
       "      <td>NaN</td>\n",
       "      <td>1.0</td>\n",
       "      <td>NaN</td>\n",
       "      <td>NaN</td>\n",
       "      <td>NaN</td>\n",
       "      <td>56.0</td>\n",
       "      <td>NaN</td>\n",
       "      <td>NaN</td>\n",
       "      <td>NaN</td>\n",
       "      <td>1.0</td>\n",
       "      <td>NaN</td>\n",
       "      <td>NaN</td>\n",
       "      <td>NaN</td>\n",
       "      <td>0.0</td>\n",
       "      <td>NaN</td>\n",
       "      <td>NaN</td>\n",
       "      <td>NaN</td>\n",
       "      <td>56.0</td>\n",
       "      <td>NaN</td>\n",
       "      <td>NaN</td>\n",
       "      <td>NaN</td>\n",
       "      <td>0.00</td>\n",
       "      <td>0.00</td>\n",
       "      <td>0.00</td>\n",
       "      <td>0.0</td>\n",
       "      <td>0.00</td>\n",
       "      <td>0.00</td>\n",
       "      <td>0.00</td>\n",
       "      <td>0.00</td>\n",
       "      <td>0.00</td>\n",
       "      <td>NaN</td>\n",
       "      <td>NaN</td>\n",
       "      <td>NaN</td>\n",
       "      <td>0.00</td>\n",
       "      <td>NaN</td>\n",
       "      <td>NaN</td>\n",
       "      <td>NaN</td>\n",
       "      <td>0.0</td>\n",
       "      <td>NaN</td>\n",
       "      <td>NaN</td>\n",
       "      <td>NaN</td>\n",
       "      <td>0</td>\n",
       "      <td>0</td>\n",
       "      <td>0</td>\n",
       "      <td>0</td>\n",
       "      <td>1</td>\n",
       "      <td>0</td>\n",
       "      <td>0</td>\n",
       "      <td>0</td>\n",
       "      <td>0</td>\n",
       "      <td>0</td>\n",
       "      <td>0</td>\n",
       "      <td>0</td>\n",
       "      <td>0</td>\n",
       "      <td>0</td>\n",
       "      <td>0</td>\n",
       "      <td>0</td>\n",
       "      <td>0.0</td>\n",
       "      <td>NaN</td>\n",
       "      <td>NaN</td>\n",
       "      <td>NaN</td>\n",
       "      <td>1526</td>\n",
       "      <td>0.0</td>\n",
       "      <td>0.0</td>\n",
       "      <td>0.00</td>\n",
       "      <td>0.00</td>\n",
       "    </tr>\n",
       "  </tbody>\n",
       "</table>\n",
       "</div>"
      ],
      "text/plain": [
       "   mobile_number  circle_id  loc_og_t2o_mou  std_og_t2o_mou  loc_ic_t2o_mou  \\\n",
       "0     7000842753        109             0.0             0.0             0.0   \n",
       "1     7001865778        109             0.0             0.0             0.0   \n",
       "2     7001625959        109             0.0             0.0             0.0   \n",
       "3     7001204172        109             0.0             0.0             0.0   \n",
       "4     7000142493        109             0.0             0.0             0.0   \n",
       "\n",
       "  last_date_of_month_6 last_date_of_month_7 last_date_of_month_8  \\\n",
       "0            6/30/2014            7/31/2014            8/31/2014   \n",
       "1            6/30/2014            7/31/2014            8/31/2014   \n",
       "2            6/30/2014            7/31/2014            8/31/2014   \n",
       "3            6/30/2014            7/31/2014            8/31/2014   \n",
       "4            6/30/2014            7/31/2014            8/31/2014   \n",
       "\n",
       "  last_date_of_month_9   arpu_6   arpu_7   arpu_8   arpu_9  onnet_mou_6  \\\n",
       "0            9/30/2014  197.385  214.816  213.803   21.100          NaN   \n",
       "1            9/30/2014   34.047  355.074  268.321   86.285        24.11   \n",
       "2            9/30/2014  167.690  189.058  210.226  290.714        11.54   \n",
       "3            9/30/2014  221.338  251.102  508.054  389.500        99.91   \n",
       "4            9/30/2014  261.636  309.876  238.174  163.426        50.31   \n",
       "\n",
       "   onnet_mou_7  onnet_mou_8  onnet_mou_9  offnet_mou_6  offnet_mou_7  \\\n",
       "0          NaN         0.00          NaN           NaN           NaN   \n",
       "1        78.68         7.68        18.34         15.74         99.84   \n",
       "2        55.24        37.26        74.81        143.33        220.59   \n",
       "3        54.39       310.98       241.71        123.31        109.01   \n",
       "4       149.44        83.89        58.78         76.96         91.88   \n",
       "\n",
       "   offnet_mou_8  offnet_mou_9  roam_ic_mou_6  roam_ic_mou_7  roam_ic_mou_8  \\\n",
       "0          0.00           NaN            NaN            NaN           0.00   \n",
       "1        304.76         53.76            0.0           0.00           0.00   \n",
       "2        208.36        118.91            0.0           0.00           0.00   \n",
       "3         71.68        113.54            0.0          54.86          44.38   \n",
       "4        124.26         45.81            0.0           0.00           0.00   \n",
       "\n",
       "   roam_ic_mou_9  roam_og_mou_6  roam_og_mou_7  roam_og_mou_8  roam_og_mou_9  \\\n",
       "0            NaN            NaN            NaN           0.00            NaN   \n",
       "1           0.00            0.0           0.00           0.00           0.00   \n",
       "2          38.49            0.0           0.00           0.00          70.94   \n",
       "3           0.00            0.0          28.09          39.04           0.00   \n",
       "4           0.00            0.0           0.00           0.00           0.00   \n",
       "\n",
       "   loc_og_t2t_mou_6  loc_og_t2t_mou_7  loc_og_t2t_mou_8  loc_og_t2t_mou_9  \\\n",
       "0               NaN               NaN              0.00               NaN   \n",
       "1             23.88             74.56              7.68             18.34   \n",
       "2              7.19             28.74             13.58             14.39   \n",
       "3             73.68             34.81             10.61             15.49   \n",
       "4             50.31            149.44             83.89             58.78   \n",
       "\n",
       "   loc_og_t2m_mou_6  loc_og_t2m_mou_7  loc_og_t2m_mou_8  loc_og_t2m_mou_9  \\\n",
       "0               NaN               NaN              0.00               NaN   \n",
       "1             11.51             75.94            291.86             53.76   \n",
       "2             29.34             16.86             38.46             28.16   \n",
       "3            107.43             83.21             22.46             65.46   \n",
       "4             67.64             91.88            124.26             37.89   \n",
       "\n",
       "   loc_og_t2f_mou_6  loc_og_t2f_mou_7  loc_og_t2f_mou_8  loc_og_t2f_mou_9  \\\n",
       "0               NaN               NaN              0.00               NaN   \n",
       "1              0.00              0.00              0.00              0.00   \n",
       "2             24.11             21.79             15.61             22.24   \n",
       "3              1.91              0.65              4.91              2.06   \n",
       "4              0.00              0.00              0.00              1.93   \n",
       "\n",
       "   loc_og_t2c_mou_6  loc_og_t2c_mou_7  loc_og_t2c_mou_8  loc_og_t2c_mou_9  \\\n",
       "0               NaN               NaN              0.00               NaN   \n",
       "1               0.0              2.91              0.00              0.00   \n",
       "2               0.0            135.54             45.76              0.48   \n",
       "3               0.0              0.00              0.00              0.00   \n",
       "4               0.0              0.00              0.00              0.00   \n",
       "\n",
       "   loc_og_mou_6  loc_og_mou_7  loc_og_mou_8  loc_og_mou_9  std_og_t2t_mou_6  \\\n",
       "0           NaN           NaN          0.00           NaN               NaN   \n",
       "1         35.39        150.51        299.54         72.11              0.23   \n",
       "2         60.66         67.41         67.66         64.81              4.34   \n",
       "3        183.03        118.68         37.99         83.03             26.23   \n",
       "4        117.96        241.33        208.16         98.61              0.00   \n",
       "\n",
       "   std_og_t2t_mou_7  std_og_t2t_mou_8  std_og_t2t_mou_9  std_og_t2m_mou_6  \\\n",
       "0               NaN              0.00               NaN               NaN   \n",
       "1              4.11              0.00              0.00              0.00   \n",
       "2             26.49             22.58              8.76             41.81   \n",
       "3             14.89            289.58            226.21              2.99   \n",
       "4              0.00              0.00              0.00              9.31   \n",
       "\n",
       "   std_og_t2m_mou_7  std_og_t2m_mou_8  std_og_t2m_mou_9  std_og_t2f_mou_6  \\\n",
       "0               NaN              0.00               NaN               NaN   \n",
       "1              0.46              0.13              0.00              0.00   \n",
       "2             67.41             75.53              9.28              1.48   \n",
       "3              1.73              6.53              9.99              0.00   \n",
       "4              0.00              0.00              0.00              0.00   \n",
       "\n",
       "   std_og_t2f_mou_7  std_og_t2f_mou_8  std_og_t2f_mou_9  std_og_t2c_mou_6  \\\n",
       "0               NaN              0.00               NaN               NaN   \n",
       "1              0.00              0.00               0.0               0.0   \n",
       "2             14.76             22.83               0.0               0.0   \n",
       "3              0.00              0.00               0.0               0.0   \n",
       "4              0.00              0.00               0.0               0.0   \n",
       "\n",
       "   std_og_t2c_mou_7  std_og_t2c_mou_8  std_og_t2c_mou_9  std_og_mou_6  \\\n",
       "0               NaN               0.0               NaN           NaN   \n",
       "1               0.0               0.0               0.0          0.23   \n",
       "2               0.0               0.0               0.0         47.64   \n",
       "3               0.0               0.0               0.0         29.23   \n",
       "4               0.0               0.0               0.0          9.31   \n",
       "\n",
       "   std_og_mou_7  std_og_mou_8  std_og_mou_9  isd_og_mou_6  isd_og_mou_7  \\\n",
       "0           NaN          0.00           NaN           NaN           NaN   \n",
       "1          4.58          0.13          0.00           0.0           0.0   \n",
       "2        108.68        120.94         18.04           0.0           0.0   \n",
       "3         16.63        296.11        236.21           0.0           0.0   \n",
       "4          0.00          0.00          0.00           0.0           0.0   \n",
       "\n",
       "   isd_og_mou_8  isd_og_mou_9  spl_og_mou_6  spl_og_mou_7  spl_og_mou_8  \\\n",
       "0           0.0           NaN           NaN           NaN          0.00   \n",
       "1           0.0           0.0          4.68         23.43         12.76   \n",
       "2           0.0           0.0         46.56        236.84         96.84   \n",
       "3           0.0           0.0         10.96          0.00         18.09   \n",
       "4           0.0           0.0          0.00          0.00          0.00   \n",
       "\n",
       "   spl_og_mou_9  og_others_6  og_others_7  og_others_8  og_others_9  \\\n",
       "0           NaN          NaN          NaN          0.0          NaN   \n",
       "1          0.00         0.00          0.0          0.0          0.0   \n",
       "2         42.08         0.45          0.0          0.0          0.0   \n",
       "3         43.29         0.00          0.0          0.0          0.0   \n",
       "4          5.98         0.00          0.0          0.0          0.0   \n",
       "\n",
       "   total_og_mou_6  total_og_mou_7  total_og_mou_8  total_og_mou_9  \\\n",
       "0            0.00            0.00            0.00            0.00   \n",
       "1           40.31          178.53          312.44           72.11   \n",
       "2          155.33          412.94          285.46          124.94   \n",
       "3          223.23          135.31          352.21          362.54   \n",
       "4          127.28          241.33          208.16          104.59   \n",
       "\n",
       "   loc_ic_t2t_mou_6  loc_ic_t2t_mou_7  loc_ic_t2t_mou_8  loc_ic_t2t_mou_9  \\\n",
       "0               NaN               NaN              0.16               NaN   \n",
       "1              1.61             29.91             29.23            116.09   \n",
       "2            115.69             71.11             67.46            148.23   \n",
       "3             62.08             19.98              8.04             41.73   \n",
       "4            105.68             88.49            233.81            154.56   \n",
       "\n",
       "   loc_ic_t2m_mou_6  loc_ic_t2m_mou_7  loc_ic_t2m_mou_8  loc_ic_t2m_mou_9  \\\n",
       "0               NaN               NaN              4.13               NaN   \n",
       "1             17.48             65.38            375.58             56.93   \n",
       "2             14.38             15.44             38.89             38.98   \n",
       "3            113.96             64.51             20.28             52.86   \n",
       "4            106.84            109.54            104.13             48.24   \n",
       "\n",
       "   loc_ic_t2f_mou_6  loc_ic_t2f_mou_7  loc_ic_t2f_mou_8  loc_ic_t2f_mou_9  \\\n",
       "0               NaN               NaN              1.15               NaN   \n",
       "1              0.00              8.93              3.61              0.00   \n",
       "2             99.48            122.29             49.63            158.19   \n",
       "3             57.43             27.09             19.84             65.59   \n",
       "4              1.50              0.00              0.00              0.00   \n",
       "\n",
       "   loc_ic_mou_6  loc_ic_mou_7  loc_ic_mou_8  loc_ic_mou_9  std_ic_t2t_mou_6  \\\n",
       "0           NaN           NaN          5.44           NaN               NaN   \n",
       "1         19.09        104.23        408.43        173.03              0.00   \n",
       "2        229.56        208.86        155.99        345.41             72.41   \n",
       "3        233.48        111.59         48.18        160.19             43.48   \n",
       "4        214.03        198.04        337.94        202.81              0.00   \n",
       "\n",
       "   std_ic_t2t_mou_7  std_ic_t2t_mou_8  std_ic_t2t_mou_9  std_ic_t2m_mou_6  \\\n",
       "0               NaN              0.00               NaN               NaN   \n",
       "1              0.00              2.35              0.00              5.90   \n",
       "2             71.29             28.69             49.44             45.18   \n",
       "3             66.44              0.00            129.84              1.33   \n",
       "4              0.00              0.86              2.31              1.93   \n",
       "\n",
       "   std_ic_t2m_mou_7  std_ic_t2m_mou_8  std_ic_t2m_mou_9  std_ic_t2f_mou_6  \\\n",
       "0               NaN              0.00               NaN               NaN   \n",
       "1              0.00             12.49             15.01              0.00   \n",
       "2            177.01            167.09            118.18             21.73   \n",
       "3             38.56              4.94             13.98              1.18   \n",
       "4              0.25              0.00              0.00              0.00   \n",
       "\n",
       "   std_ic_t2f_mou_7  std_ic_t2f_mou_8  std_ic_t2f_mou_9  std_ic_t2o_mou_6  \\\n",
       "0               NaN              0.00               NaN               NaN   \n",
       "1              0.00              0.00              0.00               0.0   \n",
       "2             58.34             43.23              3.86               0.0   \n",
       "3              0.00              0.00              0.00               0.0   \n",
       "4              0.00              0.00              0.00               0.0   \n",
       "\n",
       "   std_ic_t2o_mou_7  std_ic_t2o_mou_8  std_ic_t2o_mou_9  std_ic_mou_6  \\\n",
       "0               NaN               0.0               NaN           NaN   \n",
       "1               0.0               0.0               0.0          5.90   \n",
       "2               0.0               0.0               0.0        139.33   \n",
       "3               0.0               0.0               0.0         45.99   \n",
       "4               0.0               0.0               0.0          1.93   \n",
       "\n",
       "   std_ic_mou_7  std_ic_mou_8  std_ic_mou_9  total_ic_mou_6  total_ic_mou_7  \\\n",
       "0           NaN          0.00           NaN            0.00            0.00   \n",
       "1          0.00         14.84         15.01           26.83          104.23   \n",
       "2        306.66        239.03        171.49          370.04          519.53   \n",
       "3        105.01          4.94        143.83          280.08          216.61   \n",
       "4          0.25          0.86          2.31          216.44          198.29   \n",
       "\n",
       "   total_ic_mou_8  total_ic_mou_9  spl_ic_mou_6  spl_ic_mou_7  spl_ic_mou_8  \\\n",
       "0            5.44            0.00           NaN           NaN           0.0   \n",
       "1          423.28          188.04          0.00           0.0           0.0   \n",
       "2          395.03          517.74          0.21           0.0           0.0   \n",
       "3           53.13          305.38          0.59           0.0           0.0   \n",
       "4          338.81          205.31          0.00           0.0           0.0   \n",
       "\n",
       "   spl_ic_mou_9  isd_ic_mou_6  isd_ic_mou_7  isd_ic_mou_8  isd_ic_mou_9  \\\n",
       "0           NaN           NaN           NaN           0.0           NaN   \n",
       "1          0.00          1.83          0.00           0.0          0.00   \n",
       "2          0.45          0.00          0.85           0.0          0.01   \n",
       "3          0.55          0.00          0.00           0.0          0.00   \n",
       "4          0.18          0.00          0.00           0.0          0.00   \n",
       "\n",
       "   ic_others_6  ic_others_7  ic_others_8  ic_others_9  total_rech_num_6  \\\n",
       "0          NaN          NaN          0.0          NaN                 4   \n",
       "1         0.00         0.00          0.0         0.00                 4   \n",
       "2         0.93         3.14          0.0         0.36                 5   \n",
       "3         0.00         0.00          0.0         0.80                10   \n",
       "4         0.48         0.00          0.0         0.00                 5   \n",
       "\n",
       "   total_rech_num_7  total_rech_num_8  total_rech_num_9  total_rech_amt_6  \\\n",
       "0                 3                 2                 6               362   \n",
       "1                 9                11                 5                74   \n",
       "2                 4                 2                 7               168   \n",
       "3                11                18                14               230   \n",
       "4                 6                 3                 4               196   \n",
       "\n",
       "   total_rech_amt_7  total_rech_amt_8  total_rech_amt_9  max_rech_amt_6  \\\n",
       "0               252               252                 0             252   \n",
       "1               384               283               121              44   \n",
       "2               315               116               358              86   \n",
       "3               310               601               410              60   \n",
       "4               350               287               200              56   \n",
       "\n",
       "   max_rech_amt_7  max_rech_amt_8  max_rech_amt_9 date_of_last_rech_6  \\\n",
       "0             252             252               0           6/21/2014   \n",
       "1             154              65              50           6/29/2014   \n",
       "2             200              86             100           6/17/2014   \n",
       "3              50              50              50           6/28/2014   \n",
       "4             110             110              50           6/26/2014   \n",
       "\n",
       "  date_of_last_rech_7 date_of_last_rech_8 date_of_last_rech_9  \\\n",
       "0           7/16/2014            8/8/2014           9/28/2014   \n",
       "1           7/31/2014           8/28/2014           9/30/2014   \n",
       "2           7/24/2014           8/14/2014           9/29/2014   \n",
       "3           7/31/2014           8/31/2014           9/30/2014   \n",
       "4           7/28/2014            8/9/2014           9/28/2014   \n",
       "\n",
       "   last_day_rch_amt_6  last_day_rch_amt_7  last_day_rch_amt_8  \\\n",
       "0                 252                 252                 252   \n",
       "1                  44                  23                  30   \n",
       "2                   0                 200                  86   \n",
       "3                  30                  50                  50   \n",
       "4                  50                 110                 110   \n",
       "\n",
       "   last_day_rch_amt_9 date_of_last_rech_data_6 date_of_last_rech_data_7  \\\n",
       "0                   0                6/21/2014                7/16/2014   \n",
       "1                   0                      NaN                7/25/2014   \n",
       "2                   0                      NaN                      NaN   \n",
       "3                  30                      NaN                      NaN   \n",
       "4                  50                 6/4/2014                      NaN   \n",
       "\n",
       "  date_of_last_rech_data_8 date_of_last_rech_data_9  total_rech_data_6  \\\n",
       "0                 8/8/2014                      NaN                1.0   \n",
       "1                8/10/2014                      NaN                NaN   \n",
       "2                      NaN                9/17/2014                NaN   \n",
       "3                      NaN                      NaN                NaN   \n",
       "4                      NaN                      NaN                1.0   \n",
       "\n",
       "   total_rech_data_7  total_rech_data_8  total_rech_data_9  max_rech_data_6  \\\n",
       "0                1.0                1.0                NaN            252.0   \n",
       "1                1.0                2.0                NaN              NaN   \n",
       "2                NaN                NaN                1.0              NaN   \n",
       "3                NaN                NaN                NaN              NaN   \n",
       "4                NaN                NaN                NaN             56.0   \n",
       "\n",
       "   max_rech_data_7  max_rech_data_8  max_rech_data_9  count_rech_2g_6  \\\n",
       "0            252.0            252.0              NaN              0.0   \n",
       "1            154.0             25.0              NaN              NaN   \n",
       "2              NaN              NaN             46.0              NaN   \n",
       "3              NaN              NaN              NaN              NaN   \n",
       "4              NaN              NaN              NaN              1.0   \n",
       "\n",
       "   count_rech_2g_7  count_rech_2g_8  count_rech_2g_9  count_rech_3g_6  \\\n",
       "0              0.0              0.0              NaN              1.0   \n",
       "1              1.0              2.0              NaN              NaN   \n",
       "2              NaN              NaN              1.0              NaN   \n",
       "3              NaN              NaN              NaN              NaN   \n",
       "4              NaN              NaN              NaN              0.0   \n",
       "\n",
       "   count_rech_3g_7  count_rech_3g_8  count_rech_3g_9  av_rech_amt_data_6  \\\n",
       "0              1.0              1.0              NaN               252.0   \n",
       "1              0.0              0.0              NaN                 NaN   \n",
       "2              NaN              NaN              0.0                 NaN   \n",
       "3              NaN              NaN              NaN                 NaN   \n",
       "4              NaN              NaN              NaN                56.0   \n",
       "\n",
       "   av_rech_amt_data_7  av_rech_amt_data_8  av_rech_amt_data_9  vol_2g_mb_6  \\\n",
       "0               252.0               252.0                 NaN        30.13   \n",
       "1               154.0                50.0                 NaN         0.00   \n",
       "2                 NaN                 NaN                46.0         0.00   \n",
       "3                 NaN                 NaN                 NaN         0.00   \n",
       "4                 NaN                 NaN                 NaN         0.00   \n",
       "\n",
       "   vol_2g_mb_7  vol_2g_mb_8  vol_2g_mb_9  vol_3g_mb_6  vol_3g_mb_7  \\\n",
       "0         1.32         5.75          0.0        83.57       150.76   \n",
       "1       108.07       365.47          0.0         0.00         0.00   \n",
       "2         0.00         0.00          0.0         0.00         0.00   \n",
       "3         0.00         0.00          0.0         0.00         0.00   \n",
       "4         0.00         0.00          0.0         0.00         0.00   \n",
       "\n",
       "   vol_3g_mb_8  vol_3g_mb_9  arpu_3g_6  arpu_3g_7  arpu_3g_8  arpu_3g_9  \\\n",
       "0       109.61         0.00     212.17     212.17     212.17        NaN   \n",
       "1         0.00         0.00        NaN       0.00       0.00        NaN   \n",
       "2         0.00         8.42        NaN        NaN        NaN       2.84   \n",
       "3         0.00         0.00        NaN        NaN        NaN        NaN   \n",
       "4         0.00         0.00       0.00        NaN        NaN        NaN   \n",
       "\n",
       "   arpu_2g_6  arpu_2g_7  arpu_2g_8  arpu_2g_9  night_pck_user_6  \\\n",
       "0     212.17     212.17     212.17        NaN               0.0   \n",
       "1        NaN      28.61       7.60        NaN               NaN   \n",
       "2        NaN        NaN        NaN        0.0               NaN   \n",
       "3        NaN        NaN        NaN        NaN               NaN   \n",
       "4       0.00        NaN        NaN        NaN               0.0   \n",
       "\n",
       "   night_pck_user_7  night_pck_user_8  night_pck_user_9  monthly_2g_6  \\\n",
       "0               0.0               0.0               NaN             0   \n",
       "1               0.0               0.0               NaN             0   \n",
       "2               NaN               NaN               0.0             0   \n",
       "3               NaN               NaN               NaN             0   \n",
       "4               NaN               NaN               NaN             0   \n",
       "\n",
       "   monthly_2g_7  monthly_2g_8  monthly_2g_9  sachet_2g_6  sachet_2g_7  \\\n",
       "0             0             0             0            0            0   \n",
       "1             1             0             0            0            0   \n",
       "2             0             0             0            0            0   \n",
       "3             0             0             0            0            0   \n",
       "4             0             0             0            1            0   \n",
       "\n",
       "   sachet_2g_8  sachet_2g_9  monthly_3g_6  monthly_3g_7  monthly_3g_8  \\\n",
       "0            0            0             1             1             1   \n",
       "1            2            0             0             0             0   \n",
       "2            0            1             0             0             0   \n",
       "3            0            0             0             0             0   \n",
       "4            0            0             0             0             0   \n",
       "\n",
       "   monthly_3g_9  sachet_3g_6  sachet_3g_7  sachet_3g_8  sachet_3g_9  \\\n",
       "0             0            0            0            0            0   \n",
       "1             0            0            0            0            0   \n",
       "2             0            0            0            0            0   \n",
       "3             0            0            0            0            0   \n",
       "4             0            0            0            0            0   \n",
       "\n",
       "   fb_user_6  fb_user_7  fb_user_8  fb_user_9   aon  aug_vbc_3g  jul_vbc_3g  \\\n",
       "0        1.0        1.0        1.0        NaN   968        30.4         0.0   \n",
       "1        NaN        1.0        1.0        NaN  1006         0.0         0.0   \n",
       "2        NaN        NaN        NaN        1.0  1103         0.0         0.0   \n",
       "3        NaN        NaN        NaN        NaN  2491         0.0         0.0   \n",
       "4        0.0        NaN        NaN        NaN  1526         0.0         0.0   \n",
       "\n",
       "   jun_vbc_3g  sep_vbc_3g  \n",
       "0      101.20        3.58  \n",
       "1        0.00        0.00  \n",
       "2        4.17        0.00  \n",
       "3        0.00        0.00  \n",
       "4        0.00        0.00  "
      ]
     },
     "execution_count": 2,
     "metadata": {},
     "output_type": "execute_result"
    }
   ],
   "source": [
    "df = pd.read_csv('telecom_churn_data.csv')\n",
    "df.head()"
   ]
  },
  {
   "cell_type": "code",
   "execution_count": 3,
   "metadata": {},
   "outputs": [
    {
     "data": {
      "text/plain": [
       "(99999, 226)"
      ]
     },
     "execution_count": 3,
     "metadata": {},
     "output_type": "execute_result"
    }
   ],
   "source": [
    "df.shape"
   ]
  },
  {
   "cell_type": "code",
   "execution_count": 4,
   "metadata": {
    "scrolled": false
   },
   "outputs": [
    {
     "name": "stdout",
     "output_type": "stream",
     "text": [
      "<class 'pandas.core.frame.DataFrame'>\n",
      "RangeIndex: 99999 entries, 0 to 99998\n",
      "Data columns (total 226 columns):\n",
      " #   Column                    Non-Null Count  Dtype  \n",
      "---  ------                    --------------  -----  \n",
      " 0   mobile_number             99999 non-null  int64  \n",
      " 1   circle_id                 99999 non-null  int64  \n",
      " 2   loc_og_t2o_mou            98981 non-null  float64\n",
      " 3   std_og_t2o_mou            98981 non-null  float64\n",
      " 4   loc_ic_t2o_mou            98981 non-null  float64\n",
      " 5   last_date_of_month_6      99999 non-null  object \n",
      " 6   last_date_of_month_7      99398 non-null  object \n",
      " 7   last_date_of_month_8      98899 non-null  object \n",
      " 8   last_date_of_month_9      98340 non-null  object \n",
      " 9   arpu_6                    99999 non-null  float64\n",
      " 10  arpu_7                    99999 non-null  float64\n",
      " 11  arpu_8                    99999 non-null  float64\n",
      " 12  arpu_9                    99999 non-null  float64\n",
      " 13  onnet_mou_6               96062 non-null  float64\n",
      " 14  onnet_mou_7               96140 non-null  float64\n",
      " 15  onnet_mou_8               94621 non-null  float64\n",
      " 16  onnet_mou_9               92254 non-null  float64\n",
      " 17  offnet_mou_6              96062 non-null  float64\n",
      " 18  offnet_mou_7              96140 non-null  float64\n",
      " 19  offnet_mou_8              94621 non-null  float64\n",
      " 20  offnet_mou_9              92254 non-null  float64\n",
      " 21  roam_ic_mou_6             96062 non-null  float64\n",
      " 22  roam_ic_mou_7             96140 non-null  float64\n",
      " 23  roam_ic_mou_8             94621 non-null  float64\n",
      " 24  roam_ic_mou_9             92254 non-null  float64\n",
      " 25  roam_og_mou_6             96062 non-null  float64\n",
      " 26  roam_og_mou_7             96140 non-null  float64\n",
      " 27  roam_og_mou_8             94621 non-null  float64\n",
      " 28  roam_og_mou_9             92254 non-null  float64\n",
      " 29  loc_og_t2t_mou_6          96062 non-null  float64\n",
      " 30  loc_og_t2t_mou_7          96140 non-null  float64\n",
      " 31  loc_og_t2t_mou_8          94621 non-null  float64\n",
      " 32  loc_og_t2t_mou_9          92254 non-null  float64\n",
      " 33  loc_og_t2m_mou_6          96062 non-null  float64\n",
      " 34  loc_og_t2m_mou_7          96140 non-null  float64\n",
      " 35  loc_og_t2m_mou_8          94621 non-null  float64\n",
      " 36  loc_og_t2m_mou_9          92254 non-null  float64\n",
      " 37  loc_og_t2f_mou_6          96062 non-null  float64\n",
      " 38  loc_og_t2f_mou_7          96140 non-null  float64\n",
      " 39  loc_og_t2f_mou_8          94621 non-null  float64\n",
      " 40  loc_og_t2f_mou_9          92254 non-null  float64\n",
      " 41  loc_og_t2c_mou_6          96062 non-null  float64\n",
      " 42  loc_og_t2c_mou_7          96140 non-null  float64\n",
      " 43  loc_og_t2c_mou_8          94621 non-null  float64\n",
      " 44  loc_og_t2c_mou_9          92254 non-null  float64\n",
      " 45  loc_og_mou_6              96062 non-null  float64\n",
      " 46  loc_og_mou_7              96140 non-null  float64\n",
      " 47  loc_og_mou_8              94621 non-null  float64\n",
      " 48  loc_og_mou_9              92254 non-null  float64\n",
      " 49  std_og_t2t_mou_6          96062 non-null  float64\n",
      " 50  std_og_t2t_mou_7          96140 non-null  float64\n",
      " 51  std_og_t2t_mou_8          94621 non-null  float64\n",
      " 52  std_og_t2t_mou_9          92254 non-null  float64\n",
      " 53  std_og_t2m_mou_6          96062 non-null  float64\n",
      " 54  std_og_t2m_mou_7          96140 non-null  float64\n",
      " 55  std_og_t2m_mou_8          94621 non-null  float64\n",
      " 56  std_og_t2m_mou_9          92254 non-null  float64\n",
      " 57  std_og_t2f_mou_6          96062 non-null  float64\n",
      " 58  std_og_t2f_mou_7          96140 non-null  float64\n",
      " 59  std_og_t2f_mou_8          94621 non-null  float64\n",
      " 60  std_og_t2f_mou_9          92254 non-null  float64\n",
      " 61  std_og_t2c_mou_6          96062 non-null  float64\n",
      " 62  std_og_t2c_mou_7          96140 non-null  float64\n",
      " 63  std_og_t2c_mou_8          94621 non-null  float64\n",
      " 64  std_og_t2c_mou_9          92254 non-null  float64\n",
      " 65  std_og_mou_6              96062 non-null  float64\n",
      " 66  std_og_mou_7              96140 non-null  float64\n",
      " 67  std_og_mou_8              94621 non-null  float64\n",
      " 68  std_og_mou_9              92254 non-null  float64\n",
      " 69  isd_og_mou_6              96062 non-null  float64\n",
      " 70  isd_og_mou_7              96140 non-null  float64\n",
      " 71  isd_og_mou_8              94621 non-null  float64\n",
      " 72  isd_og_mou_9              92254 non-null  float64\n",
      " 73  spl_og_mou_6              96062 non-null  float64\n",
      " 74  spl_og_mou_7              96140 non-null  float64\n",
      " 75  spl_og_mou_8              94621 non-null  float64\n",
      " 76  spl_og_mou_9              92254 non-null  float64\n",
      " 77  og_others_6               96062 non-null  float64\n",
      " 78  og_others_7               96140 non-null  float64\n",
      " 79  og_others_8               94621 non-null  float64\n",
      " 80  og_others_9               92254 non-null  float64\n",
      " 81  total_og_mou_6            99999 non-null  float64\n",
      " 82  total_og_mou_7            99999 non-null  float64\n",
      " 83  total_og_mou_8            99999 non-null  float64\n",
      " 84  total_og_mou_9            99999 non-null  float64\n",
      " 85  loc_ic_t2t_mou_6          96062 non-null  float64\n",
      " 86  loc_ic_t2t_mou_7          96140 non-null  float64\n",
      " 87  loc_ic_t2t_mou_8          94621 non-null  float64\n",
      " 88  loc_ic_t2t_mou_9          92254 non-null  float64\n",
      " 89  loc_ic_t2m_mou_6          96062 non-null  float64\n",
      " 90  loc_ic_t2m_mou_7          96140 non-null  float64\n",
      " 91  loc_ic_t2m_mou_8          94621 non-null  float64\n",
      " 92  loc_ic_t2m_mou_9          92254 non-null  float64\n",
      " 93  loc_ic_t2f_mou_6          96062 non-null  float64\n",
      " 94  loc_ic_t2f_mou_7          96140 non-null  float64\n",
      " 95  loc_ic_t2f_mou_8          94621 non-null  float64\n",
      " 96  loc_ic_t2f_mou_9          92254 non-null  float64\n",
      " 97  loc_ic_mou_6              96062 non-null  float64\n",
      " 98  loc_ic_mou_7              96140 non-null  float64\n",
      " 99  loc_ic_mou_8              94621 non-null  float64\n",
      " 100 loc_ic_mou_9              92254 non-null  float64\n",
      " 101 std_ic_t2t_mou_6          96062 non-null  float64\n",
      " 102 std_ic_t2t_mou_7          96140 non-null  float64\n",
      " 103 std_ic_t2t_mou_8          94621 non-null  float64\n",
      " 104 std_ic_t2t_mou_9          92254 non-null  float64\n",
      " 105 std_ic_t2m_mou_6          96062 non-null  float64\n",
      " 106 std_ic_t2m_mou_7          96140 non-null  float64\n",
      " 107 std_ic_t2m_mou_8          94621 non-null  float64\n",
      " 108 std_ic_t2m_mou_9          92254 non-null  float64\n",
      " 109 std_ic_t2f_mou_6          96062 non-null  float64\n",
      " 110 std_ic_t2f_mou_7          96140 non-null  float64\n",
      " 111 std_ic_t2f_mou_8          94621 non-null  float64\n",
      " 112 std_ic_t2f_mou_9          92254 non-null  float64\n",
      " 113 std_ic_t2o_mou_6          96062 non-null  float64\n",
      " 114 std_ic_t2o_mou_7          96140 non-null  float64\n",
      " 115 std_ic_t2o_mou_8          94621 non-null  float64\n",
      " 116 std_ic_t2o_mou_9          92254 non-null  float64\n",
      " 117 std_ic_mou_6              96062 non-null  float64\n",
      " 118 std_ic_mou_7              96140 non-null  float64\n",
      " 119 std_ic_mou_8              94621 non-null  float64\n",
      " 120 std_ic_mou_9              92254 non-null  float64\n",
      " 121 total_ic_mou_6            99999 non-null  float64\n",
      " 122 total_ic_mou_7            99999 non-null  float64\n",
      " 123 total_ic_mou_8            99999 non-null  float64\n",
      " 124 total_ic_mou_9            99999 non-null  float64\n",
      " 125 spl_ic_mou_6              96062 non-null  float64\n",
      " 126 spl_ic_mou_7              96140 non-null  float64\n",
      " 127 spl_ic_mou_8              94621 non-null  float64\n",
      " 128 spl_ic_mou_9              92254 non-null  float64\n",
      " 129 isd_ic_mou_6              96062 non-null  float64\n",
      " 130 isd_ic_mou_7              96140 non-null  float64\n",
      " 131 isd_ic_mou_8              94621 non-null  float64\n",
      " 132 isd_ic_mou_9              92254 non-null  float64\n",
      " 133 ic_others_6               96062 non-null  float64\n",
      " 134 ic_others_7               96140 non-null  float64\n",
      " 135 ic_others_8               94621 non-null  float64\n",
      " 136 ic_others_9               92254 non-null  float64\n",
      " 137 total_rech_num_6          99999 non-null  int64  \n",
      " 138 total_rech_num_7          99999 non-null  int64  \n",
      " 139 total_rech_num_8          99999 non-null  int64  \n",
      " 140 total_rech_num_9          99999 non-null  int64  \n",
      " 141 total_rech_amt_6          99999 non-null  int64  \n",
      " 142 total_rech_amt_7          99999 non-null  int64  \n",
      " 143 total_rech_amt_8          99999 non-null  int64  \n",
      " 144 total_rech_amt_9          99999 non-null  int64  \n",
      " 145 max_rech_amt_6            99999 non-null  int64  \n",
      " 146 max_rech_amt_7            99999 non-null  int64  \n",
      " 147 max_rech_amt_8            99999 non-null  int64  \n",
      " 148 max_rech_amt_9            99999 non-null  int64  \n",
      " 149 date_of_last_rech_6       98392 non-null  object \n",
      " 150 date_of_last_rech_7       98232 non-null  object \n",
      " 151 date_of_last_rech_8       96377 non-null  object \n",
      " 152 date_of_last_rech_9       95239 non-null  object \n",
      " 153 last_day_rch_amt_6        99999 non-null  int64  \n",
      " 154 last_day_rch_amt_7        99999 non-null  int64  \n",
      " 155 last_day_rch_amt_8        99999 non-null  int64  \n",
      " 156 last_day_rch_amt_9        99999 non-null  int64  \n",
      " 157 date_of_last_rech_data_6  25153 non-null  object \n",
      " 158 date_of_last_rech_data_7  25571 non-null  object \n",
      " 159 date_of_last_rech_data_8  26339 non-null  object \n",
      " 160 date_of_last_rech_data_9  25922 non-null  object \n",
      " 161 total_rech_data_6         25153 non-null  float64\n",
      " 162 total_rech_data_7         25571 non-null  float64\n",
      " 163 total_rech_data_8         26339 non-null  float64\n",
      " 164 total_rech_data_9         25922 non-null  float64\n",
      " 165 max_rech_data_6           25153 non-null  float64\n",
      " 166 max_rech_data_7           25571 non-null  float64\n",
      " 167 max_rech_data_8           26339 non-null  float64\n",
      " 168 max_rech_data_9           25922 non-null  float64\n",
      " 169 count_rech_2g_6           25153 non-null  float64\n",
      " 170 count_rech_2g_7           25571 non-null  float64\n",
      " 171 count_rech_2g_8           26339 non-null  float64\n",
      " 172 count_rech_2g_9           25922 non-null  float64\n",
      " 173 count_rech_3g_6           25153 non-null  float64\n",
      " 174 count_rech_3g_7           25571 non-null  float64\n",
      " 175 count_rech_3g_8           26339 non-null  float64\n",
      " 176 count_rech_3g_9           25922 non-null  float64\n",
      " 177 av_rech_amt_data_6        25153 non-null  float64\n",
      " 178 av_rech_amt_data_7        25571 non-null  float64\n",
      " 179 av_rech_amt_data_8        26339 non-null  float64\n",
      " 180 av_rech_amt_data_9        25922 non-null  float64\n",
      " 181 vol_2g_mb_6               99999 non-null  float64\n",
      " 182 vol_2g_mb_7               99999 non-null  float64\n",
      " 183 vol_2g_mb_8               99999 non-null  float64\n",
      " 184 vol_2g_mb_9               99999 non-null  float64\n",
      " 185 vol_3g_mb_6               99999 non-null  float64\n",
      " 186 vol_3g_mb_7               99999 non-null  float64\n",
      " 187 vol_3g_mb_8               99999 non-null  float64\n",
      " 188 vol_3g_mb_9               99999 non-null  float64\n",
      " 189 arpu_3g_6                 25153 non-null  float64\n",
      " 190 arpu_3g_7                 25571 non-null  float64\n",
      " 191 arpu_3g_8                 26339 non-null  float64\n",
      " 192 arpu_3g_9                 25922 non-null  float64\n",
      " 193 arpu_2g_6                 25153 non-null  float64\n",
      " 194 arpu_2g_7                 25571 non-null  float64\n",
      " 195 arpu_2g_8                 26339 non-null  float64\n",
      " 196 arpu_2g_9                 25922 non-null  float64\n",
      " 197 night_pck_user_6          25153 non-null  float64\n",
      " 198 night_pck_user_7          25571 non-null  float64\n",
      " 199 night_pck_user_8          26339 non-null  float64\n",
      " 200 night_pck_user_9          25922 non-null  float64\n",
      " 201 monthly_2g_6              99999 non-null  int64  \n",
      " 202 monthly_2g_7              99999 non-null  int64  \n",
      " 203 monthly_2g_8              99999 non-null  int64  \n",
      " 204 monthly_2g_9              99999 non-null  int64  \n",
      " 205 sachet_2g_6               99999 non-null  int64  \n",
      " 206 sachet_2g_7               99999 non-null  int64  \n",
      " 207 sachet_2g_8               99999 non-null  int64  \n",
      " 208 sachet_2g_9               99999 non-null  int64  \n",
      " 209 monthly_3g_6              99999 non-null  int64  \n",
      " 210 monthly_3g_7              99999 non-null  int64  \n",
      " 211 monthly_3g_8              99999 non-null  int64  \n",
      " 212 monthly_3g_9              99999 non-null  int64  \n",
      " 213 sachet_3g_6               99999 non-null  int64  \n",
      " 214 sachet_3g_7               99999 non-null  int64  \n",
      " 215 sachet_3g_8               99999 non-null  int64  \n",
      " 216 sachet_3g_9               99999 non-null  int64  \n",
      " 217 fb_user_6                 25153 non-null  float64\n",
      " 218 fb_user_7                 25571 non-null  float64\n",
      " 219 fb_user_8                 26339 non-null  float64\n",
      " 220 fb_user_9                 25922 non-null  float64\n",
      " 221 aon                       99999 non-null  int64  \n",
      " 222 aug_vbc_3g                99999 non-null  float64\n",
      " 223 jul_vbc_3g                99999 non-null  float64\n",
      " 224 jun_vbc_3g                99999 non-null  float64\n",
      " 225 sep_vbc_3g                99999 non-null  float64\n",
      "dtypes: float64(179), int64(35), object(12)\n",
      "memory usage: 172.4+ MB\n"
     ]
    }
   ],
   "source": [
    "df.info(verbose=True, null_counts=True)"
   ]
  },
  {
   "cell_type": "markdown",
   "metadata": {},
   "source": [
    "# 1. data processing"
   ]
  },
  {
   "cell_type": "code",
   "execution_count": 5,
   "metadata": {},
   "outputs": [],
   "source": [
    "# Rename month to code \n",
    "\n",
    "df.rename(columns={'jun_vbc_3g':'vbc_3g_6','jul_vbc_3g':'vbc_3g_7','aug_vbc_3g':'vbc_3g_8',\n",
    "                   'sep_vbc_3g':'vbc_3g_9'},inplace=True)"
   ]
  },
  {
   "cell_type": "markdown",
   "metadata": {},
   "source": [
    "#### Drop date columns"
   ]
  },
  {
   "cell_type": "code",
   "execution_count": 6,
   "metadata": {},
   "outputs": [
    {
     "data": {
      "text/plain": [
       "['last_date_of_month_6',\n",
       " 'last_date_of_month_7',\n",
       " 'last_date_of_month_8',\n",
       " 'last_date_of_month_9',\n",
       " 'date_of_last_rech_6',\n",
       " 'date_of_last_rech_7',\n",
       " 'date_of_last_rech_8',\n",
       " 'date_of_last_rech_9',\n",
       " 'date_of_last_rech_data_6',\n",
       " 'date_of_last_rech_data_7',\n",
       " 'date_of_last_rech_data_8',\n",
       " 'date_of_last_rech_data_9']"
      ]
     },
     "execution_count": 6,
     "metadata": {},
     "output_type": "execute_result"
    }
   ],
   "source": [
    "# drop all date columns\n",
    "date_drop = [x for x in df.columns if 'date' in x]\n",
    "date_drop"
   ]
  },
  {
   "cell_type": "code",
   "execution_count": 7,
   "metadata": {},
   "outputs": [],
   "source": [
    "df = df.drop(date_drop,axis=1)"
   ]
  },
  {
   "cell_type": "code",
   "execution_count": 8,
   "metadata": {},
   "outputs": [
    {
     "data": {
      "text/plain": [
       "(99999, 214)"
      ]
     },
     "execution_count": 8,
     "metadata": {},
     "output_type": "execute_result"
    }
   ],
   "source": [
    "df.shape"
   ]
  },
  {
   "cell_type": "markdown",
   "metadata": {},
   "source": [
    "### missing value tratment"
   ]
  },
  {
   "cell_type": "code",
   "execution_count": 9,
   "metadata": {},
   "outputs": [
    {
     "data": {
      "text/plain": [
       "loc_og_t2o_mou         1.02\n",
       "std_og_t2o_mou         1.02\n",
       "loc_ic_t2o_mou         1.02\n",
       "std_og_mou_7           3.86\n",
       "loc_og_t2m_mou_7       3.86\n",
       "std_ic_mou_7           3.86\n",
       "loc_ic_mou_7           3.86\n",
       "std_og_t2c_mou_7       3.86\n",
       "loc_og_t2f_mou_7       3.86\n",
       "std_ic_t2o_mou_7       3.86\n",
       "loc_og_t2c_mou_7       3.86\n",
       "std_ic_t2t_mou_7       3.86\n",
       "std_og_t2f_mou_7       3.86\n",
       "loc_ic_t2t_mou_7       3.86\n",
       "loc_og_mou_7           3.86\n",
       "std_ic_t2f_mou_7       3.86\n",
       "std_og_t2t_mou_7       3.86\n",
       "std_og_t2m_mou_7       3.86\n",
       "loc_og_t2t_mou_7       3.86\n",
       "std_ic_t2m_mou_7       3.86\n",
       "spl_ic_mou_7           3.86\n",
       "isd_og_mou_7           3.86\n",
       "roam_og_mou_7          3.86\n",
       "og_others_7            3.86\n",
       "loc_ic_t2f_mou_7       3.86\n",
       "isd_ic_mou_7           3.86\n",
       "roam_ic_mou_7          3.86\n",
       "onnet_mou_7            3.86\n",
       "spl_og_mou_7           3.86\n",
       "loc_ic_t2m_mou_7       3.86\n",
       "offnet_mou_7           3.86\n",
       "ic_others_7            3.86\n",
       "std_ic_t2m_mou_6       3.94\n",
       "std_og_t2f_mou_6       3.94\n",
       "og_others_6            3.94\n",
       "std_ic_t2t_mou_6       3.94\n",
       "isd_og_mou_6           3.94\n",
       "std_og_t2c_mou_6       3.94\n",
       "spl_og_mou_6           3.94\n",
       "loc_ic_t2f_mou_6       3.94\n",
       "std_og_mou_6           3.94\n",
       "loc_ic_t2m_mou_6       3.94\n",
       "loc_ic_mou_6           3.94\n",
       "loc_og_mou_6           3.94\n",
       "spl_ic_mou_6           3.94\n",
       "onnet_mou_6            3.94\n",
       "offnet_mou_6           3.94\n",
       "ic_others_6            3.94\n",
       "roam_ic_mou_6          3.94\n",
       "isd_ic_mou_6           3.94\n",
       "roam_og_mou_6          3.94\n",
       "loc_og_t2t_mou_6       3.94\n",
       "std_og_t2m_mou_6       3.94\n",
       "loc_og_t2m_mou_6       3.94\n",
       "loc_ic_t2t_mou_6       3.94\n",
       "loc_og_t2f_mou_6       3.94\n",
       "std_og_t2t_mou_6       3.94\n",
       "loc_og_t2c_mou_6       3.94\n",
       "std_ic_t2o_mou_6       3.94\n",
       "std_ic_mou_6           3.94\n",
       "std_ic_t2f_mou_6       3.94\n",
       "loc_ic_mou_8           5.38\n",
       "loc_ic_t2t_mou_8       5.38\n",
       "ic_others_8            5.38\n",
       "std_ic_t2t_mou_8       5.38\n",
       "std_ic_t2f_mou_8       5.38\n",
       "spl_ic_mou_8           5.38\n",
       "std_ic_t2o_mou_8       5.38\n",
       "loc_ic_t2f_mou_8       5.38\n",
       "std_ic_mou_8           5.38\n",
       "isd_ic_mou_8           5.38\n",
       "std_ic_t2m_mou_8       5.38\n",
       "loc_ic_t2m_mou_8       5.38\n",
       "og_others_8            5.38\n",
       "loc_og_mou_8           5.38\n",
       "loc_og_t2m_mou_8       5.38\n",
       "std_og_t2t_mou_8       5.38\n",
       "std_og_t2m_mou_8       5.38\n",
       "loc_og_t2t_mou_8       5.38\n",
       "std_og_t2f_mou_8       5.38\n",
       "roam_og_mou_8          5.38\n",
       "loc_og_t2c_mou_8       5.38\n",
       "std_og_t2c_mou_8       5.38\n",
       "loc_og_t2f_mou_8       5.38\n",
       "roam_ic_mou_8          5.38\n",
       "isd_og_mou_8           5.38\n",
       "offnet_mou_8           5.38\n",
       "onnet_mou_8            5.38\n",
       "std_og_mou_8           5.38\n",
       "spl_og_mou_8           5.38\n",
       "roam_ic_mou_9          7.75\n",
       "std_ic_t2o_mou_9       7.75\n",
       "loc_og_t2m_mou_9       7.75\n",
       "ic_others_9            7.75\n",
       "std_ic_mou_9           7.75\n",
       "onnet_mou_9            7.75\n",
       "roam_og_mou_9          7.75\n",
       "isd_ic_mou_9           7.75\n",
       "og_others_9            7.75\n",
       "loc_og_t2t_mou_9       7.75\n",
       "spl_ic_mou_9           7.75\n",
       "offnet_mou_9           7.75\n",
       "std_ic_t2f_mou_9       7.75\n",
       "loc_og_t2f_mou_9       7.75\n",
       "loc_ic_t2t_mou_9       7.75\n",
       "loc_ic_t2m_mou_9       7.75\n",
       "isd_og_mou_9           7.75\n",
       "std_og_mou_9           7.75\n",
       "loc_ic_t2f_mou_9       7.75\n",
       "std_og_t2c_mou_9       7.75\n",
       "spl_og_mou_9           7.75\n",
       "std_og_t2f_mou_9       7.75\n",
       "std_og_t2m_mou_9       7.75\n",
       "std_ic_t2t_mou_9       7.75\n",
       "std_og_t2t_mou_9       7.75\n",
       "std_ic_t2m_mou_9       7.75\n",
       "loc_og_mou_9           7.75\n",
       "loc_og_t2c_mou_9       7.75\n",
       "loc_ic_mou_9           7.75\n",
       "av_rech_amt_data_8    73.66\n",
       "count_rech_2g_8       73.66\n",
       "arpu_3g_8             73.66\n",
       "max_rech_data_8       73.66\n",
       "total_rech_data_8     73.66\n",
       "night_pck_user_8      73.66\n",
       "fb_user_8             73.66\n",
       "arpu_2g_8             73.66\n",
       "count_rech_3g_8       73.66\n",
       "arpu_3g_9             74.08\n",
       "arpu_2g_9             74.08\n",
       "av_rech_amt_data_9    74.08\n",
       "night_pck_user_9      74.08\n",
       "count_rech_3g_9       74.08\n",
       "fb_user_9             74.08\n",
       "count_rech_2g_9       74.08\n",
       "total_rech_data_9     74.08\n",
       "max_rech_data_9       74.08\n",
       "arpu_2g_7             74.43\n",
       "fb_user_7             74.43\n",
       "total_rech_data_7     74.43\n",
       "night_pck_user_7      74.43\n",
       "count_rech_3g_7       74.43\n",
       "count_rech_2g_7       74.43\n",
       "arpu_3g_7             74.43\n",
       "av_rech_amt_data_7    74.43\n",
       "max_rech_data_7       74.43\n",
       "arpu_2g_6             74.85\n",
       "max_rech_data_6       74.85\n",
       "arpu_3g_6             74.85\n",
       "night_pck_user_6      74.85\n",
       "count_rech_2g_6       74.85\n",
       "total_rech_data_6     74.85\n",
       "fb_user_6             74.85\n",
       "av_rech_amt_data_6    74.85\n",
       "count_rech_3g_6       74.85\n",
       "dtype: float64"
      ]
     },
     "execution_count": 9,
     "metadata": {},
     "output_type": "execute_result"
    }
   ],
   "source": [
    "# getting percentage of null value\n",
    "null_col=round(100*df.isnull().sum()/len(df.index),2) \n",
    "null_col[null_col!=0].sort_values()\n"
   ]
  },
  {
   "cell_type": "code",
   "execution_count": 10,
   "metadata": {},
   "outputs": [
    {
     "data": {
      "text/html": [
       "<div>\n",
       "<style scoped>\n",
       "    .dataframe tbody tr th:only-of-type {\n",
       "        vertical-align: middle;\n",
       "    }\n",
       "\n",
       "    .dataframe tbody tr th {\n",
       "        vertical-align: top;\n",
       "    }\n",
       "\n",
       "    .dataframe thead th {\n",
       "        text-align: right;\n",
       "    }\n",
       "</style>\n",
       "<table border=\"1\" class=\"dataframe\">\n",
       "  <thead>\n",
       "    <tr style=\"text-align: right;\">\n",
       "      <th></th>\n",
       "      <th>count_rech_2g_8</th>\n",
       "      <th>total_rech_data_8</th>\n",
       "      <th>max_rech_data_8</th>\n",
       "      <th>night_pck_user_8</th>\n",
       "    </tr>\n",
       "  </thead>\n",
       "  <tbody>\n",
       "    <tr>\n",
       "      <th>2</th>\n",
       "      <td>NaN</td>\n",
       "      <td>NaN</td>\n",
       "      <td>NaN</td>\n",
       "      <td>NaN</td>\n",
       "    </tr>\n",
       "    <tr>\n",
       "      <th>3</th>\n",
       "      <td>NaN</td>\n",
       "      <td>NaN</td>\n",
       "      <td>NaN</td>\n",
       "      <td>NaN</td>\n",
       "    </tr>\n",
       "    <tr>\n",
       "      <th>4</th>\n",
       "      <td>NaN</td>\n",
       "      <td>NaN</td>\n",
       "      <td>NaN</td>\n",
       "      <td>NaN</td>\n",
       "    </tr>\n",
       "    <tr>\n",
       "      <th>5</th>\n",
       "      <td>NaN</td>\n",
       "      <td>NaN</td>\n",
       "      <td>NaN</td>\n",
       "      <td>NaN</td>\n",
       "    </tr>\n",
       "    <tr>\n",
       "      <th>6</th>\n",
       "      <td>NaN</td>\n",
       "      <td>NaN</td>\n",
       "      <td>NaN</td>\n",
       "      <td>NaN</td>\n",
       "    </tr>\n",
       "  </tbody>\n",
       "</table>\n",
       "</div>"
      ],
      "text/plain": [
       "   count_rech_2g_8  total_rech_data_8  max_rech_data_8  night_pck_user_8\n",
       "2              NaN                NaN              NaN               NaN\n",
       "3              NaN                NaN              NaN               NaN\n",
       "4              NaN                NaN              NaN               NaN\n",
       "5              NaN                NaN              NaN               NaN\n",
       "6              NaN                NaN              NaN               NaN"
      ]
     },
     "execution_count": 10,
     "metadata": {},
     "output_type": "execute_result"
    }
   ],
   "source": [
    "# checking missing values for month 8 or any \n",
    "\n",
    "df.loc[df.night_pck_user_8.isnull()&df.total_rech_data_8.isnull() & df.max_rech_data_8.isnull()&df.count_rech_2g_8.isnull(),['count_rech_2g_8','total_rech_data_8','max_rech_data_8','night_pck_user_8']].head()"
   ]
  },
  {
   "cell_type": "markdown",
   "metadata": {},
   "source": [
    "    - From above it is observed that .There is a pattern in missing values. some values are \n",
    "             missing altogether as the customer didnot recharge . \n",
    "    - so impute all missing values with zero.\n",
    "    "
   ]
  },
  {
   "cell_type": "code",
   "execution_count": 11,
   "metadata": {},
   "outputs": [],
   "source": [
    "# Impute zero \n",
    "\n",
    "df.fillna(0, inplace=True)"
   ]
  },
  {
   "cell_type": "code",
   "execution_count": 12,
   "metadata": {},
   "outputs": [
    {
     "data": {
      "text/plain": [
       "Series([], dtype: float64)"
      ]
     },
     "execution_count": 12,
     "metadata": {},
     "output_type": "execute_result"
    }
   ],
   "source": [
    "# check missing values again\n",
    "null_col=round(100*df.isnull().sum()/len(df.index),2)\n",
    "null_col[null_col!=0]"
   ]
  },
  {
   "cell_type": "markdown",
   "metadata": {},
   "source": [
    "#### Drop columns :\n",
    " Below columns can be dropped\n",
    "  \n",
    "  - mobile number \n",
    "  - total_rech_data_6 = count_rech_2g_6 + count_rech_3g_6 \n",
    "        so drop count_reach_2g and 3g for all 4 months\n"
   ]
  },
  {
   "cell_type": "code",
   "execution_count": 13,
   "metadata": {},
   "outputs": [],
   "source": [
    "df = df.drop(['mobile_number',\n",
    "              'count_rech_2g_6','count_rech_2g_7','count_rech_2g_8','count_rech_2g_9',\n",
    "              'count_rech_3g_6','count_rech_3g_7','count_rech_3g_8','count_rech_3g_9' ],axis=1)"
   ]
  },
  {
   "cell_type": "markdown",
   "metadata": {},
   "source": [
    "### Unique values\n",
    "\n",
    "Drop columns which have more than 95% same information content."
   ]
  },
  {
   "cell_type": "code",
   "execution_count": 14,
   "metadata": {},
   "outputs": [
    {
     "name": "stdout",
     "output_type": "stream",
     "text": [
      "circle_id    : 1.0\n",
      "loc_og_t2o_mou    : 1.0\n",
      "std_og_t2o_mou    : 1.0\n",
      "loc_ic_t2o_mou    : 1.0\n",
      "std_og_t2c_mou_6    : 1.0\n",
      "std_og_t2c_mou_7    : 1.0\n",
      "std_og_t2c_mou_8    : 1.0\n",
      "std_og_t2c_mou_9    : 1.0\n",
      "isd_og_mou_6    : 0.9520095200952009\n",
      "isd_og_mou_7    : 0.9550995509955099\n",
      "isd_og_mou_8    : 0.958359583595836\n",
      "isd_og_mou_9    : 0.956959569595696\n",
      "og_others_7    : 0.996529965299653\n",
      "og_others_8    : 0.995889958899589\n",
      "og_others_9    : 0.995779957799578\n",
      "std_ic_t2o_mou_6    : 1.0\n",
      "std_ic_t2o_mou_7    : 1.0\n",
      "std_ic_t2o_mou_8    : 1.0\n",
      "std_ic_t2o_mou_9    : 1.0\n",
      "night_pck_user_6    : 0.993689936899369\n",
      "night_pck_user_7    : 0.994109941099411\n",
      "night_pck_user_8    : 0.994509945099451\n",
      "night_pck_user_9    : 0.995859958599586\n",
      "sachet_3g_6    : 0.9581895818958189\n",
      "sachet_3g_7    : 0.95869958699587\n",
      "sachet_3g_8    : 0.9580995809958099\n",
      "sachet_3g_9    : 0.957269572695727\n"
     ]
    },
    {
     "data": {
      "text/plain": [
       "['circle_id',\n",
       " 'loc_og_t2o_mou',\n",
       " 'std_og_t2o_mou',\n",
       " 'loc_ic_t2o_mou',\n",
       " 'std_og_t2c_mou_6',\n",
       " 'std_og_t2c_mou_7',\n",
       " 'std_og_t2c_mou_8',\n",
       " 'std_og_t2c_mou_9',\n",
       " 'isd_og_mou_6',\n",
       " 'isd_og_mou_7',\n",
       " 'isd_og_mou_8',\n",
       " 'isd_og_mou_9',\n",
       " 'og_others_7',\n",
       " 'og_others_8',\n",
       " 'og_others_9',\n",
       " 'std_ic_t2o_mou_6',\n",
       " 'std_ic_t2o_mou_7',\n",
       " 'std_ic_t2o_mou_8',\n",
       " 'std_ic_t2o_mou_9',\n",
       " 'night_pck_user_6',\n",
       " 'night_pck_user_7',\n",
       " 'night_pck_user_8',\n",
       " 'night_pck_user_9',\n",
       " 'sachet_3g_6',\n",
       " 'sachet_3g_7',\n",
       " 'sachet_3g_8',\n",
       " 'sachet_3g_9']"
      ]
     },
     "execution_count": 14,
     "metadata": {},
     "output_type": "execute_result"
    }
   ],
   "source": [
    "uni_col=[]  # list of columns with unique value\n",
    "for i in df.columns:\n",
    "    x = df[i].value_counts(normalize=True).max()\n",
    "    if(x>=.95):\n",
    "        print(i,\"   :\",x)\n",
    "        uni_col.append(i)\n",
    "uni_col    "
   ]
  },
  {
   "cell_type": "code",
   "execution_count": 15,
   "metadata": {},
   "outputs": [],
   "source": [
    "df = df.drop(uni_col,axis=1)  "
   ]
  },
  {
   "cell_type": "code",
   "execution_count": 16,
   "metadata": {},
   "outputs": [
    {
     "data": {
      "text/plain": [
       "(99999, 178)"
      ]
     },
     "execution_count": 16,
     "metadata": {},
     "output_type": "execute_result"
    }
   ],
   "source": [
    "df.shape"
   ]
  },
  {
   "cell_type": "code",
   "execution_count": 17,
   "metadata": {},
   "outputs": [],
   "source": [
    "# change negative values in ARPU to -1\n",
    "df['arpu_6']=df.arpu_6.apply(lambda x:x if x>0 else -1)\n",
    "df['arpu_7']=df.arpu_7.apply(lambda x:x if x>0 else -1)\n",
    "df['arpu_8']=df.arpu_8.apply(lambda x:x if x>0 else -1)\n",
    "df['arpu_9']=df.arpu_9.apply(lambda x:x if x>0 else -1)"
   ]
  },
  {
   "cell_type": "markdown",
   "metadata": {},
   "source": [
    "## New feature\n",
    "\n",
    "        - total data recharge--> amt_data_rech = total_rech_data * av_rech_amt_data\n",
    "        - total call recharge---> total_rech_amt -> given\n",
    "        - total amount = total data recharge + total call recharge\n",
    "        - find 70 th percentile and filter high value customer"
   ]
  },
  {
   "cell_type": "code",
   "execution_count": 18,
   "metadata": {},
   "outputs": [],
   "source": [
    "# find average of recharge amount of 6&7 and find 70th percentile\n",
    "\n",
    "# add  new columns for recharge +data recharge   \n",
    "\n",
    "df['total_amt_6'] = df['total_rech_amt_6']+ (df['total_rech_data_6']*df['av_rech_amt_data_6'])\n",
    "df['total_amt_7'] = df['total_rech_amt_7']+ (df['total_rech_data_7']*df['av_rech_amt_data_7'])\n",
    "\n",
    "# mean recharge amount of first 2 months\n",
    "\n",
    "df['avg_rech_amt_good'] = df[['total_amt_6','total_amt_7']].mean(axis=1)\n",
    " "
   ]
  },
  {
   "cell_type": "code",
   "execution_count": 19,
   "metadata": {},
   "outputs": [],
   "source": [
    "# filter high value customers\n",
    "\n",
    "df= df[df['avg_rech_amt_good']>=(df['avg_rech_amt_good'].quantile(.7))]"
   ]
  },
  {
   "cell_type": "code",
   "execution_count": 20,
   "metadata": {},
   "outputs": [
    {
     "data": {
      "text/plain": [
       "(30001, 181)"
      ]
     },
     "execution_count": 20,
     "metadata": {},
     "output_type": "execute_result"
    }
   ],
   "source": [
    "df.shape"
   ]
  },
  {
   "cell_type": "code",
   "execution_count": 21,
   "metadata": {},
   "outputs": [
    {
     "data": {
      "text/plain": [
       "count    30001.000000\n",
       "mean      1152.620628\n",
       "std       1358.713982\n",
       "min        478.000000\n",
       "25%        603.000000\n",
       "50%        800.000000\n",
       "75%       1208.000000\n",
       "max      61236.000000\n",
       "Name: avg_rech_amt_good, dtype: float64"
      ]
     },
     "execution_count": 21,
     "metadata": {},
     "output_type": "execute_result"
    }
   ],
   "source": [
    "df.avg_rech_amt_good.describe()"
   ]
  },
  {
   "cell_type": "code",
   "execution_count": 22,
   "metadata": {},
   "outputs": [
    {
     "data": {
      "text/plain": [
       "10941.0"
      ]
     },
     "execution_count": 22,
     "metadata": {},
     "output_type": "execute_result"
    }
   ],
   "source": [
    "df.avg_rech_amt_good.quantile(.997)"
   ]
  },
  {
   "cell_type": "markdown",
   "metadata": {},
   "source": [
    "#### Remove outliers"
   ]
  },
  {
   "cell_type": "code",
   "execution_count": 23,
   "metadata": {},
   "outputs": [],
   "source": [
    "# filter outliers from high value customers\n",
    "\n",
    "df= df[df['avg_rech_amt_good']<(df['avg_rech_amt_good'].quantile(.997))]"
   ]
  },
  {
   "cell_type": "code",
   "execution_count": 24,
   "metadata": {},
   "outputs": [
    {
     "data": {
      "text/plain": [
       "(29910, 181)"
      ]
     },
     "execution_count": 24,
     "metadata": {},
     "output_type": "execute_result"
    }
   ],
   "source": [
    "df.shape"
   ]
  },
  {
   "cell_type": "markdown",
   "metadata": {},
   "source": [
    "## Tag churners\n",
    "Tag the churned customers (churn=1, else 0) based on the fourth month as follows:\n",
    "Those who have not made any calls (either incoming or outgoing) AND have not used mobile internet even once in the churn phase. \n",
    "\n",
    "•\ttotal_ic_mou_9\n",
    "•\ttotal_og_mou_9\n",
    "•\tvol_2g_mb_9\n",
    "•\tvol_3g_mb_9\n"
   ]
  },
  {
   "cell_type": "code",
   "execution_count": 25,
   "metadata": {},
   "outputs": [],
   "source": [
    "# churn target variable 1-churn\n",
    "\n",
    "df['churn'] = df.apply(lambda x:1 if (x.total_ic_mou_9==0) and (x.total_og_mou_9==0) and\n",
    "                       (x.vol_2g_mb_9==0) and (x.vol_3g_mb_9==0) else 0 ,axis=1)"
   ]
  },
  {
   "cell_type": "code",
   "execution_count": 26,
   "metadata": {},
   "outputs": [
    {
     "data": {
      "text/plain": [
       "0    91.852223\n",
       "1     8.147777\n",
       "Name: churn, dtype: float64"
      ]
     },
     "execution_count": 26,
     "metadata": {},
     "output_type": "execute_result"
    }
   ],
   "source": [
    "df.churn.value_counts()*100 / len(df.index)\n"
   ]
  },
  {
   "cell_type": "markdown",
   "metadata": {},
   "source": [
    "#### remove attributes of the churn phase"
   ]
  },
  {
   "cell_type": "code",
   "execution_count": 27,
   "metadata": {},
   "outputs": [
    {
     "data": {
      "text/plain": [
       "['arpu_9',\n",
       " 'onnet_mou_9',\n",
       " 'offnet_mou_9',\n",
       " 'roam_ic_mou_9',\n",
       " 'roam_og_mou_9',\n",
       " 'loc_og_t2t_mou_9',\n",
       " 'loc_og_t2m_mou_9',\n",
       " 'loc_og_t2f_mou_9',\n",
       " 'loc_og_t2c_mou_9',\n",
       " 'loc_og_mou_9',\n",
       " 'std_og_t2t_mou_9',\n",
       " 'std_og_t2m_mou_9',\n",
       " 'std_og_t2f_mou_9',\n",
       " 'std_og_mou_9',\n",
       " 'spl_og_mou_9',\n",
       " 'total_og_mou_9',\n",
       " 'loc_ic_t2t_mou_9',\n",
       " 'loc_ic_t2m_mou_9',\n",
       " 'loc_ic_t2f_mou_9',\n",
       " 'loc_ic_mou_9',\n",
       " 'std_ic_t2t_mou_9',\n",
       " 'std_ic_t2m_mou_9',\n",
       " 'std_ic_t2f_mou_9',\n",
       " 'std_ic_mou_9',\n",
       " 'total_ic_mou_9',\n",
       " 'spl_ic_mou_9',\n",
       " 'isd_ic_mou_9',\n",
       " 'ic_others_9',\n",
       " 'total_rech_num_9',\n",
       " 'total_rech_amt_9',\n",
       " 'max_rech_amt_9',\n",
       " 'last_day_rch_amt_9',\n",
       " 'total_rech_data_9',\n",
       " 'max_rech_data_9',\n",
       " 'av_rech_amt_data_9',\n",
       " 'vol_2g_mb_9',\n",
       " 'vol_3g_mb_9',\n",
       " 'arpu_3g_9',\n",
       " 'arpu_2g_9',\n",
       " 'monthly_2g_9',\n",
       " 'sachet_2g_9',\n",
       " 'monthly_3g_9',\n",
       " 'fb_user_9',\n",
       " 'vbc_3g_9']"
      ]
     },
     "execution_count": 27,
     "metadata": {},
     "output_type": "execute_result"
    }
   ],
   "source": [
    "# remove all the columns of 9th month\n",
    "churn_mnth =  [x for x in df.columns if '9' in x]\n",
    "churn_mnth"
   ]
  },
  {
   "cell_type": "code",
   "execution_count": 28,
   "metadata": {},
   "outputs": [
    {
     "data": {
      "text/plain": [
       "(29910, 138)"
      ]
     },
     "execution_count": 28,
     "metadata": {},
     "output_type": "execute_result"
    }
   ],
   "source": [
    "df = df.drop(churn_mnth,axis=1)\n",
    "df.shape"
   ]
  },
  {
   "cell_type": "markdown",
   "metadata": {},
   "source": [
    "# 3. EDA"
   ]
  },
  {
   "cell_type": "code",
   "execution_count": 29,
   "metadata": {},
   "outputs": [
    {
     "data": {
      "text/plain": [
       "<Figure size 360x360 with 0 Axes>"
      ]
     },
     "execution_count": 29,
     "metadata": {},
     "output_type": "execute_result"
    },
    {
     "data": {
      "text/plain": [
       "<Figure size 360x360 with 0 Axes>"
      ]
     },
     "metadata": {},
     "output_type": "display_data"
    }
   ],
   "source": [
    "# function - plots\n",
    "def distplot_numeric(data, columns):\n",
    "    for column in columns:\n",
    "        sns.distplot(data[column])\n",
    "        plt.show()\n",
    "        \n",
    "def barchart_wrt_churn(data, columns):\n",
    "    for column in columns:\n",
    "        sns.barplot(x='churn', y=column, data=data)\n",
    "        plt.show()\n",
    "        \n",
    "def boxplot_wrt_churn(data, columns):\n",
    "    for column in columns:\n",
    "        sns.boxplot(x='churn', y=column, data=data)\n",
    "        plt.show()\n",
    "    \n",
    "plt.figure(figsize=(5, 5))"
   ]
  },
  {
   "cell_type": "markdown",
   "metadata": {},
   "source": [
    "### Univariate analysis:"
   ]
  },
  {
   "cell_type": "code",
   "execution_count": 30,
   "metadata": {},
   "outputs": [
    {
     "data": {
      "image/png": "[encoded data removed]",
      "text/plain": [
       "<Figure size 432x288 with 1 Axes>"
      ]
     },
     "metadata": {
      "needs_background": "light"
     },
     "output_type": "display_data"
    },
    {
     "data": {
      "image/png": "[encoded data removed]",
      "text/plain": [
       "<Figure size 432x288 with 1 Axes>"
      ]
     },
     "metadata": {
      "needs_background": "light"
     },
     "output_type": "display_data"
    },
    {
     "data": {
      "image/png": "[encoded data removed]",
      "text/plain": [
       "<Figure size 432x288 with 1 Axes>"
      ]
     },
     "metadata": {
      "needs_background": "light"
     },
     "output_type": "display_data"
    },
    {
     "data": {
      "image/png": "[encoded data removed]",
      "text/plain": [
       "<Figure size 432x288 with 1 Axes>"
      ]
     },
     "metadata": {
      "needs_background": "light"
     },
     "output_type": "display_data"
    },
    {
     "data": {
      "image/png": "[encoded data removed]",
      "text/plain": [
       "<Figure size 432x288 with 1 Axes>"
      ]
     },
     "metadata": {
      "needs_background": "light"
     },
     "output_type": "display_data"
    },
    {
     "data": {
      "image/png": "[encoded data removed]",
      "text/plain": [
       "<Figure size 432x288 with 1 Axes>"
      ]
     },
     "metadata": {
      "needs_background": "light"
     },
     "output_type": "display_data"
    },
    {
     "data": {
      "image/png": "[encoded data removed]",
      "text/plain": [
       "<Figure size 432x288 with 1 Axes>"
      ]
     },
     "metadata": {
      "needs_background": "light"
     },
     "output_type": "display_data"
    },
    {
     "data": {
      "image/png": "[encoded data removed]",
      "text/plain": [
       "<Figure size 432x288 with 1 Axes>"
      ]
     },
     "metadata": {
      "needs_background": "light"
     },
     "output_type": "display_data"
    },
    {
     "data": {
      "image/png": "[encoded data removed]",
      "text/plain": [
       "<Figure size 432x288 with 1 Axes>"
      ]
     },
     "metadata": {
      "needs_background": "light"
     },
     "output_type": "display_data"
    },
    {
     "data": {
      "image/png": "[encoded data removed]",
      "text/plain": [
       "<Figure size 432x288 with 1 Axes>"
      ]
     },
     "metadata": {
      "needs_background": "light"
     },
     "output_type": "display_data"
    }
   ],
   "source": [
    "distplot_numeric(df, ['arpu_6','loc_og_t2t_mou_6','std_og_t2t_mou_6', 'onnet_mou_6', 'offnet_mou_6', \n",
    "                      'arpu_7','loc_og_t2t_mou_7','std_og_t2t_mou_7', 'onnet_mou_7', 'offnet_mou_7'])"
   ]
  },
  {
   "cell_type": "markdown",
   "metadata": {},
   "source": [
    "### Bivariate analysis:"
   ]
  },
  {
   "cell_type": "code",
   "execution_count": 31,
   "metadata": {},
   "outputs": [
    {
     "data": {
      "image/png": "[encoded data removed]",
      "text/plain": [
       "<Figure size 432x288 with 1 Axes>"
      ]
     },
     "metadata": {
      "needs_background": "light"
     },
     "output_type": "display_data"
    },
    {
     "data": {
      "image/png": "[encoded data removed]",
      "text/plain": [
       "<Figure size 432x288 with 1 Axes>"
      ]
     },
     "metadata": {
      "needs_background": "light"
     },
     "output_type": "display_data"
    },
    {
     "data": {
      "image/png": "[encoded data removed]",
      "text/plain": [
       "<Figure size 432x288 with 1 Axes>"
      ]
     },
     "metadata": {
      "needs_background": "light"
     },
     "output_type": "display_data"
    },
    {
     "data": {
      "image/png": "[encoded data removed]",
      "text/plain": [
       "<Figure size 432x288 with 1 Axes>"
      ]
     },
     "metadata": {
      "needs_background": "light"
     },
     "output_type": "display_data"
    },
    {
     "data": {
      "image/png": "[encoded data removed]",
      "text/plain": [
       "<Figure size 432x288 with 1 Axes>"
      ]
     },
     "metadata": {
      "needs_background": "light"
     },
     "output_type": "display_data"
    },
    {
     "data": {
      "image/png": "[encoded data removed]",
      "text/plain": [
       "<Figure size 432x288 with 1 Axes>"
      ]
     },
     "metadata": {
      "needs_background": "light"
     },
     "output_type": "display_data"
    },
    {
     "data": {
      "image/png": "[encoded data removed]",
      "text/plain": [
       "<Figure size 432x288 with 1 Axes>"
      ]
     },
     "metadata": {
      "needs_background": "light"
     },
     "output_type": "display_data"
    },
    {
     "data": {
      "image/png": "[encoded data removed]",
      "text/plain": [
       "<Figure size 432x288 with 1 Axes>"
      ]
     },
     "metadata": {
      "needs_background": "light"
     },
     "output_type": "display_data"
    },
    {
     "data": {
      "image/png": "[encoded data removed]",
      "text/plain": [
       "<Figure size 432x288 with 1 Axes>"
      ]
     },
     "metadata": {
      "needs_background": "light"
     },
     "output_type": "display_data"
    },
    {
     "data": {
      "image/png": "[encoded data removed]",
      "text/plain": [
       "<Figure size 432x288 with 1 Axes>"
      ]
     },
     "metadata": {
      "needs_background": "light"
     },
     "output_type": "display_data"
    }
   ],
   "source": [
    "barchart_wrt_churn(df, ['arpu_6','loc_og_t2t_mou_6','std_og_t2t_mou_6', 'onnet_mou_6', 'offnet_mou_6', 'arpu_7',\n",
    "                        'loc_og_t2t_mou_7','std_og_t2t_mou_7', 'onnet_mou_7', 'offnet_mou_7'])"
   ]
  },
  {
   "cell_type": "code",
   "execution_count": 32,
   "metadata": {},
   "outputs": [
    {
     "data": {
      "image/png": "[encoded data removed]",
      "text/plain": [
       "<Figure size 432x288 with 1 Axes>"
      ]
     },
     "metadata": {
      "needs_background": "light"
     },
     "output_type": "display_data"
    },
    {
     "data": {
      "image/png": "[encoded data removed]",
      "text/plain": [
       "<Figure size 432x288 with 1 Axes>"
      ]
     },
     "metadata": {
      "needs_background": "light"
     },
     "output_type": "display_data"
    },
    {
     "data": {
      "image/png": "[encoded data removed]",
      "text/plain": [
       "<Figure size 432x288 with 1 Axes>"
      ]
     },
     "metadata": {
      "needs_background": "light"
     },
     "output_type": "display_data"
    },
    {
     "data": {
      "image/png": "[encoded data removed]",
      "text/plain": [
       "<Figure size 432x288 with 1 Axes>"
      ]
     },
     "metadata": {
      "needs_background": "light"
     },
     "output_type": "display_data"
    },
    {
     "data": {
      "image/png": "[encoded data removed]",
      "text/plain": [
       "<Figure size 432x288 with 1 Axes>"
      ]
     },
     "metadata": {
      "needs_background": "light"
     },
     "output_type": "display_data"
    }
   ],
   "source": [
    "boxplot_wrt_churn(df, ['aon', 'arpu_6', 'total_amt_6','total_amt_7', 'avg_rech_amt_good'])"
   ]
  },
  {
   "cell_type": "code",
   "execution_count": 33,
   "metadata": {},
   "outputs": [
    {
     "data": {
      "text/plain": [
       "<matplotlib.axes._subplots.AxesSubplot at 0x250be7b8f48>"
      ]
     },
     "execution_count": 33,
     "metadata": {},
     "output_type": "execute_result"
    },
    {
     "data": {
      "image/png": "[encoded data removed]",
      "text/plain": [
       "<Figure size 1152x576 with 2 Axes>"
      ]
     },
     "metadata": {
      "needs_background": "light"
     },
     "output_type": "display_data"
    }
   ],
   "source": [
    "#churn\n",
    "\n",
    "f, ax = plt.subplots(1, 2, figsize=(16,8))\n",
    "colors = [\"#228B22\", \"#FF6347\"]\n",
    "\n",
    "labels =\"No Churn\", \"Churn\"\n",
    "plt.suptitle('Information on Churn', fontsize=20)\n",
    "\n",
    "df[\"churn\"].value_counts().plot.pie(explode=[0,0.25], autopct='%1.2f%%', ax=ax[0], shadow=True, colors=colors, \n",
    "                                             labels=labels, fontsize=12, startangle=70)\n",
    "ax[0].set_ylabel('% of Condition of Churn', fontsize=14)\n",
    "\n",
    "sns.barplot(x=\"fb_user_6\", y=\"churn\", hue=\"churn\", data=df, estimator=lambda x: len(x) / len(df) * 100)\n",
    "\n"
   ]
  },
  {
   "cell_type": "markdown",
   "metadata": {},
   "source": [
    "# Train &  Test split"
   ]
  },
  {
   "cell_type": "code",
   "execution_count": 34,
   "metadata": {},
   "outputs": [],
   "source": [
    "# Putting feature variable to X\n",
    "X = df.drop(['churn'],axis=1)\n",
    "\n",
    "# Putting response variable to y\n",
    "y = df['churn']"
   ]
  },
  {
   "cell_type": "code",
   "execution_count": 35,
   "metadata": {},
   "outputs": [],
   "source": [
    "# Splitting the data into train and test\n",
    "X_train, X_test, y_train, y_test = train_test_split(X, y, train_size=0.7,test_size=0.3,random_state=100)"
   ]
  },
  {
   "cell_type": "code",
   "execution_count": 36,
   "metadata": {},
   "outputs": [
    {
     "data": {
      "text/plain": [
       "(20937, 137)"
      ]
     },
     "execution_count": 36,
     "metadata": {},
     "output_type": "execute_result"
    }
   ],
   "source": [
    "X_train.shape"
   ]
  },
  {
   "cell_type": "code",
   "execution_count": 37,
   "metadata": {},
   "outputs": [
    {
     "data": {
      "text/plain": [
       "(8973, 137)"
      ]
     },
     "execution_count": 37,
     "metadata": {},
     "output_type": "execute_result"
    }
   ],
   "source": [
    "X_test.shape"
   ]
  },
  {
   "cell_type": "markdown",
   "metadata": {},
   "source": [
    "# Feature importance"
   ]
  },
  {
   "cell_type": "markdown",
   "metadata": {},
   "source": [
    "#### Random forest before smote- to find feature importance  \n"
   ]
  },
  {
   "cell_type": "code",
   "execution_count": 38,
   "metadata": {},
   "outputs": [
    {
     "name": "stdout",
     "output_type": "stream",
     "text": [
      "Fitting 3 folds for each of 100 candidates, totalling 300 fits\n"
     ]
    },
    {
     "name": "stderr",
     "output_type": "stream",
     "text": [
      "[Parallel(n_jobs=-1)]: Using backend LokyBackend with 4 concurrent workers.\n",
      "[Parallel(n_jobs=-1)]: Done  33 tasks      | elapsed:   33.5s\n",
      "[Parallel(n_jobs=-1)]: Done 154 tasks      | elapsed:  2.0min\n",
      "[Parallel(n_jobs=-1)]: Done 300 out of 300 | elapsed:  3.9min finished\n"
     ]
    },
    {
     "data": {
      "text/plain": [
       "{'n_estimators': 30,\n",
       " 'min_samples_split': 5,\n",
       " 'min_samples_leaf': 5,\n",
       " 'max_features': 5,\n",
       " 'max_depth': 5,\n",
       " 'bootstrap': False}"
      ]
     },
     "execution_count": 38,
     "metadata": {},
     "output_type": "execute_result"
    }
   ],
   "source": [
    "rf = RandomForestClassifier()\n",
    "\n",
    "params_rf={'max_depth': [5, 10, 20],\n",
    "          'min_samples_split': [5, 10, 20],\n",
    "          'max_features': [5,10],\n",
    "          'n_estimators': [10, 30, 50],\n",
    "          'min_samples_leaf': [2, 5, 10],\n",
    "          'bootstrap': [True, False]\n",
    "}\n",
    "\n",
    "model_rf = RandomizedSearchCV(rf, params_rf, cv=3,n_iter = 100, random_state=42, n_jobs=-1, verbose=2)\n",
    "model_rf.fit(X_train, y_train)\n",
    "model_rf.best_params_"
   ]
  },
  {
   "cell_type": "code",
   "execution_count": 39,
   "metadata": {},
   "outputs": [
    {
     "data": {
      "text/plain": [
       "RandomForestClassifier(criterion='entropy', max_depth=20, max_features=5,\n",
       "                       min_samples_split=10, n_estimators=30, oob_score=True)"
      ]
     },
     "execution_count": 39,
     "metadata": {},
     "output_type": "execute_result"
    }
   ],
   "source": [
    "# random forest best fit model creation\n",
    "model_rf = RandomForestClassifier(n_estimators=30, \n",
    "                             max_depth=20,\n",
    "                             min_samples_split=10,\n",
    "                             max_features = 5,\n",
    "                            criterion='entropy',\n",
    "                            oob_score=True)\n",
    "\n",
    "model_rf.fit(X_train, y_train)"
   ]
  },
  {
   "cell_type": "code",
   "execution_count": 40,
   "metadata": {},
   "outputs": [],
   "source": [
    "# Extract feature importances\n",
    "feature_importance_rf = pd.DataFrame({'feature': list(X_train.columns),\n",
    "                   'importance': model_rf.feature_importances_})\n",
    "feature_importance_rf.sort_values(by=['importance'],ascending=False,inplace=True)"
   ]
  },
  {
   "cell_type": "code",
   "execution_count": 41,
   "metadata": {},
   "outputs": [
    {
     "data": {
      "image/png": "[encoded data removed]",
      "text/plain": [
       "<Figure size 720x576 with 1 Axes>"
      ]
     },
     "metadata": {
      "needs_background": "light"
     },
     "output_type": "display_data"
    }
   ],
   "source": [
    "plt.figure(figsize=(10,8))\n",
    "plt.barh(feature_importance_rf['feature'].iloc[:25,],width=feature_importance_rf['importance'].iloc[:25,])\n",
    "plt.title('The top 25 important variables from Random Forest are ')\n",
    "plt.show()"
   ]
  },
  {
   "cell_type": "markdown",
   "metadata": {},
   "source": [
    "## Feature Standardisation\n"
   ]
  },
  {
   "cell_type": "code",
   "execution_count": 42,
   "metadata": {},
   "outputs": [],
   "source": [
    "#create an object\n",
    "\n",
    "scaler = MinMaxScaler()"
   ]
  },
  {
   "cell_type": "code",
   "execution_count": 43,
   "metadata": {},
   "outputs": [],
   "source": [
    "# without smote \n",
    "X_train = scaler.fit_transform(X_train)"
   ]
  },
  {
   "cell_type": "code",
   "execution_count": 44,
   "metadata": {},
   "outputs": [],
   "source": [
    "X_test = scaler.transform(X_test)"
   ]
  },
  {
   "cell_type": "markdown",
   "metadata": {},
   "source": [
    "## SMOTE Sampling \n",
    "    smote is done only on train set."
   ]
  },
  {
   "cell_type": "code",
   "execution_count": 45,
   "metadata": {
    "scrolled": true
   },
   "outputs": [
    {
     "name": "stdout",
     "output_type": "stream",
     "text": [
      "Before Sampling\n",
      "Counter({0: 27473, 1: 2437})\n",
      "After Sampling\n",
      "Counter({0: 19216, 1: 19216})\n"
     ]
    }
   ],
   "source": [
    "print('Before Sampling')\n",
    "print(Counter(y))\n",
    "\n",
    "oversample = SMOTETomek(random_state=42)\n",
    "X_train_sm ,y_train_sm = oversample.fit_resample(X_train,y_train)\n",
    "\n",
    "print('After Sampling')\n",
    "print(Counter(y_train_sm))"
   ]
  },
  {
   "cell_type": "code",
   "execution_count": 46,
   "metadata": {},
   "outputs": [
    {
     "data": {
      "text/plain": [
       "(38432,)"
      ]
     },
     "execution_count": 46,
     "metadata": {},
     "output_type": "execute_result"
    }
   ],
   "source": [
    "y_train_sm.shape"
   ]
  },
  {
   "cell_type": "code",
   "execution_count": 47,
   "metadata": {},
   "outputs": [
    {
     "data": {
      "text/plain": [
       "(20937,)"
      ]
     },
     "execution_count": 47,
     "metadata": {},
     "output_type": "execute_result"
    }
   ],
   "source": [
    "y_train.shape"
   ]
  },
  {
   "cell_type": "markdown",
   "metadata": {},
   "source": [
    "# PCA\n",
    "    Dimentionality reduction"
   ]
  },
  {
   "cell_type": "markdown",
   "metadata": {},
   "source": [
    "### 1. PCA without smote"
   ]
  },
  {
   "cell_type": "code",
   "execution_count": 48,
   "metadata": {},
   "outputs": [],
   "source": [
    "pca = PCA(random_state=42)"
   ]
  },
  {
   "cell_type": "code",
   "execution_count": 49,
   "metadata": {},
   "outputs": [
    {
     "data": {
      "text/plain": [
       "PCA(random_state=42)"
      ]
     },
     "execution_count": 49,
     "metadata": {},
     "output_type": "execute_result"
    }
   ],
   "source": [
    "pca.fit(X_train)"
   ]
  },
  {
   "cell_type": "code",
   "execution_count": 50,
   "metadata": {},
   "outputs": [],
   "source": [
    "#pca.explained_variance_ratio_"
   ]
  },
  {
   "cell_type": "code",
   "execution_count": 51,
   "metadata": {},
   "outputs": [],
   "source": [
    "var_cumu = np.cumsum(pca.explained_variance_ratio_)"
   ]
  },
  {
   "cell_type": "code",
   "execution_count": 52,
   "metadata": {},
   "outputs": [
    {
     "data": {
      "image/png": "[encoded data removed]",
      "text/plain": [
       "<Figure size 504x360 with 1 Axes>"
      ]
     },
     "metadata": {
      "needs_background": "light"
     },
     "output_type": "display_data"
    }
   ],
   "source": [
    "fig = plt.figure(figsize=[7,5])\n",
    "\n",
    "plt.plot(var_cumu)\n",
    "plt.ylabel(\"Cumulative variance explained without smote\")\n",
    "plt.show()"
   ]
  },
  {
   "cell_type": "markdown",
   "metadata": {},
   "source": [
    "    50 components can be taken."
   ]
  },
  {
   "cell_type": "code",
   "execution_count": 53,
   "metadata": {},
   "outputs": [],
   "source": [
    "pca_final = IncrementalPCA(n_components=50)"
   ]
  },
  {
   "cell_type": "code",
   "execution_count": 54,
   "metadata": {},
   "outputs": [
    {
     "data": {
      "text/plain": [
       "(20937, 50)"
      ]
     },
     "execution_count": 54,
     "metadata": {},
     "output_type": "execute_result"
    }
   ],
   "source": [
    "# PCA without smote\n",
    "X_train_pca = pca_final.fit_transform(X_train)\n",
    "X_train_pca.shape"
   ]
  },
  {
   "cell_type": "code",
   "execution_count": 55,
   "metadata": {},
   "outputs": [
    {
     "data": {
      "text/plain": [
       "(8973, 50)"
      ]
     },
     "execution_count": 55,
     "metadata": {},
     "output_type": "execute_result"
    }
   ],
   "source": [
    "# PCA without smote\n",
    "X_test_pca = pca_final.transform(X_test)\n",
    "X_test_pca.shape"
   ]
  },
  {
   "cell_type": "markdown",
   "metadata": {},
   "source": [
    "### 2.PCA with Smote"
   ]
  },
  {
   "cell_type": "code",
   "execution_count": 56,
   "metadata": {},
   "outputs": [],
   "source": [
    "pca_sm = PCA(random_state=42)"
   ]
  },
  {
   "cell_type": "code",
   "execution_count": 57,
   "metadata": {},
   "outputs": [
    {
     "data": {
      "text/plain": [
       "PCA(random_state=42)"
      ]
     },
     "execution_count": 57,
     "metadata": {},
     "output_type": "execute_result"
    }
   ],
   "source": [
    "pca_sm.fit(X_train_sm)"
   ]
  },
  {
   "cell_type": "code",
   "execution_count": 58,
   "metadata": {},
   "outputs": [],
   "source": [
    "var_cumu_sm = np.cumsum(pca_sm.explained_variance_ratio_)"
   ]
  },
  {
   "cell_type": "code",
   "execution_count": 59,
   "metadata": {},
   "outputs": [
    {
     "data": {
      "image/png": "[encoded data removed]",
      "text/plain": [
       "<Figure size 720x432 with 1 Axes>"
      ]
     },
     "metadata": {
      "needs_background": "light"
     },
     "output_type": "display_data"
    }
   ],
   "source": [
    "fig = plt.figure(figsize=[10,6])\n",
    "\n",
    "plt.plot(var_cumu_sm)\n",
    "plt.ylabel(\"Cumulative variance explained with smote\")\n",
    "plt.show()"
   ]
  },
  {
   "cell_type": "code",
   "execution_count": 60,
   "metadata": {},
   "outputs": [],
   "source": [
    "pca_sm_final = IncrementalPCA(n_components=50)"
   ]
  },
  {
   "cell_type": "code",
   "execution_count": 61,
   "metadata": {},
   "outputs": [
    {
     "data": {
      "text/plain": [
       "(38432, 50)"
      ]
     },
     "execution_count": 61,
     "metadata": {},
     "output_type": "execute_result"
    }
   ],
   "source": [
    "# PCA with smote\n",
    "X_train_pca_sm = pca_sm_final.fit_transform(X_train_sm)\n",
    "X_train_pca_sm.shape"
   ]
  },
  {
   "cell_type": "code",
   "execution_count": 62,
   "metadata": {},
   "outputs": [
    {
     "data": {
      "text/plain": [
       "(8973, 50)"
      ]
     },
     "execution_count": 62,
     "metadata": {},
     "output_type": "execute_result"
    }
   ],
   "source": [
    "# PCA with smote\n",
    "X_test_pca_sm = pca_sm_final.transform(X_test)\n",
    "X_test_pca_sm.shape"
   ]
  },
  {
   "cell_type": "markdown",
   "metadata": {},
   "source": [
    "# Model building:\n",
    "    Build models with and without PCA and compare."
   ]
  },
  {
   "cell_type": "code",
   "execution_count": 63,
   "metadata": {},
   "outputs": [],
   "source": [
    "# variables for model comparison\n",
    "model = []\n",
    "sample = []\n",
    "precision_train = []\n",
    "precision_test = []\n",
    "recall_train = []\n",
    "recall_test = []\n",
    "F1score_train = []\n",
    "F1score_test = []\n",
    "AUCROC_train = []\n",
    "AUCROC_test = []\n"
   ]
  },
  {
   "cell_type": "code",
   "execution_count": 64,
   "metadata": {},
   "outputs": [],
   "source": [
    "# Function for finding performance metrics\n",
    "\n",
    "def evaluation(churn_model, X_train,y_train,X_test, y_test, algo=None, sampling=None):\n",
    "    \n",
    "# Train predicion\n",
    "    y_prob_train=churn_model.predict_proba(X_train)\n",
    "    y_pred_train=churn_model.predict(X_train)\n",
    "\n",
    "    print('Train Score:')\n",
    "    print('Confusion Matrix')\n",
    "    print('='*60)\n",
    "    print(confusion_matrix(y_train,y_pred_train),\"\\n\")\n",
    "    print('Classification Report')\n",
    "    print('='*60)\n",
    "    print(classification_report(y_train,y_pred_train),\"\\n\")\n",
    "    print('AUC-ROC = ',roc_auc_score(y_train, y_prob_train[:,1]))\n",
    "    print('recall = ',recall_score(y_train,y_pred_train),\"\\n\")\n",
    "        \n",
    "    print('#'*60)\n",
    "#list to compare different models          \n",
    "    model.append(algo)\n",
    "    sample.append(sampling)\n",
    "    \n",
    "    precision_train.append(precision_score(y_train,y_pred_train))\n",
    "    recall_train.append(recall_score(y_train,y_pred_train))\n",
    "    F1score_train.append(f1_score(y_train,y_pred_train))\n",
    "    AUCROC_train.append(roc_auc_score(y_train, y_prob_train[:,1]))\n",
    "    \n",
    "    \n",
    "# Test prediction\n",
    "    y_prob_test=churn_model.predict_proba(X_test)\n",
    "    y_pred_test=churn_model.predict(X_test)\n",
    "\n",
    "    print('Test Score:')\n",
    "    print('Confusion Matrix')\n",
    "    print('='*60)\n",
    "    print(confusion_matrix(y_test,y_pred_test),\"\\n\")\n",
    "    print('Classification Report')\n",
    "    print('='*60)\n",
    "    print(classification_report(y_test,y_pred_test),\"\\n\")\n",
    "    print('AUC-ROC=',roc_auc_score(y_test, y_prob_test[:,1]))\n",
    "    print('recall = ',recall_score(y_test,y_pred_test),\"\\n\")\n",
    "        \n",
    "#list to compare different models          \n",
    "\n",
    "    precision_test.append(precision_score(y_test,y_pred_test))\n",
    "    recall_test.append(recall_score(y_test,y_pred_test))\n",
    "    F1score_test.append(f1_score(y_test,y_pred_test))\n",
    "    AUCROC_test.append(roc_auc_score(y_test, y_prob_test[:,1]))\n"
   ]
  },
  {
   "cell_type": "markdown",
   "metadata": {},
   "source": [
    "## model 1- Logistic regression - without smote"
   ]
  },
  {
   "cell_type": "code",
   "execution_count": 65,
   "metadata": {},
   "outputs": [
    {
     "name": "stderr",
     "output_type": "stream",
     "text": [
      "C:\\Users\\Prabhu\\anaconda3\\lib\\site-packages\\sklearn\\linear_model\\_logistic.py:764: ConvergenceWarning: lbfgs failed to converge (status=1):\n",
      "STOP: TOTAL NO. of ITERATIONS REACHED LIMIT.\n",
      "\n",
      "Increase the number of iterations (max_iter) or scale the data as shown in:\n",
      "    https://scikit-learn.org/stable/modules/preprocessing.html\n",
      "Please also refer to the documentation for alternative solver options:\n",
      "    https://scikit-learn.org/stable/modules/linear_model.html#logistic-regression\n",
      "  extra_warning_msg=_LOGISTIC_SOLVER_CONVERGENCE_MSG)\n"
     ]
    },
    {
     "data": {
      "text/plain": [
       "LogisticRegression(C=10, class_weight='balanced')"
      ]
     },
     "execution_count": 65,
     "metadata": {},
     "output_type": "execute_result"
    }
   ],
   "source": [
    "log=LogisticRegression()\n",
    "\n",
    "params={'C':[10, 1, 0.5, 0.1],'penalty':['l1','l2'],'class_weight':['balanced']}\n",
    "\n",
    "\n",
    "# Create grid search using 4-fold cross validation\n",
    "model_LR = GridSearchCV(log, params, cv=4, scoring='roc_auc', n_jobs=-1)\n",
    "model_LR.fit(X_train_pca, y_train)\n",
    "model_LR.best_estimator_"
   ]
  },
  {
   "cell_type": "code",
   "execution_count": 66,
   "metadata": {},
   "outputs": [
    {
     "name": "stdout",
     "output_type": "stream",
     "text": [
      "Train Score:\n",
      "Confusion Matrix\n",
      "============================================================\n",
      "[[15610  3616]\n",
      " [  284  1427]] \n",
      "\n",
      "Classification Report\n",
      "============================================================\n",
      "              precision    recall  f1-score   support\n",
      "\n",
      "           0       0.98      0.81      0.89     19226\n",
      "           1       0.28      0.83      0.42      1711\n",
      "\n",
      "    accuracy                           0.81     20937\n",
      "   macro avg       0.63      0.82      0.66     20937\n",
      "weighted avg       0.92      0.81      0.85     20937\n",
      " \n",
      "\n",
      "AUC-ROC =  0.8940813698185227\n",
      "recall =  0.8340151957919345 \n",
      "\n",
      "############################################################\n",
      "Test Score:\n",
      "Confusion Matrix\n",
      "============================================================\n",
      "[[6705 1542]\n",
      " [ 111  615]] \n",
      "\n",
      "Classification Report\n",
      "============================================================\n",
      "              precision    recall  f1-score   support\n",
      "\n",
      "           0       0.98      0.81      0.89      8247\n",
      "           1       0.29      0.85      0.43       726\n",
      "\n",
      "    accuracy                           0.82      8973\n",
      "   macro avg       0.63      0.83      0.66      8973\n",
      "weighted avg       0.93      0.82      0.85      8973\n",
      " \n",
      "\n",
      "AUC-ROC= 0.9013839576358179\n",
      "recall =  0.8471074380165289 \n",
      "\n"
     ]
    }
   ],
   "source": [
    "evaluation(model_LR, X_train_pca, y_train, X_test_pca, y_test, 'Logitic Regression', 'without smote')"
   ]
  },
  {
   "cell_type": "markdown",
   "metadata": {},
   "source": [
    "## model 2 - logistic regression with smote"
   ]
  },
  {
   "cell_type": "code",
   "execution_count": 67,
   "metadata": {},
   "outputs": [
    {
     "name": "stderr",
     "output_type": "stream",
     "text": [
      "C:\\Users\\Prabhu\\anaconda3\\lib\\site-packages\\sklearn\\linear_model\\_logistic.py:764: ConvergenceWarning: lbfgs failed to converge (status=1):\n",
      "STOP: TOTAL NO. of ITERATIONS REACHED LIMIT.\n",
      "\n",
      "Increase the number of iterations (max_iter) or scale the data as shown in:\n",
      "    https://scikit-learn.org/stable/modules/preprocessing.html\n",
      "Please also refer to the documentation for alternative solver options:\n",
      "    https://scikit-learn.org/stable/modules/linear_model.html#logistic-regression\n",
      "  extra_warning_msg=_LOGISTIC_SOLVER_CONVERGENCE_MSG)\n"
     ]
    },
    {
     "data": {
      "text/plain": [
       "GridSearchCV(cv=4, estimator=LogisticRegression(), n_jobs=-1,\n",
       "             param_grid={'C': [10, 1, 0.5, 0.1], 'class_weight': ['balanced'],\n",
       "                         'penalty': ['l1', 'l2']},\n",
       "             scoring='roc_auc')"
      ]
     },
     "execution_count": 67,
     "metadata": {},
     "output_type": "execute_result"
    }
   ],
   "source": [
    "model_LR.fit(X_train_pca_sm, y_train_sm)"
   ]
  },
  {
   "cell_type": "code",
   "execution_count": 68,
   "metadata": {},
   "outputs": [
    {
     "name": "stdout",
     "output_type": "stream",
     "text": [
      "Train Score:\n",
      "Confusion Matrix\n",
      "============================================================\n",
      "[[15671  3545]\n",
      " [ 2747 16469]] \n",
      "\n",
      "Classification Report\n",
      "============================================================\n",
      "              precision    recall  f1-score   support\n",
      "\n",
      "           0       0.85      0.82      0.83     19216\n",
      "           1       0.82      0.86      0.84     19216\n",
      "\n",
      "    accuracy                           0.84     38432\n",
      "   macro avg       0.84      0.84      0.84     38432\n",
      "weighted avg       0.84      0.84      0.84     38432\n",
      " \n",
      "\n",
      "AUC-ROC =  0.9071584733111666\n",
      "recall =  0.8570462114904246 \n",
      "\n",
      "############################################################\n",
      "Test Score:\n",
      "Confusion Matrix\n",
      "============================================================\n",
      "[[6736 1511]\n",
      " [ 113  613]] \n",
      "\n",
      "Classification Report\n",
      "============================================================\n",
      "              precision    recall  f1-score   support\n",
      "\n",
      "           0       0.98      0.82      0.89      8247\n",
      "           1       0.29      0.84      0.43       726\n",
      "\n",
      "    accuracy                           0.82      8973\n",
      "   macro avg       0.64      0.83      0.66      8973\n",
      "weighted avg       0.93      0.82      0.86      8973\n",
      " \n",
      "\n",
      "AUC-ROC= 0.9018957056259878\n",
      "recall =  0.8443526170798898 \n",
      "\n"
     ]
    }
   ],
   "source": [
    "evaluation(model_LR, X_train_pca_sm,y_train_sm,X_test_pca_sm, y_test, 'Logitic Regression', 'with smote')"
   ]
  },
  {
   "cell_type": "markdown",
   "metadata": {},
   "source": [
    "## model 3 - Decision tree without smote"
   ]
  },
  {
   "cell_type": "code",
   "execution_count": 69,
   "metadata": {},
   "outputs": [
    {
     "name": "stdout",
     "output_type": "stream",
     "text": [
      "Fitting 3 folds for each of 48 candidates, totalling 144 fits\n"
     ]
    },
    {
     "name": "stderr",
     "output_type": "stream",
     "text": [
      "[Parallel(n_jobs=-1)]: Using backend LokyBackend with 4 concurrent workers.\n",
      "[Parallel(n_jobs=-1)]: Done  33 tasks      | elapsed:    3.6s\n",
      "[Parallel(n_jobs=-1)]: Done 144 out of 144 | elapsed:   43.6s finished\n"
     ]
    },
    {
     "data": {
      "text/plain": [
       "DecisionTreeClassifier(max_depth=5, min_samples_leaf=3, min_samples_split=5,\n",
       "                       random_state=42)"
      ]
     },
     "execution_count": 69,
     "metadata": {},
     "output_type": "execute_result"
    }
   ],
   "source": [
    "\n",
    "dt = DecisionTreeClassifier(random_state=42)\n",
    "params_tree = {\n",
    "    'max_depth': [2,5,10,15],\n",
    "    'min_samples_split' : [5,10,15,20],\n",
    "    'min_samples_leaf': [3,5,8],\n",
    "}\n",
    "\n",
    "model_tree = GridSearchCV(estimator=dt, \n",
    "                           param_grid=params_tree, \n",
    "                           cv=3, n_jobs=-1, verbose=2, scoring = \"roc_auc\")\n",
    "model_tree.fit(X_train_pca,y_train)\n",
    "model_tree.best_estimator_"
   ]
  },
  {
   "cell_type": "markdown",
   "metadata": {},
   "source": [
    "### Decision tree with best hyperparameters"
   ]
  },
  {
   "cell_type": "code",
   "execution_count": 70,
   "metadata": {},
   "outputs": [
    {
     "data": {
      "text/plain": [
       "DecisionTreeClassifier(max_depth=5, min_samples_leaf=3, min_samples_split=5,\n",
       "                       random_state=42)"
      ]
     },
     "execution_count": 70,
     "metadata": {},
     "output_type": "execute_result"
    }
   ],
   "source": [
    "dt_best = DecisionTreeClassifier(max_depth=5, \n",
    "                                 min_samples_leaf=3, \n",
    "                                 min_samples_split=5,\n",
    "                                 random_state=42)\n",
    "dt_best.fit(X_train_pca,y_train)"
   ]
  },
  {
   "cell_type": "code",
   "execution_count": 71,
   "metadata": {
    "scrolled": true
   },
   "outputs": [
    {
     "name": "stdout",
     "output_type": "stream",
     "text": [
      "Train Score:\n",
      "Confusion Matrix\n",
      "============================================================\n",
      "[[19047   179]\n",
      " [ 1395   316]] \n",
      "\n",
      "Classification Report\n",
      "============================================================\n",
      "              precision    recall  f1-score   support\n",
      "\n",
      "           0       0.93      0.99      0.96     19226\n",
      "           1       0.64      0.18      0.29      1711\n",
      "\n",
      "    accuracy                           0.92     20937\n",
      "   macro avg       0.79      0.59      0.62     20937\n",
      "weighted avg       0.91      0.92      0.91     20937\n",
      " \n",
      "\n",
      "AUC-ROC =  0.8276514890128754\n",
      "recall =  0.18468731735827001 \n",
      "\n",
      "############################################################\n",
      "Test Score:\n",
      "Confusion Matrix\n",
      "============================================================\n",
      "[[8102  145]\n",
      " [ 616  110]] \n",
      "\n",
      "Classification Report\n",
      "============================================================\n",
      "              precision    recall  f1-score   support\n",
      "\n",
      "           0       0.93      0.98      0.96      8247\n",
      "           1       0.43      0.15      0.22       726\n",
      "\n",
      "    accuracy                           0.92      8973\n",
      "   macro avg       0.68      0.57      0.59      8973\n",
      "weighted avg       0.89      0.92      0.90      8973\n",
      " \n",
      "\n",
      "AUC-ROC= 0.7927970134226956\n",
      "recall =  0.15151515151515152 \n",
      "\n"
     ]
    }
   ],
   "source": [
    "evaluation(dt_best, X_train_pca, y_train, X_test_pca, y_test, 'Decision Tree', 'without smote')"
   ]
  },
  {
   "cell_type": "markdown",
   "metadata": {},
   "source": [
    "## model 4 - Decision tree with smote"
   ]
  },
  {
   "cell_type": "code",
   "execution_count": 72,
   "metadata": {},
   "outputs": [
    {
     "name": "stdout",
     "output_type": "stream",
     "text": [
      "Fitting 3 folds for each of 48 candidates, totalling 144 fits\n"
     ]
    },
    {
     "name": "stderr",
     "output_type": "stream",
     "text": [
      "[Parallel(n_jobs=-1)]: Using backend LokyBackend with 4 concurrent workers.\n",
      "[Parallel(n_jobs=-1)]: Done  33 tasks      | elapsed:    7.0s\n",
      "[Parallel(n_jobs=-1)]: Done 144 out of 144 | elapsed:  1.3min finished\n"
     ]
    },
    {
     "data": {
      "text/plain": [
       "DecisionTreeClassifier(max_depth=15, min_samples_leaf=8, min_samples_split=20,\n",
       "                       random_state=42)"
      ]
     },
     "execution_count": 72,
     "metadata": {},
     "output_type": "execute_result"
    }
   ],
   "source": [
    "model_tree.fit(X_train_pca_sm,y_train_sm)\n",
    "model_tree.best_estimator_"
   ]
  },
  {
   "cell_type": "markdown",
   "metadata": {},
   "source": [
    "### Decision tree (smote) with best hyperparameters"
   ]
  },
  {
   "cell_type": "code",
   "execution_count": 73,
   "metadata": {},
   "outputs": [
    {
     "data": {
      "text/plain": [
       "DecisionTreeClassifier(max_depth=15, min_samples_leaf=8, min_samples_split=20,\n",
       "                       random_state=42)"
      ]
     },
     "execution_count": 73,
     "metadata": {},
     "output_type": "execute_result"
    }
   ],
   "source": [
    "dt_best_sm = DecisionTreeClassifier(max_depth=15, \n",
    "                                 min_samples_leaf=8, \n",
    "                                 min_samples_split=20,\n",
    "                                 random_state=42)\n",
    "dt_best_sm.fit(X_train_pca_sm,y_train_sm)"
   ]
  },
  {
   "cell_type": "code",
   "execution_count": 74,
   "metadata": {},
   "outputs": [
    {
     "name": "stdout",
     "output_type": "stream",
     "text": [
      "Train Score:\n",
      "Confusion Matrix\n",
      "============================================================\n",
      "[[17644  1572]\n",
      " [ 1000 18216]] \n",
      "\n",
      "Classification Report\n",
      "============================================================\n",
      "              precision    recall  f1-score   support\n",
      "\n",
      "           0       0.95      0.92      0.93     19216\n",
      "           1       0.92      0.95      0.93     19216\n",
      "\n",
      "    accuracy                           0.93     38432\n",
      "   macro avg       0.93      0.93      0.93     38432\n",
      "weighted avg       0.93      0.93      0.93     38432\n",
      " \n",
      "\n",
      "AUC-ROC =  0.9781627763686208\n",
      "recall =  0.9479600333055787 \n",
      "\n",
      "############################################################\n",
      "Test Score:\n",
      "Confusion Matrix\n",
      "============================================================\n",
      "[[7043 1204]\n",
      " [ 297  429]] \n",
      "\n",
      "Classification Report\n",
      "============================================================\n",
      "              precision    recall  f1-score   support\n",
      "\n",
      "           0       0.96      0.85      0.90      8247\n",
      "           1       0.26      0.59      0.36       726\n",
      "\n",
      "    accuracy                           0.83      8973\n",
      "   macro avg       0.61      0.72      0.63      8973\n",
      "weighted avg       0.90      0.83      0.86      8973\n",
      " \n",
      "\n",
      "AUC-ROC= 0.770609547974871\n",
      "recall =  0.5909090909090909 \n",
      "\n"
     ]
    }
   ],
   "source": [
    "evaluation(dt_best_sm, X_train_pca_sm,y_train_sm,X_test_pca_sm, y_test, 'Decision Tree', 'with smote')"
   ]
  },
  {
   "cell_type": "markdown",
   "metadata": {},
   "source": [
    "## model 5 - Random forest without smote"
   ]
  },
  {
   "cell_type": "code",
   "execution_count": 75,
   "metadata": {},
   "outputs": [
    {
     "name": "stdout",
     "output_type": "stream",
     "text": [
      "Fitting 3 folds for each of 54 candidates, totalling 162 fits\n"
     ]
    },
    {
     "name": "stderr",
     "output_type": "stream",
     "text": [
      "C:\\Users\\Prabhu\\anaconda3\\lib\\site-packages\\sklearn\\model_selection\\_search.py:282: UserWarning: The total space of parameters 54 is smaller than n_iter=100. Running 54 iterations. For exhaustive searches, use GridSearchCV.\n",
      "  % (grid_size, self.n_iter, grid_size), UserWarning)\n",
      "[Parallel(n_jobs=-1)]: Using backend LokyBackend with 4 concurrent workers.\n",
      "[Parallel(n_jobs=-1)]: Done  33 tasks      | elapsed:   16.9s\n",
      "[Parallel(n_jobs=-1)]: Done 154 tasks      | elapsed:  2.5min\n",
      "[Parallel(n_jobs=-1)]: Done 162 out of 162 | elapsed:  2.7min finished\n"
     ]
    },
    {
     "data": {
      "text/plain": [
       "RandomForestClassifier(max_depth=20, max_features=10, min_samples_leaf=5,\n",
       "                       n_estimators=50)"
      ]
     },
     "execution_count": 75,
     "metadata": {},
     "output_type": "execute_result"
    }
   ],
   "source": [
    "rf = RandomForestClassifier()\n",
    "\n",
    "params_rf={'max_depth': [5, 10, 20],\n",
    "          'min_samples_leaf': [5, 10, 20],\n",
    "          'max_features': [5,10],\n",
    "          'n_estimators': [10, 30, 50]\n",
    "}\n",
    "\n",
    "model_rf = RandomizedSearchCV(rf, params_rf, cv=3,n_iter = 100, random_state=42, n_jobs=-1, verbose=2)\n",
    "model_rf.fit(X_train_pca, y_train)\n",
    "model_rf.best_estimator_"
   ]
  },
  {
   "cell_type": "markdown",
   "metadata": {},
   "source": [
    "### Best fit Random forest without smote"
   ]
  },
  {
   "cell_type": "code",
   "execution_count": 76,
   "metadata": {},
   "outputs": [
    {
     "data": {
      "text/plain": [
       "RandomForestClassifier(max_depth=20, max_features=10, min_samples_leaf=5,\n",
       "                       n_estimators=50)"
      ]
     },
     "execution_count": 76,
     "metadata": {},
     "output_type": "execute_result"
    }
   ],
   "source": [
    "rf_best = RandomForestClassifier(max_depth=20, \n",
    "                                 max_features=10, \n",
    "                                 min_samples_leaf=5,\n",
    "                       n_estimators=50,bootstrap = True)\n",
    "rf_best.fit(X_train_pca, y_train)"
   ]
  },
  {
   "cell_type": "code",
   "execution_count": 77,
   "metadata": {},
   "outputs": [
    {
     "name": "stdout",
     "output_type": "stream",
     "text": [
      "Train Score:\n",
      "Confusion Matrix\n",
      "============================================================\n",
      "[[19222     4]\n",
      " [  745   966]] \n",
      "\n",
      "Classification Report\n",
      "============================================================\n",
      "              precision    recall  f1-score   support\n",
      "\n",
      "           0       0.96      1.00      0.98     19226\n",
      "           1       1.00      0.56      0.72      1711\n",
      "\n",
      "    accuracy                           0.96     20937\n",
      "   macro avg       0.98      0.78      0.85     20937\n",
      "weighted avg       0.97      0.96      0.96     20937\n",
      " \n",
      "\n",
      "AUC-ROC =  0.9960632527924785\n",
      "recall =  0.5645821157218002 \n",
      "\n",
      "############################################################\n",
      "Test Score:\n",
      "Confusion Matrix\n",
      "============================================================\n",
      "[[8187   60]\n",
      " [ 611  115]] \n",
      "\n",
      "Classification Report\n",
      "============================================================\n",
      "              precision    recall  f1-score   support\n",
      "\n",
      "           0       0.93      0.99      0.96      8247\n",
      "           1       0.66      0.16      0.26       726\n",
      "\n",
      "    accuracy                           0.93      8973\n",
      "   macro avg       0.79      0.58      0.61      8973\n",
      "weighted avg       0.91      0.93      0.90      8973\n",
      " \n",
      "\n",
      "AUC-ROC= 0.87541892685912\n",
      "recall =  0.1584022038567493 \n",
      "\n"
     ]
    }
   ],
   "source": [
    "evaluation(rf_best, X_train_pca, y_train, X_test_pca, y_test, 'Random Forest', 'without smote')"
   ]
  },
  {
   "cell_type": "markdown",
   "metadata": {},
   "source": [
    "## model 6 - Random forest with smote"
   ]
  },
  {
   "cell_type": "code",
   "execution_count": 78,
   "metadata": {},
   "outputs": [
    {
     "name": "stdout",
     "output_type": "stream",
     "text": [
      "Fitting 3 folds for each of 54 candidates, totalling 162 fits\n"
     ]
    },
    {
     "name": "stderr",
     "output_type": "stream",
     "text": [
      "C:\\Users\\Prabhu\\anaconda3\\lib\\site-packages\\sklearn\\model_selection\\_search.py:282: UserWarning: The total space of parameters 54 is smaller than n_iter=100. Running 54 iterations. For exhaustive searches, use GridSearchCV.\n",
      "  % (grid_size, self.n_iter, grid_size), UserWarning)\n",
      "[Parallel(n_jobs=-1)]: Using backend LokyBackend with 4 concurrent workers.\n",
      "[Parallel(n_jobs=-1)]: Done  33 tasks      | elapsed:   36.2s\n",
      "[Parallel(n_jobs=-1)]: Done 154 tasks      | elapsed:  4.9min\n",
      "[Parallel(n_jobs=-1)]: Done 162 out of 162 | elapsed:  5.4min finished\n"
     ]
    },
    {
     "data": {
      "text/plain": [
       "RandomForestClassifier(max_depth=20, max_features=10, min_samples_leaf=5,\n",
       "                       n_estimators=50)"
      ]
     },
     "execution_count": 78,
     "metadata": {},
     "output_type": "execute_result"
    }
   ],
   "source": [
    "model_rf.fit(X_train_pca_sm,y_train_sm)\n",
    "model_rf.best_estimator_"
   ]
  },
  {
   "cell_type": "markdown",
   "metadata": {},
   "source": [
    "#### Best fit Random forest with smote"
   ]
  },
  {
   "cell_type": "code",
   "execution_count": 79,
   "metadata": {},
   "outputs": [
    {
     "data": {
      "text/plain": [
       "RandomForestClassifier(max_depth=20, max_features=10, min_samples_leaf=5,\n",
       "                       n_estimators=50)"
      ]
     },
     "execution_count": 79,
     "metadata": {},
     "output_type": "execute_result"
    }
   ],
   "source": [
    "rf_best_sm = RandomForestClassifier(max_depth=20, \n",
    "                                 max_features=10, \n",
    "                                 min_samples_leaf=5,\n",
    "                       n_estimators=50,bootstrap = True)\n",
    "rf_best_sm.fit(X_train_pca_sm, y_train_sm)"
   ]
  },
  {
   "cell_type": "code",
   "execution_count": 80,
   "metadata": {},
   "outputs": [
    {
     "name": "stdout",
     "output_type": "stream",
     "text": [
      "Train Score:\n",
      "Confusion Matrix\n",
      "============================================================\n",
      "[[18688   528]\n",
      " [   81 19135]] \n",
      "\n",
      "Classification Report\n",
      "============================================================\n",
      "              precision    recall  f1-score   support\n",
      "\n",
      "           0       1.00      0.97      0.98     19216\n",
      "           1       0.97      1.00      0.98     19216\n",
      "\n",
      "    accuracy                           0.98     38432\n",
      "   macro avg       0.98      0.98      0.98     38432\n",
      "weighted avg       0.98      0.98      0.98     38432\n",
      " \n",
      "\n",
      "AUC-ROC =  0.9987742957532267\n",
      "recall =  0.9957847626977518 \n",
      "\n",
      "############################################################\n",
      "Test Score:\n",
      "Confusion Matrix\n",
      "============================================================\n",
      "[[7641  606]\n",
      " [ 264  462]] \n",
      "\n",
      "Classification Report\n",
      "============================================================\n",
      "              precision    recall  f1-score   support\n",
      "\n",
      "           0       0.97      0.93      0.95      8247\n",
      "           1       0.43      0.64      0.52       726\n",
      "\n",
      "    accuracy                           0.90      8973\n",
      "   macro avg       0.70      0.78      0.73      8973\n",
      "weighted avg       0.92      0.90      0.91      8973\n",
      " \n",
      "\n",
      "AUC-ROC= 0.8880869443801418\n",
      "recall =  0.6363636363636364 \n",
      "\n"
     ]
    }
   ],
   "source": [
    "evaluation(rf_best_sm,X_train_pca_sm,y_train_sm, X_test_pca_sm, y_test, 'Random Forest', 'with smote')"
   ]
  },
  {
   "cell_type": "markdown",
   "metadata": {},
   "source": [
    "## model 7 - AdaBoost without smote"
   ]
  },
  {
   "cell_type": "code",
   "execution_count": 81,
   "metadata": {},
   "outputs": [],
   "source": [
    "\n",
    "\n",
    "#learning rate is the hyperparameter\n",
    "lr = [0.05,0.01, 0.1, 0.25, 0.5, 0.75, 1]\n",
    "\n",
    "#decision tree with depth=1 are referred as decision stumps\n",
    "d_tree=DecisionTreeClassifier(criterion='entropy',max_depth=1)\n",
    "\n",
    "parameters_table=[]\n",
    "#choosing hyper parameters (learning rate)\n",
    "for i in lr:\n",
    "    model_ada = AdaBoostClassifier(   learning_rate=i, \n",
    "                                      base_estimator=d_tree, \n",
    "                                      random_state=100)\n",
    "    model_ada.fit(X_train_pca, y_train)\n",
    "    accuracy_training=round(model_ada.score(X_train_pca, y_train),2)\n",
    "    accuracy_validation=round(model_ada.score(X_test_pca, y_test),2)\n",
    "    parameters_table.append([i,accuracy_training,accuracy_validation])\n"
   ]
  },
  {
   "cell_type": "code",
   "execution_count": 82,
   "metadata": {},
   "outputs": [
    {
     "data": {
      "text/html": [
       "<div>\n",
       "<style scoped>\n",
       "    .dataframe tbody tr th:only-of-type {\n",
       "        vertical-align: middle;\n",
       "    }\n",
       "\n",
       "    .dataframe tbody tr th {\n",
       "        vertical-align: top;\n",
       "    }\n",
       "\n",
       "    .dataframe thead th {\n",
       "        text-align: right;\n",
       "    }\n",
       "</style>\n",
       "<table border=\"1\" class=\"dataframe\">\n",
       "  <thead>\n",
       "    <tr style=\"text-align: right;\">\n",
       "      <th></th>\n",
       "      <th>index</th>\n",
       "      <th>learning_rate</th>\n",
       "      <th>training_accuracy</th>\n",
       "      <th>validaton_accuracy</th>\n",
       "    </tr>\n",
       "  </thead>\n",
       "  <tbody>\n",
       "    <tr>\n",
       "      <th>0</th>\n",
       "      <td>0</td>\n",
       "      <td>0.05</td>\n",
       "      <td>0.92</td>\n",
       "      <td>0.92</td>\n",
       "    </tr>\n",
       "    <tr>\n",
       "      <th>1</th>\n",
       "      <td>1</td>\n",
       "      <td>0.01</td>\n",
       "      <td>0.92</td>\n",
       "      <td>0.92</td>\n",
       "    </tr>\n",
       "    <tr>\n",
       "      <th>2</th>\n",
       "      <td>2</td>\n",
       "      <td>0.10</td>\n",
       "      <td>0.92</td>\n",
       "      <td>0.92</td>\n",
       "    </tr>\n",
       "    <tr>\n",
       "      <th>3</th>\n",
       "      <td>3</td>\n",
       "      <td>0.25</td>\n",
       "      <td>0.92</td>\n",
       "      <td>0.92</td>\n",
       "    </tr>\n",
       "    <tr>\n",
       "      <th>4</th>\n",
       "      <td>4</td>\n",
       "      <td>0.50</td>\n",
       "      <td>0.92</td>\n",
       "      <td>0.92</td>\n",
       "    </tr>\n",
       "    <tr>\n",
       "      <th>5</th>\n",
       "      <td>5</td>\n",
       "      <td>0.75</td>\n",
       "      <td>0.93</td>\n",
       "      <td>0.93</td>\n",
       "    </tr>\n",
       "    <tr>\n",
       "      <th>6</th>\n",
       "      <td>6</td>\n",
       "      <td>1.00</td>\n",
       "      <td>0.93</td>\n",
       "      <td>0.92</td>\n",
       "    </tr>\n",
       "  </tbody>\n",
       "</table>\n",
       "</div>"
      ],
      "text/plain": [
       "   index  learning_rate  training_accuracy  validaton_accuracy\n",
       "0      0           0.05               0.92                0.92\n",
       "1      1           0.01               0.92                0.92\n",
       "2      2           0.10               0.92                0.92\n",
       "3      3           0.25               0.92                0.92\n",
       "4      4           0.50               0.92                0.92\n",
       "5      5           0.75               0.93                0.93\n",
       "6      6           1.00               0.93                0.92"
      ]
     },
     "execution_count": 82,
     "metadata": {},
     "output_type": "execute_result"
    }
   ],
   "source": [
    "hyper_param_df=pd.DataFrame(parameters_table).reset_index().rename(columns={0:'learning_rate',\n",
    "                                                                  1:'training_accuracy',\n",
    "                                                                 2:'validaton_accuracy'})\n",
    "\n",
    "hyper_param_df"
   ]
  },
  {
   "cell_type": "markdown",
   "metadata": {},
   "source": [
    "### Best fit Adaboost without smote"
   ]
  },
  {
   "cell_type": "code",
   "execution_count": 83,
   "metadata": {},
   "outputs": [
    {
     "data": {
      "text/plain": [
       "AdaBoostClassifier(base_estimator=DecisionTreeClassifier(criterion='entropy',\n",
       "                                                         max_depth=1),\n",
       "                   learning_rate=0.5, random_state=100)"
      ]
     },
     "execution_count": 83,
     "metadata": {},
     "output_type": "execute_result"
    }
   ],
   "source": [
    "ada_best=AdaBoostClassifier( learning_rate=0.5, \n",
    "                             base_estimator=d_tree, \n",
    "                             random_state=100)\n",
    "\n",
    "ada_best.fit(X_train_pca,y_train)"
   ]
  },
  {
   "cell_type": "code",
   "execution_count": 84,
   "metadata": {},
   "outputs": [
    {
     "name": "stdout",
     "output_type": "stream",
     "text": [
      "Train Score:\n",
      "Confusion Matrix\n",
      "============================================================\n",
      "[[19102   124]\n",
      " [ 1464   247]] \n",
      "\n",
      "Classification Report\n",
      "============================================================\n",
      "              precision    recall  f1-score   support\n",
      "\n",
      "           0       0.93      0.99      0.96     19226\n",
      "           1       0.67      0.14      0.24      1711\n",
      "\n",
      "    accuracy                           0.92     20937\n",
      "   macro avg       0.80      0.57      0.60     20937\n",
      "weighted avg       0.91      0.92      0.90     20937\n",
      " \n",
      "\n",
      "AUC-ROC =  0.8946598499268262\n",
      "recall =  0.14436002337814144 \n",
      "\n",
      "############################################################\n",
      "Test Score:\n",
      "Confusion Matrix\n",
      "============================================================\n",
      "[[8197   50]\n",
      " [ 633   93]] \n",
      "\n",
      "Classification Report\n",
      "============================================================\n",
      "              precision    recall  f1-score   support\n",
      "\n",
      "           0       0.93      0.99      0.96      8247\n",
      "           1       0.65      0.13      0.21       726\n",
      "\n",
      "    accuracy                           0.92      8973\n",
      "   macro avg       0.79      0.56      0.59      8973\n",
      "weighted avg       0.91      0.92      0.90      8973\n",
      " \n",
      "\n",
      "AUC-ROC= 0.8859772365675339\n",
      "recall =  0.128099173553719 \n",
      "\n"
     ]
    }
   ],
   "source": [
    "evaluation(ada_best, X_train_pca, y_train, X_test_pca, y_test, 'AdaBoosting', 'without smote')"
   ]
  },
  {
   "cell_type": "markdown",
   "metadata": {},
   "source": [
    "## model 8 - AdaBoost with smote"
   ]
  },
  {
   "cell_type": "code",
   "execution_count": 85,
   "metadata": {},
   "outputs": [],
   "source": [
    "parameters_table=[]\n",
    "#choosing hyper parameters (learning rate)\n",
    "for i in lr:\n",
    "    model_ada = AdaBoostClassifier(   learning_rate=i, \n",
    "                                      base_estimator=d_tree, \n",
    "                                      random_state=100)\n",
    "    model_ada.fit(X_train_pca_sm, y_train_sm)\n",
    "    accuracy_training=round(model_ada.score(X_train_pca_sm, y_train_sm),2)\n",
    "    accuracy_validation=round(model_ada.score(X_test_pca_sm, y_test),2)\n",
    "    parameters_table.append([i,accuracy_training,accuracy_validation])"
   ]
  },
  {
   "cell_type": "code",
   "execution_count": 86,
   "metadata": {},
   "outputs": [
    {
     "data": {
      "text/html": [
       "<div>\n",
       "<style scoped>\n",
       "    .dataframe tbody tr th:only-of-type {\n",
       "        vertical-align: middle;\n",
       "    }\n",
       "\n",
       "    .dataframe tbody tr th {\n",
       "        vertical-align: top;\n",
       "    }\n",
       "\n",
       "    .dataframe thead th {\n",
       "        text-align: right;\n",
       "    }\n",
       "</style>\n",
       "<table border=\"1\" class=\"dataframe\">\n",
       "  <thead>\n",
       "    <tr style=\"text-align: right;\">\n",
       "      <th></th>\n",
       "      <th>index</th>\n",
       "      <th>learning_rate</th>\n",
       "      <th>training_accuracy</th>\n",
       "      <th>validaton_accuracy</th>\n",
       "    </tr>\n",
       "  </thead>\n",
       "  <tbody>\n",
       "    <tr>\n",
       "      <th>0</th>\n",
       "      <td>0</td>\n",
       "      <td>0.05</td>\n",
       "      <td>0.74</td>\n",
       "      <td>0.74</td>\n",
       "    </tr>\n",
       "    <tr>\n",
       "      <th>1</th>\n",
       "      <td>1</td>\n",
       "      <td>0.01</td>\n",
       "      <td>0.70</td>\n",
       "      <td>0.77</td>\n",
       "    </tr>\n",
       "    <tr>\n",
       "      <th>2</th>\n",
       "      <td>2</td>\n",
       "      <td>0.10</td>\n",
       "      <td>0.77</td>\n",
       "      <td>0.78</td>\n",
       "    </tr>\n",
       "    <tr>\n",
       "      <th>3</th>\n",
       "      <td>3</td>\n",
       "      <td>0.25</td>\n",
       "      <td>0.81</td>\n",
       "      <td>0.80</td>\n",
       "    </tr>\n",
       "    <tr>\n",
       "      <th>4</th>\n",
       "      <td>4</td>\n",
       "      <td>0.50</td>\n",
       "      <td>0.82</td>\n",
       "      <td>0.81</td>\n",
       "    </tr>\n",
       "    <tr>\n",
       "      <th>5</th>\n",
       "      <td>5</td>\n",
       "      <td>0.75</td>\n",
       "      <td>0.82</td>\n",
       "      <td>0.81</td>\n",
       "    </tr>\n",
       "    <tr>\n",
       "      <th>6</th>\n",
       "      <td>6</td>\n",
       "      <td>1.00</td>\n",
       "      <td>0.83</td>\n",
       "      <td>0.81</td>\n",
       "    </tr>\n",
       "  </tbody>\n",
       "</table>\n",
       "</div>"
      ],
      "text/plain": [
       "   index  learning_rate  training_accuracy  validaton_accuracy\n",
       "0      0           0.05               0.74                0.74\n",
       "1      1           0.01               0.70                0.77\n",
       "2      2           0.10               0.77                0.78\n",
       "3      3           0.25               0.81                0.80\n",
       "4      4           0.50               0.82                0.81\n",
       "5      5           0.75               0.82                0.81\n",
       "6      6           1.00               0.83                0.81"
      ]
     },
     "execution_count": 86,
     "metadata": {},
     "output_type": "execute_result"
    }
   ],
   "source": [
    "hyper_param_df=pd.DataFrame(parameters_table).reset_index().rename(columns={0:'learning_rate',\n",
    "                                                                  1:'training_accuracy',\n",
    "                                                                 2:'validaton_accuracy'})\n",
    "\n",
    "hyper_param_df"
   ]
  },
  {
   "cell_type": "markdown",
   "metadata": {},
   "source": [
    "### Best fit Adaboost with smote"
   ]
  },
  {
   "cell_type": "code",
   "execution_count": 87,
   "metadata": {},
   "outputs": [
    {
     "data": {
      "text/plain": [
       "AdaBoostClassifier(base_estimator=DecisionTreeClassifier(criterion='entropy',\n",
       "                                                         max_depth=1),\n",
       "                   learning_rate=0.5, random_state=100)"
      ]
     },
     "execution_count": 87,
     "metadata": {},
     "output_type": "execute_result"
    }
   ],
   "source": [
    "ada_best_sm=AdaBoostClassifier( learning_rate=0.5, \n",
    "                             base_estimator=d_tree, \n",
    "                             random_state=100)\n",
    "\n",
    "ada_best_sm.fit(X_train_pca_sm,y_train_sm)"
   ]
  },
  {
   "cell_type": "code",
   "execution_count": 88,
   "metadata": {},
   "outputs": [
    {
     "name": "stdout",
     "output_type": "stream",
     "text": [
      "Train Score:\n",
      "Confusion Matrix\n",
      "============================================================\n",
      "[[15782  3434]\n",
      " [ 3343 15873]] \n",
      "\n",
      "Classification Report\n",
      "============================================================\n",
      "              precision    recall  f1-score   support\n",
      "\n",
      "           0       0.83      0.82      0.82     19216\n",
      "           1       0.82      0.83      0.82     19216\n",
      "\n",
      "    accuracy                           0.82     38432\n",
      "   macro avg       0.82      0.82      0.82     38432\n",
      "weighted avg       0.82      0.82      0.82     38432\n",
      " \n",
      "\n",
      "AUC-ROC =  0.8993759580380213\n",
      "recall =  0.8260303913405496 \n",
      "\n",
      "############################################################\n",
      "Test Score:\n",
      "Confusion Matrix\n",
      "============================================================\n",
      "[[6719 1528]\n",
      " [ 139  587]] \n",
      "\n",
      "Classification Report\n",
      "============================================================\n",
      "              precision    recall  f1-score   support\n",
      "\n",
      "           0       0.98      0.81      0.89      8247\n",
      "           1       0.28      0.81      0.41       726\n",
      "\n",
      "    accuracy                           0.81      8973\n",
      "   macro avg       0.63      0.81      0.65      8973\n",
      "weighted avg       0.92      0.81      0.85      8973\n",
      " \n",
      "\n",
      "AUC-ROC= 0.8823480681346353\n",
      "recall =  0.8085399449035813 \n",
      "\n"
     ]
    }
   ],
   "source": [
    "evaluation(ada_best_sm, X_train_pca_sm, y_train_sm, X_test_pca_sm, y_test, 'AdaBoosting', 'with smote')"
   ]
  },
  {
   "cell_type": "markdown",
   "metadata": {},
   "source": [
    "## model 9 - GradientBoost without smote"
   ]
  },
  {
   "cell_type": "code",
   "execution_count": 89,
   "metadata": {},
   "outputs": [
    {
     "data": {
      "text/html": [
       "<div>\n",
       "<style scoped>\n",
       "    .dataframe tbody tr th:only-of-type {\n",
       "        vertical-align: middle;\n",
       "    }\n",
       "\n",
       "    .dataframe tbody tr th {\n",
       "        vertical-align: top;\n",
       "    }\n",
       "\n",
       "    .dataframe thead th {\n",
       "        text-align: right;\n",
       "    }\n",
       "</style>\n",
       "<table border=\"1\" class=\"dataframe\">\n",
       "  <thead>\n",
       "    <tr style=\"text-align: right;\">\n",
       "      <th></th>\n",
       "      <th>index</th>\n",
       "      <th>learning_rate</th>\n",
       "      <th>training_accuracy</th>\n",
       "      <th>validaton_accuracy</th>\n",
       "    </tr>\n",
       "  </thead>\n",
       "  <tbody>\n",
       "    <tr>\n",
       "      <th>0</th>\n",
       "      <td>0</td>\n",
       "      <td>0.05</td>\n",
       "      <td>0.92</td>\n",
       "      <td>0.92</td>\n",
       "    </tr>\n",
       "    <tr>\n",
       "      <th>1</th>\n",
       "      <td>1</td>\n",
       "      <td>0.01</td>\n",
       "      <td>0.92</td>\n",
       "      <td>0.92</td>\n",
       "    </tr>\n",
       "    <tr>\n",
       "      <th>2</th>\n",
       "      <td>2</td>\n",
       "      <td>0.10</td>\n",
       "      <td>0.92</td>\n",
       "      <td>0.92</td>\n",
       "    </tr>\n",
       "    <tr>\n",
       "      <th>3</th>\n",
       "      <td>3</td>\n",
       "      <td>0.25</td>\n",
       "      <td>0.92</td>\n",
       "      <td>0.92</td>\n",
       "    </tr>\n",
       "    <tr>\n",
       "      <th>4</th>\n",
       "      <td>4</td>\n",
       "      <td>0.50</td>\n",
       "      <td>0.93</td>\n",
       "      <td>0.92</td>\n",
       "    </tr>\n",
       "    <tr>\n",
       "      <th>5</th>\n",
       "      <td>5</td>\n",
       "      <td>0.75</td>\n",
       "      <td>0.93</td>\n",
       "      <td>0.93</td>\n",
       "    </tr>\n",
       "    <tr>\n",
       "      <th>6</th>\n",
       "      <td>6</td>\n",
       "      <td>1.00</td>\n",
       "      <td>0.93</td>\n",
       "      <td>0.92</td>\n",
       "    </tr>\n",
       "  </tbody>\n",
       "</table>\n",
       "</div>"
      ],
      "text/plain": [
       "   index  learning_rate  training_accuracy  validaton_accuracy\n",
       "0      0           0.05               0.92                0.92\n",
       "1      1           0.01               0.92                0.92\n",
       "2      2           0.10               0.92                0.92\n",
       "3      3           0.25               0.92                0.92\n",
       "4      4           0.50               0.93                0.92\n",
       "5      5           0.75               0.93                0.93\n",
       "6      6           1.00               0.93                0.92"
      ]
     },
     "execution_count": 89,
     "metadata": {},
     "output_type": "execute_result"
    }
   ],
   "source": [
    "lr = [ 0.05, 0.01,0.1, 0.25, 0.5, 0.75, 1]\n",
    "\n",
    "parameters_table=[]\n",
    "for i in lr:\n",
    "    model_gb = GradientBoostingClassifier(n_estimators=20, learning_rate =i, \n",
    "                                          max_features=5, max_depth=2,random_state=42)\n",
    "    model_gb.fit(X_train_pca, y_train)\n",
    "    accuracy_training=round(model_gb.score(X_train_pca, y_train),2)\n",
    "    accuracy_validation=round(model_gb.score(X_test_pca, y_test),2)\n",
    "    parameters_table.append([i,accuracy_training,accuracy_validation])\n",
    "\n",
    "hyper_param_df=pd.DataFrame(parameters_table).reset_index().rename(columns={0:'learning_rate',\n",
    "                                                                  1:'training_accuracy',\n",
    "                                                                 2:'validaton_accuracy'})\n",
    "\n",
    "hyper_param_df"
   ]
  },
  {
   "cell_type": "markdown",
   "metadata": {},
   "source": [
    "### best fit GradientBoost without smote"
   ]
  },
  {
   "cell_type": "code",
   "execution_count": 90,
   "metadata": {},
   "outputs": [
    {
     "data": {
      "text/plain": [
       "GradientBoostingClassifier(learning_rate=0.5, max_depth=2, max_features=5,\n",
       "                           n_estimators=20, random_state=42)"
      ]
     },
     "execution_count": 90,
     "metadata": {},
     "output_type": "execute_result"
    }
   ],
   "source": [
    "best_gb = GradientBoostingClassifier(n_estimators=20, \n",
    "                                    learning_rate=0.5, \n",
    "                                    max_features=5, \n",
    "                                    max_depth=2,\n",
    "                                    random_state=42)\n",
    " \n",
    "\n",
    "best_gb.fit(X_train_pca, y_train)"
   ]
  },
  {
   "cell_type": "code",
   "execution_count": 91,
   "metadata": {},
   "outputs": [
    {
     "name": "stdout",
     "output_type": "stream",
     "text": [
      "Train Score:\n",
      "Confusion Matrix\n",
      "============================================================\n",
      "[[19096   130]\n",
      " [ 1432   279]] \n",
      "\n",
      "Classification Report\n",
      "============================================================\n",
      "              precision    recall  f1-score   support\n",
      "\n",
      "           0       0.93      0.99      0.96     19226\n",
      "           1       0.68      0.16      0.26      1711\n",
      "\n",
      "    accuracy                           0.93     20937\n",
      "   macro avg       0.81      0.58      0.61     20937\n",
      "weighted avg       0.91      0.93      0.90     20937\n",
      " \n",
      "\n",
      "AUC-ROC =  0.8784860878110279\n",
      "recall =  0.16306253652834599 \n",
      "\n",
      "############################################################\n",
      "Test Score:\n",
      "Confusion Matrix\n",
      "============================================================\n",
      "[[8185   62]\n",
      " [ 616  110]] \n",
      "\n",
      "Classification Report\n",
      "============================================================\n",
      "              precision    recall  f1-score   support\n",
      "\n",
      "           0       0.93      0.99      0.96      8247\n",
      "           1       0.64      0.15      0.24       726\n",
      "\n",
      "    accuracy                           0.92      8973\n",
      "   macro avg       0.78      0.57      0.60      8973\n",
      "weighted avg       0.91      0.92      0.90      8973\n",
      " \n",
      "\n",
      "AUC-ROC= 0.8655213466053773\n",
      "recall =  0.15151515151515152 \n",
      "\n"
     ]
    }
   ],
   "source": [
    "evaluation(best_gb, X_train_pca, y_train, X_test_pca, y_test, 'GradientBoosting', 'without smote')"
   ]
  },
  {
   "cell_type": "markdown",
   "metadata": {},
   "source": [
    "## model 10 - GradientBoost with smote"
   ]
  },
  {
   "cell_type": "code",
   "execution_count": 92,
   "metadata": {},
   "outputs": [
    {
     "data": {
      "text/html": [
       "<div>\n",
       "<style scoped>\n",
       "    .dataframe tbody tr th:only-of-type {\n",
       "        vertical-align: middle;\n",
       "    }\n",
       "\n",
       "    .dataframe tbody tr th {\n",
       "        vertical-align: top;\n",
       "    }\n",
       "\n",
       "    .dataframe thead th {\n",
       "        text-align: right;\n",
       "    }\n",
       "</style>\n",
       "<table border=\"1\" class=\"dataframe\">\n",
       "  <thead>\n",
       "    <tr style=\"text-align: right;\">\n",
       "      <th></th>\n",
       "      <th>index</th>\n",
       "      <th>learning_rate</th>\n",
       "      <th>training_accuracy</th>\n",
       "      <th>validaton_accuracy</th>\n",
       "    </tr>\n",
       "  </thead>\n",
       "  <tbody>\n",
       "    <tr>\n",
       "      <th>0</th>\n",
       "      <td>0</td>\n",
       "      <td>0.05</td>\n",
       "      <td>0.78</td>\n",
       "      <td>0.76</td>\n",
       "    </tr>\n",
       "    <tr>\n",
       "      <th>1</th>\n",
       "      <td>1</td>\n",
       "      <td>0.01</td>\n",
       "      <td>0.77</td>\n",
       "      <td>0.75</td>\n",
       "    </tr>\n",
       "    <tr>\n",
       "      <th>2</th>\n",
       "      <td>2</td>\n",
       "      <td>0.10</td>\n",
       "      <td>0.79</td>\n",
       "      <td>0.76</td>\n",
       "    </tr>\n",
       "    <tr>\n",
       "      <th>3</th>\n",
       "      <td>3</td>\n",
       "      <td>0.25</td>\n",
       "      <td>0.80</td>\n",
       "      <td>0.78</td>\n",
       "    </tr>\n",
       "    <tr>\n",
       "      <th>4</th>\n",
       "      <td>4</td>\n",
       "      <td>0.50</td>\n",
       "      <td>0.81</td>\n",
       "      <td>0.79</td>\n",
       "    </tr>\n",
       "    <tr>\n",
       "      <th>5</th>\n",
       "      <td>5</td>\n",
       "      <td>0.75</td>\n",
       "      <td>0.81</td>\n",
       "      <td>0.79</td>\n",
       "    </tr>\n",
       "    <tr>\n",
       "      <th>6</th>\n",
       "      <td>6</td>\n",
       "      <td>1.00</td>\n",
       "      <td>0.82</td>\n",
       "      <td>0.79</td>\n",
       "    </tr>\n",
       "  </tbody>\n",
       "</table>\n",
       "</div>"
      ],
      "text/plain": [
       "   index  learning_rate  training_accuracy  validaton_accuracy\n",
       "0      0           0.05               0.78                0.76\n",
       "1      1           0.01               0.77                0.75\n",
       "2      2           0.10               0.79                0.76\n",
       "3      3           0.25               0.80                0.78\n",
       "4      4           0.50               0.81                0.79\n",
       "5      5           0.75               0.81                0.79\n",
       "6      6           1.00               0.82                0.79"
      ]
     },
     "execution_count": 92,
     "metadata": {},
     "output_type": "execute_result"
    }
   ],
   "source": [
    "lr = [ 0.05, 0.01,0.1, 0.25, 0.5, 0.75, 1]\n",
    "\n",
    "parameters_table=[]\n",
    "for i in lr:\n",
    "    model_gb = GradientBoostingClassifier(n_estimators=20, learning_rate =i, \n",
    "                                          max_features=5, max_depth=2,random_state=42)\n",
    "    model_gb.fit(X_train_pca_sm, y_train_sm)\n",
    "    accuracy_training=round(model_gb.score(X_train_pca_sm, y_train_sm),2)\n",
    "    accuracy_validation=round(model_gb.score(X_test_pca_sm, y_test),2)\n",
    "    parameters_table.append([i,accuracy_training,accuracy_validation])\n",
    "\n",
    "hyper_param_df=pd.DataFrame(parameters_table).reset_index().rename(columns={0:'learning_rate',\n",
    "                                                                  1:'training_accuracy',\n",
    "                                                                 2:'validaton_accuracy'})\n",
    "\n",
    "hyper_param_df"
   ]
  },
  {
   "cell_type": "markdown",
   "metadata": {},
   "source": [
    "### Best fit GradientBoost with smote"
   ]
  },
  {
   "cell_type": "code",
   "execution_count": 93,
   "metadata": {},
   "outputs": [
    {
     "data": {
      "text/plain": [
       "GradientBoostingClassifier(learning_rate=0.5, max_depth=2, max_features=5,\n",
       "                           n_estimators=20, random_state=42)"
      ]
     },
     "execution_count": 93,
     "metadata": {},
     "output_type": "execute_result"
    }
   ],
   "source": [
    "best_gb_sm = GradientBoostingClassifier(n_estimators=20, \n",
    "                                    learning_rate=0.5, \n",
    "                                    max_features=5, \n",
    "                                    max_depth=2,\n",
    "                                    random_state=42)\n",
    " \n",
    "\n",
    "best_gb_sm.fit(X_train_pca_sm, y_train_sm)"
   ]
  },
  {
   "cell_type": "code",
   "execution_count": 94,
   "metadata": {},
   "outputs": [
    {
     "name": "stdout",
     "output_type": "stream",
     "text": [
      "Train Score:\n",
      "Confusion Matrix\n",
      "============================================================\n",
      "[[15330  3886]\n",
      " [ 3439 15777]] \n",
      "\n",
      "Classification Report\n",
      "============================================================\n",
      "              precision    recall  f1-score   support\n",
      "\n",
      "           0       0.82      0.80      0.81     19216\n",
      "           1       0.80      0.82      0.81     19216\n",
      "\n",
      "    accuracy                           0.81     38432\n",
      "   macro avg       0.81      0.81      0.81     38432\n",
      "weighted avg       0.81      0.81      0.81     38432\n",
      " \n",
      "\n",
      "AUC-ROC =  0.8872676015762955\n",
      "recall =  0.8210345545378851 \n",
      "\n",
      "############################################################\n",
      "Test Score:\n",
      "Confusion Matrix\n",
      "============================================================\n",
      "[[6517 1730]\n",
      " [ 166  560]] \n",
      "\n",
      "Classification Report\n",
      "============================================================\n",
      "              precision    recall  f1-score   support\n",
      "\n",
      "           0       0.98      0.79      0.87      8247\n",
      "           1       0.24      0.77      0.37       726\n",
      "\n",
      "    accuracy                           0.79      8973\n",
      "   macro avg       0.61      0.78      0.62      8973\n",
      "weighted avg       0.92      0.79      0.83      8973\n",
      " \n",
      "\n",
      "AUC-ROC= 0.8554631770263902\n",
      "recall =  0.7713498622589532 \n",
      "\n"
     ]
    }
   ],
   "source": [
    "evaluation(best_gb_sm, X_train_pca_sm, y_train_sm, X_test_pca_sm, y_test, 'GradientBoosting', 'with smote')"
   ]
  },
  {
   "cell_type": "markdown",
   "metadata": {},
   "source": [
    "# Model comparison:\n",
    "    Models are compared with without smote."
   ]
  },
  {
   "cell_type": "code",
   "execution_count": 95,
   "metadata": {},
   "outputs": [
    {
     "data": {
      "text/html": [
       "<div>\n",
       "<style scoped>\n",
       "    .dataframe tbody tr th:only-of-type {\n",
       "        vertical-align: middle;\n",
       "    }\n",
       "\n",
       "    .dataframe tbody tr th {\n",
       "        vertical-align: top;\n",
       "    }\n",
       "\n",
       "    .dataframe thead th {\n",
       "        text-align: right;\n",
       "    }\n",
       "</style>\n",
       "<table border=\"1\" class=\"dataframe\">\n",
       "  <thead>\n",
       "    <tr style=\"text-align: right;\">\n",
       "      <th></th>\n",
       "      <th>model</th>\n",
       "      <th>resample</th>\n",
       "      <th>precision_train</th>\n",
       "      <th>recall_train</th>\n",
       "      <th>f1-score_train</th>\n",
       "      <th>AUC-ROC_train</th>\n",
       "      <th>precision_test</th>\n",
       "      <th>recall_test</th>\n",
       "      <th>f1-score_test</th>\n",
       "      <th>AUC-ROC_test</th>\n",
       "    </tr>\n",
       "  </thead>\n",
       "  <tbody>\n",
       "    <tr>\n",
       "      <th>0</th>\n",
       "      <td>Logitic Regression</td>\n",
       "      <td>without smote</td>\n",
       "      <td>0.282966</td>\n",
       "      <td>0.834015</td>\n",
       "      <td>0.422564</td>\n",
       "      <td>0.894081</td>\n",
       "      <td>0.285118</td>\n",
       "      <td>0.847107</td>\n",
       "      <td>0.426639</td>\n",
       "      <td>0.901384</td>\n",
       "    </tr>\n",
       "    <tr>\n",
       "      <th>1</th>\n",
       "      <td>Logitic Regression</td>\n",
       "      <td>with smote</td>\n",
       "      <td>0.822874</td>\n",
       "      <td>0.857046</td>\n",
       "      <td>0.839613</td>\n",
       "      <td>0.907158</td>\n",
       "      <td>0.288606</td>\n",
       "      <td>0.844353</td>\n",
       "      <td>0.430175</td>\n",
       "      <td>0.901896</td>\n",
       "    </tr>\n",
       "    <tr>\n",
       "      <th>2</th>\n",
       "      <td>Decision Tree</td>\n",
       "      <td>without smote</td>\n",
       "      <td>0.638384</td>\n",
       "      <td>0.184687</td>\n",
       "      <td>0.286491</td>\n",
       "      <td>0.827651</td>\n",
       "      <td>0.431373</td>\n",
       "      <td>0.151515</td>\n",
       "      <td>0.224261</td>\n",
       "      <td>0.792797</td>\n",
       "    </tr>\n",
       "    <tr>\n",
       "      <th>3</th>\n",
       "      <td>Decision Tree</td>\n",
       "      <td>with smote</td>\n",
       "      <td>0.920558</td>\n",
       "      <td>0.947960</td>\n",
       "      <td>0.934058</td>\n",
       "      <td>0.978163</td>\n",
       "      <td>0.262707</td>\n",
       "      <td>0.590909</td>\n",
       "      <td>0.363713</td>\n",
       "      <td>0.770610</td>\n",
       "    </tr>\n",
       "    <tr>\n",
       "      <th>4</th>\n",
       "      <td>Random Forest</td>\n",
       "      <td>without smote</td>\n",
       "      <td>0.995876</td>\n",
       "      <td>0.564582</td>\n",
       "      <td>0.720627</td>\n",
       "      <td>0.996063</td>\n",
       "      <td>0.657143</td>\n",
       "      <td>0.158402</td>\n",
       "      <td>0.255272</td>\n",
       "      <td>0.875419</td>\n",
       "    </tr>\n",
       "    <tr>\n",
       "      <th>5</th>\n",
       "      <td>Random Forest</td>\n",
       "      <td>with smote</td>\n",
       "      <td>0.973148</td>\n",
       "      <td>0.995785</td>\n",
       "      <td>0.984336</td>\n",
       "      <td>0.998774</td>\n",
       "      <td>0.432584</td>\n",
       "      <td>0.636364</td>\n",
       "      <td>0.515050</td>\n",
       "      <td>0.888087</td>\n",
       "    </tr>\n",
       "    <tr>\n",
       "      <th>6</th>\n",
       "      <td>AdaBoosting</td>\n",
       "      <td>without smote</td>\n",
       "      <td>0.665768</td>\n",
       "      <td>0.144360</td>\n",
       "      <td>0.237272</td>\n",
       "      <td>0.894660</td>\n",
       "      <td>0.650350</td>\n",
       "      <td>0.128099</td>\n",
       "      <td>0.214039</td>\n",
       "      <td>0.885977</td>\n",
       "    </tr>\n",
       "    <tr>\n",
       "      <th>7</th>\n",
       "      <td>AdaBoosting</td>\n",
       "      <td>with smote</td>\n",
       "      <td>0.822137</td>\n",
       "      <td>0.826030</td>\n",
       "      <td>0.824079</td>\n",
       "      <td>0.899376</td>\n",
       "      <td>0.277541</td>\n",
       "      <td>0.808540</td>\n",
       "      <td>0.413235</td>\n",
       "      <td>0.882348</td>\n",
       "    </tr>\n",
       "    <tr>\n",
       "      <th>8</th>\n",
       "      <td>GradientBoosting</td>\n",
       "      <td>without smote</td>\n",
       "      <td>0.682152</td>\n",
       "      <td>0.163063</td>\n",
       "      <td>0.263208</td>\n",
       "      <td>0.878486</td>\n",
       "      <td>0.639535</td>\n",
       "      <td>0.151515</td>\n",
       "      <td>0.244989</td>\n",
       "      <td>0.865521</td>\n",
       "    </tr>\n",
       "    <tr>\n",
       "      <th>9</th>\n",
       "      <td>GradientBoosting</td>\n",
       "      <td>with smote</td>\n",
       "      <td>0.802370</td>\n",
       "      <td>0.821035</td>\n",
       "      <td>0.811595</td>\n",
       "      <td>0.887268</td>\n",
       "      <td>0.244541</td>\n",
       "      <td>0.771350</td>\n",
       "      <td>0.371353</td>\n",
       "      <td>0.855463</td>\n",
       "    </tr>\n",
       "  </tbody>\n",
       "</table>\n",
       "</div>"
      ],
      "text/plain": [
       "                model       resample  precision_train  recall_train  \\\n",
       "0  Logitic Regression  without smote         0.282966      0.834015   \n",
       "1  Logitic Regression     with smote         0.822874      0.857046   \n",
       "2       Decision Tree  without smote         0.638384      0.184687   \n",
       "3       Decision Tree     with smote         0.920558      0.947960   \n",
       "4       Random Forest  without smote         0.995876      0.564582   \n",
       "5       Random Forest     with smote         0.973148      0.995785   \n",
       "6         AdaBoosting  without smote         0.665768      0.144360   \n",
       "7         AdaBoosting     with smote         0.822137      0.826030   \n",
       "8    GradientBoosting  without smote         0.682152      0.163063   \n",
       "9    GradientBoosting     with smote         0.802370      0.821035   \n",
       "\n",
       "   f1-score_train  AUC-ROC_train  precision_test  recall_test  f1-score_test  \\\n",
       "0        0.422564       0.894081        0.285118     0.847107       0.426639   \n",
       "1        0.839613       0.907158        0.288606     0.844353       0.430175   \n",
       "2        0.286491       0.827651        0.431373     0.151515       0.224261   \n",
       "3        0.934058       0.978163        0.262707     0.590909       0.363713   \n",
       "4        0.720627       0.996063        0.657143     0.158402       0.255272   \n",
       "5        0.984336       0.998774        0.432584     0.636364       0.515050   \n",
       "6        0.237272       0.894660        0.650350     0.128099       0.214039   \n",
       "7        0.824079       0.899376        0.277541     0.808540       0.413235   \n",
       "8        0.263208       0.878486        0.639535     0.151515       0.244989   \n",
       "9        0.811595       0.887268        0.244541     0.771350       0.371353   \n",
       "\n",
       "   AUC-ROC_test  \n",
       "0      0.901384  \n",
       "1      0.901896  \n",
       "2      0.792797  \n",
       "3      0.770610  \n",
       "4      0.875419  \n",
       "5      0.888087  \n",
       "6      0.885977  \n",
       "7      0.882348  \n",
       "8      0.865521  \n",
       "9      0.855463  "
      ]
     },
     "execution_count": 95,
     "metadata": {},
     "output_type": "execute_result"
    }
   ],
   "source": [
    "eval_df = pd.DataFrame({'model':model,\n",
    "                            'resample':sample,\n",
    "                            'precision_train':precision_train,\n",
    "                            'recall_train':recall_train,\n",
    "                            'f1-score_train':F1score_train,\n",
    "                            'AUC-ROC_train':AUCROC_train,\n",
    "                       'precision_test':precision_test,\n",
    "                            'recall_test':recall_test,\n",
    "                            'f1-score_test':F1score_test,\n",
    "                            'AUC-ROC_test':AUCROC_test})\n",
    "eval_df"
   ]
  },
  {
   "cell_type": "markdown",
   "metadata": {},
   "source": [
    "Models performed well after smote."
   ]
  },
  {
   "cell_type": "markdown",
   "metadata": {},
   "source": [
    "### Best models after smote:\n",
    "    1. logisic Regression: \n",
    "        train -> recall = 0.85 , auc-roc= 0.90\n",
    "        test  -> recall = 0.84 , auc-roc= 0.90\n",
    "    2. Adaboosting: \n",
    "        train -> recall = 0.82 , auc-roc= 0.89\n",
    "        test  -> recall = 0.80 , auc-roc= 0.88"
   ]
  },
  {
   "cell_type": "markdown",
   "metadata": {},
   "source": [
    "## Important churn predictors: \n",
    "        Found before performing pca."
   ]
  },
  {
   "cell_type": "code",
   "execution_count": 96,
   "metadata": {},
   "outputs": [
    {
     "data": {
      "image/png": "[encoded data removed]",
      "text/plain": [
       "<Figure size 720x576 with 1 Axes>"
      ]
     },
     "metadata": {
      "needs_background": "light"
     },
     "output_type": "display_data"
    }
   ],
   "source": [
    "plt.figure(figsize=(10,8))\n",
    "plt.barh(feature_importance_rf['feature'].iloc[:25,],width=feature_importance_rf['importance'].iloc[:25,])\n",
    "plt.title('The top 25 important variables from Random Forest are ')\n",
    "plt.show()"
   ]
  },
  {
   "cell_type": "markdown",
   "metadata": {},
   "source": [
    "     - most of the top predictors are related to the 'action' phase (third month) of the customer lifecycle."
   ]
  },
  {
   "cell_type": "markdown",
   "metadata": {},
   "source": [
    "#### strategies to manage churn:\n",
    "    1.free local and std mou\n",
    "    2.reducing recharge amount\n",
    "    3.Discounts on data packs\n",
    "    4.Improvement on roaming services\n",
    "    "
   ]
  }
 ],
 "metadata": {
  "kernelspec": {
   "display_name": "Python 3",
   "language": "python",
   "name": "python3"
  },
  "language_info": {
   "codemirror_mode": {
    "name": "ipython",
    "version": 3
   },
   "file_extension": ".py",
   "mimetype": "text/x-python",
   "name": "python",
   "nbconvert_exporter": "python",
   "pygments_lexer": "ipython3",
   "version": "3.8.5"
  }
 },
 "nbformat": 4,
 "nbformat_minor": 4
}
